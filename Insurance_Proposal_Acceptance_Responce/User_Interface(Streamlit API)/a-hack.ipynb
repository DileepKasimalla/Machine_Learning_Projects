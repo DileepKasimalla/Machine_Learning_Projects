{
 "cells": [
  {
   "cell_type": "code",
   "execution_count": 1,
   "metadata": {
    "execution": {
     "iopub.execute_input": "2023-04-16T14:32:34.989118Z",
     "iopub.status.busy": "2023-04-16T14:32:34.988722Z",
     "iopub.status.idle": "2023-04-16T14:32:39.398879Z",
     "shell.execute_reply": "2023-04-16T14:32:39.397828Z",
     "shell.execute_reply.started": "2023-04-16T14:32:34.989084Z"
    }
   },
   "outputs": [],
   "source": [
    "#importing required libraries\n",
    "import numpy as np\n",
    "import pandas as pd\n",
    "%matplotlib inline\n",
    "import matplotlib.pyplot as plt  \n",
    "import seaborn as sns\n",
    "import plotly.express as px\n",
    "# warnings\n",
    "import warnings \n",
    "warnings.filterwarnings('ignore')"
   ]
  },
  {
   "cell_type": "code",
   "execution_count": 2,
   "metadata": {
    "execution": {
     "iopub.execute_input": "2023-04-16T14:32:43.742373Z",
     "iopub.status.busy": "2023-04-16T14:32:43.741908Z",
     "iopub.status.idle": "2023-04-16T14:32:43.895979Z",
     "shell.execute_reply": "2023-04-16T14:32:43.894979Z",
     "shell.execute_reply.started": "2023-04-16T14:32:43.742337Z"
    }
   },
   "outputs": [
    {
     "data": {
      "text/html": [
       "<div>\n",
       "<style scoped>\n",
       "    .dataframe tbody tr th:only-of-type {\n",
       "        vertical-align: middle;\n",
       "    }\n",
       "\n",
       "    .dataframe tbody tr th {\n",
       "        vertical-align: top;\n",
       "    }\n",
       "\n",
       "    .dataframe thead th {\n",
       "        text-align: right;\n",
       "    }\n",
       "</style>\n",
       "<table border=\"1\" class=\"dataframe\">\n",
       "  <thead>\n",
       "    <tr style=\"text-align: right;\">\n",
       "      <th></th>\n",
       "      <th>Proposal_ID</th>\n",
       "      <th>Town_Code</th>\n",
       "      <th>Location_Code</th>\n",
       "      <th>House_Type</th>\n",
       "      <th>Proposed_Insurance_Type</th>\n",
       "      <th>Max_Age</th>\n",
       "      <th>Min_Age</th>\n",
       "      <th>Whether_Spouse</th>\n",
       "      <th>Health_Benchmark</th>\n",
       "      <th>Policy_Holding_Duration</th>\n",
       "      <th>Policy_Holding_Type</th>\n",
       "      <th>Proposed_Health_Insurance_Category</th>\n",
       "      <th>Proposed_Health_Insurance_Premium</th>\n",
       "      <th>Proposal_Acceptance_Response</th>\n",
       "    </tr>\n",
       "  </thead>\n",
       "  <tbody>\n",
       "    <tr>\n",
       "      <th>0</th>\n",
       "      <td>1</td>\n",
       "      <td>C3</td>\n",
       "      <td>3213</td>\n",
       "      <td>Rented</td>\n",
       "      <td>Individual</td>\n",
       "      <td>36</td>\n",
       "      <td>36</td>\n",
       "      <td>No</td>\n",
       "      <td>X1</td>\n",
       "      <td>14+</td>\n",
       "      <td>3.0</td>\n",
       "      <td>22</td>\n",
       "      <td>11628.0</td>\n",
       "      <td>0</td>\n",
       "    </tr>\n",
       "    <tr>\n",
       "      <th>1</th>\n",
       "      <td>2</td>\n",
       "      <td>C5</td>\n",
       "      <td>1117</td>\n",
       "      <td>Owned</td>\n",
       "      <td>Joint</td>\n",
       "      <td>75</td>\n",
       "      <td>22</td>\n",
       "      <td>No</td>\n",
       "      <td>X2</td>\n",
       "      <td>NaN</td>\n",
       "      <td>NaN</td>\n",
       "      <td>22</td>\n",
       "      <td>30510.0</td>\n",
       "      <td>0</td>\n",
       "    </tr>\n",
       "    <tr>\n",
       "      <th>2</th>\n",
       "      <td>3</td>\n",
       "      <td>C5</td>\n",
       "      <td>3732</td>\n",
       "      <td>Owned</td>\n",
       "      <td>Individual</td>\n",
       "      <td>32</td>\n",
       "      <td>32</td>\n",
       "      <td>No</td>\n",
       "      <td>NaN</td>\n",
       "      <td>1</td>\n",
       "      <td>1.0</td>\n",
       "      <td>19</td>\n",
       "      <td>7450.0</td>\n",
       "      <td>1</td>\n",
       "    </tr>\n",
       "    <tr>\n",
       "      <th>3</th>\n",
       "      <td>4</td>\n",
       "      <td>C24</td>\n",
       "      <td>4378</td>\n",
       "      <td>Owned</td>\n",
       "      <td>Joint</td>\n",
       "      <td>52</td>\n",
       "      <td>48</td>\n",
       "      <td>No</td>\n",
       "      <td>X1</td>\n",
       "      <td>14+</td>\n",
       "      <td>3.0</td>\n",
       "      <td>19</td>\n",
       "      <td>17780.0</td>\n",
       "      <td>0</td>\n",
       "    </tr>\n",
       "    <tr>\n",
       "      <th>4</th>\n",
       "      <td>5</td>\n",
       "      <td>C8</td>\n",
       "      <td>2190</td>\n",
       "      <td>Rented</td>\n",
       "      <td>Individual</td>\n",
       "      <td>44</td>\n",
       "      <td>44</td>\n",
       "      <td>No</td>\n",
       "      <td>X2</td>\n",
       "      <td>3</td>\n",
       "      <td>1.0</td>\n",
       "      <td>16</td>\n",
       "      <td>10404.0</td>\n",
       "      <td>0</td>\n",
       "    </tr>\n",
       "    <tr>\n",
       "      <th>...</th>\n",
       "      <td>...</td>\n",
       "      <td>...</td>\n",
       "      <td>...</td>\n",
       "      <td>...</td>\n",
       "      <td>...</td>\n",
       "      <td>...</td>\n",
       "      <td>...</td>\n",
       "      <td>...</td>\n",
       "      <td>...</td>\n",
       "      <td>...</td>\n",
       "      <td>...</td>\n",
       "      <td>...</td>\n",
       "      <td>...</td>\n",
       "      <td>...</td>\n",
       "    </tr>\n",
       "    <tr>\n",
       "      <th>50877</th>\n",
       "      <td>50878</td>\n",
       "      <td>C4</td>\n",
       "      <td>845</td>\n",
       "      <td>Rented</td>\n",
       "      <td>Individual</td>\n",
       "      <td>22</td>\n",
       "      <td>22</td>\n",
       "      <td>No</td>\n",
       "      <td>X3</td>\n",
       "      <td>NaN</td>\n",
       "      <td>NaN</td>\n",
       "      <td>18</td>\n",
       "      <td>7704.0</td>\n",
       "      <td>0</td>\n",
       "    </tr>\n",
       "    <tr>\n",
       "      <th>50878</th>\n",
       "      <td>50879</td>\n",
       "      <td>C5</td>\n",
       "      <td>4188</td>\n",
       "      <td>Rented</td>\n",
       "      <td>Individual</td>\n",
       "      <td>27</td>\n",
       "      <td>27</td>\n",
       "      <td>No</td>\n",
       "      <td>X3</td>\n",
       "      <td>7</td>\n",
       "      <td>3.0</td>\n",
       "      <td>4</td>\n",
       "      <td>5408.0</td>\n",
       "      <td>0</td>\n",
       "    </tr>\n",
       "    <tr>\n",
       "      <th>50879</th>\n",
       "      <td>50880</td>\n",
       "      <td>C1</td>\n",
       "      <td>442</td>\n",
       "      <td>Rented</td>\n",
       "      <td>Individual</td>\n",
       "      <td>63</td>\n",
       "      <td>63</td>\n",
       "      <td>No</td>\n",
       "      <td>X2</td>\n",
       "      <td>14+</td>\n",
       "      <td>1.0</td>\n",
       "      <td>12</td>\n",
       "      <td>11374.0</td>\n",
       "      <td>0</td>\n",
       "    </tr>\n",
       "    <tr>\n",
       "      <th>50880</th>\n",
       "      <td>50881</td>\n",
       "      <td>C1</td>\n",
       "      <td>4</td>\n",
       "      <td>Owned</td>\n",
       "      <td>Joint</td>\n",
       "      <td>71</td>\n",
       "      <td>49</td>\n",
       "      <td>No</td>\n",
       "      <td>X2</td>\n",
       "      <td>2</td>\n",
       "      <td>2.0</td>\n",
       "      <td>16</td>\n",
       "      <td>28179.2</td>\n",
       "      <td>1</td>\n",
       "    </tr>\n",
       "    <tr>\n",
       "      <th>50881</th>\n",
       "      <td>50882</td>\n",
       "      <td>C3</td>\n",
       "      <td>3866</td>\n",
       "      <td>Rented</td>\n",
       "      <td>Individual</td>\n",
       "      <td>24</td>\n",
       "      <td>24</td>\n",
       "      <td>No</td>\n",
       "      <td>X3</td>\n",
       "      <td>2</td>\n",
       "      <td>3.0</td>\n",
       "      <td>18</td>\n",
       "      <td>11424.0</td>\n",
       "      <td>0</td>\n",
       "    </tr>\n",
       "  </tbody>\n",
       "</table>\n",
       "<p>50882 rows × 14 columns</p>\n",
       "</div>"
      ],
      "text/plain": [
       "       Proposal_ID Town_Code  Location_Code House_Type  \\\n",
       "0                1        C3           3213     Rented   \n",
       "1                2        C5           1117      Owned   \n",
       "2                3        C5           3732      Owned   \n",
       "3                4       C24           4378      Owned   \n",
       "4                5        C8           2190     Rented   \n",
       "...            ...       ...            ...        ...   \n",
       "50877        50878        C4            845     Rented   \n",
       "50878        50879        C5           4188     Rented   \n",
       "50879        50880        C1            442     Rented   \n",
       "50880        50881        C1              4      Owned   \n",
       "50881        50882        C3           3866     Rented   \n",
       "\n",
       "      Proposed_Insurance_Type   Max_Age  Min_Age Whether_Spouse  \\\n",
       "0                   Individual       36       36             No   \n",
       "1                        Joint       75       22             No   \n",
       "2                   Individual       32       32             No   \n",
       "3                        Joint       52       48             No   \n",
       "4                   Individual       44       44             No   \n",
       "...                        ...      ...      ...            ...   \n",
       "50877               Individual       22       22             No   \n",
       "50878               Individual       27       27             No   \n",
       "50879               Individual       63       63             No   \n",
       "50880                    Joint       71       49             No   \n",
       "50881               Individual       24       24             No   \n",
       "\n",
       "      Health_Benchmark Policy_Holding_Duration  Policy_Holding_Type  \\\n",
       "0                   X1                     14+                  3.0   \n",
       "1                   X2                     NaN                  NaN   \n",
       "2                  NaN                       1                  1.0   \n",
       "3                   X1                     14+                  3.0   \n",
       "4                   X2                       3                  1.0   \n",
       "...                ...                     ...                  ...   \n",
       "50877               X3                     NaN                  NaN   \n",
       "50878               X3                       7                  3.0   \n",
       "50879               X2                     14+                  1.0   \n",
       "50880               X2                       2                  2.0   \n",
       "50881               X3                       2                  3.0   \n",
       "\n",
       "       Proposed_Health_Insurance_Category  Proposed_Health_Insurance_Premium  \\\n",
       "0                                      22                            11628.0   \n",
       "1                                      22                            30510.0   \n",
       "2                                      19                             7450.0   \n",
       "3                                      19                            17780.0   \n",
       "4                                      16                            10404.0   \n",
       "...                                   ...                                ...   \n",
       "50877                                  18                             7704.0   \n",
       "50878                                   4                             5408.0   \n",
       "50879                                  12                            11374.0   \n",
       "50880                                  16                            28179.2   \n",
       "50881                                  18                            11424.0   \n",
       "\n",
       "       Proposal_Acceptance_Response  \n",
       "0                                 0  \n",
       "1                                 0  \n",
       "2                                 1  \n",
       "3                                 0  \n",
       "4                                 0  \n",
       "...                             ...  \n",
       "50877                             0  \n",
       "50878                             0  \n",
       "50879                             0  \n",
       "50880                             1  \n",
       "50881                             0  \n",
       "\n",
       "[50882 rows x 14 columns]"
      ]
     },
     "execution_count": 2,
     "metadata": {},
     "output_type": "execute_result"
    }
   ],
   "source": [
    "train = pd.read_csv(\"train.csv\")\n",
    "train"
   ]
  },
  {
   "cell_type": "code",
   "execution_count": 3,
   "metadata": {
    "execution": {
     "iopub.execute_input": "2023-04-16T14:32:46.290526Z",
     "iopub.status.busy": "2023-04-16T14:32:46.289820Z",
     "iopub.status.idle": "2023-04-16T14:32:46.299185Z",
     "shell.execute_reply": "2023-04-16T14:32:46.297451Z",
     "shell.execute_reply.started": "2023-04-16T14:32:46.290486Z"
    }
   },
   "outputs": [
    {
     "data": {
      "text/plain": [
       "(50882, 14)"
      ]
     },
     "execution_count": 3,
     "metadata": {},
     "output_type": "execute_result"
    }
   ],
   "source": [
    "train.shape"
   ]
  },
  {
   "cell_type": "code",
   "execution_count": 4,
   "metadata": {
    "execution": {
     "iopub.execute_input": "2023-04-16T14:32:47.907225Z",
     "iopub.status.busy": "2023-04-16T14:32:47.906743Z",
     "iopub.status.idle": "2023-04-16T14:32:47.927530Z",
     "shell.execute_reply": "2023-04-16T14:32:47.926065Z",
     "shell.execute_reply.started": "2023-04-16T14:32:47.907189Z"
    }
   },
   "outputs": [
    {
     "data": {
      "text/plain": [
       "1     4499\n",
       "14    4335\n",
       "2     4260\n",
       "3     3586\n",
       "4     2771\n",
       "5     2362\n",
       "6     1894\n",
       "7     1645\n",
       "8     1316\n",
       "9     1114\n",
       "10     813\n",
       "11     546\n",
       "12     513\n",
       "13     511\n",
       "14     466\n",
       "Name: Policy_Holding_Duration, dtype: int64"
      ]
     },
     "execution_count": 4,
     "metadata": {},
     "output_type": "execute_result"
    }
   ],
   "source": [
    "# replacing the 14+ value to 14 in Policy_Holding_Duration column\n",
    "train[\"Policy_Holding_Duration\"] = train[\"Policy_Holding_Duration\"].replace('14+', 14)        \n",
    "train[\"Policy_Holding_Duration\"].value_counts()"
   ]
  },
  {
   "cell_type": "code",
   "execution_count": 5,
   "metadata": {
    "execution": {
     "iopub.execute_input": "2023-04-16T14:32:49.954235Z",
     "iopub.status.busy": "2023-04-16T14:32:49.953131Z",
     "iopub.status.idle": "2023-04-16T14:32:49.962808Z",
     "shell.execute_reply": "2023-04-16T14:32:49.961578Z",
     "shell.execute_reply.started": "2023-04-16T14:32:49.954186Z"
    }
   },
   "outputs": [
    {
     "data": {
      "text/plain": [
       "Proposal_ID                             int64\n",
       "Town_Code                              object\n",
       "Location_Code                           int64\n",
       "House_Type                             object\n",
       "Proposed_Insurance_Type                object\n",
       "Max_Age                                 int64\n",
       "Min_Age                                 int64\n",
       "Whether_Spouse                         object\n",
       "Health_Benchmark                       object\n",
       "Policy_Holding_Duration                object\n",
       "Policy_Holding_Type                   float64\n",
       "Proposed_Health_Insurance_Category      int64\n",
       "Proposed_Health_Insurance_Premium     float64\n",
       "Proposal_Acceptance_Response            int64\n",
       "dtype: object"
      ]
     },
     "execution_count": 5,
     "metadata": {},
     "output_type": "execute_result"
    }
   ],
   "source": [
    "train.dtypes"
   ]
  },
  {
   "cell_type": "code",
   "execution_count": 6,
   "metadata": {
    "execution": {
     "iopub.execute_input": "2023-04-16T14:33:04.633253Z",
     "iopub.status.busy": "2023-04-16T14:33:04.632874Z",
     "iopub.status.idle": "2023-04-16T14:33:04.640813Z",
     "shell.execute_reply": "2023-04-16T14:33:04.639590Z",
     "shell.execute_reply.started": "2023-04-16T14:33:04.633220Z"
    }
   },
   "outputs": [
    {
     "data": {
      "text/plain": [
       "Index(['Proposal_ID', 'Town_Code', 'Location_Code', 'House_Type',\n",
       "       'Proposed_Insurance_Type ', 'Max_Age', 'Min_Age', 'Whether_Spouse',\n",
       "       'Health_Benchmark', 'Policy_Holding_Duration', 'Policy_Holding_Type',\n",
       "       'Proposed_Health_Insurance_Category',\n",
       "       'Proposed_Health_Insurance_Premium', 'Proposal_Acceptance_Response'],\n",
       "      dtype='object')"
      ]
     },
     "execution_count": 6,
     "metadata": {},
     "output_type": "execute_result"
    }
   ],
   "source": [
    "train.columns"
   ]
  },
  {
   "cell_type": "code",
   "execution_count": 7,
   "metadata": {
    "execution": {
     "iopub.execute_input": "2023-04-16T14:33:05.781042Z",
     "iopub.status.busy": "2023-04-16T14:33:05.780094Z",
     "iopub.status.idle": "2023-04-16T14:33:05.787945Z",
     "shell.execute_reply": "2023-04-16T14:33:05.786674Z",
     "shell.execute_reply.started": "2023-04-16T14:33:05.780977Z"
    }
   },
   "outputs": [],
   "source": [
    "cols=['Proposal_ID', 'Town_Code', 'Location_Code', 'House_Type',\n",
    "       'Proposed_Insurance_Type ','Whether_Spouse',\n",
    "       'Health_Benchmark', 'Policy_Holding_Type','Proposal_Acceptance_Response']"
   ]
  },
  {
   "cell_type": "code",
   "execution_count": 8,
   "metadata": {
    "execution": {
     "iopub.execute_input": "2023-04-16T14:33:06.976097Z",
     "iopub.status.busy": "2023-04-16T14:33:06.975482Z",
     "iopub.status.idle": "2023-04-16T14:33:07.023416Z",
     "shell.execute_reply": "2023-04-16T14:33:07.022352Z",
     "shell.execute_reply.started": "2023-04-16T14:33:06.976054Z"
    }
   },
   "outputs": [],
   "source": [
    "train[cols]=train[cols].astype('category')"
   ]
  },
  {
   "cell_type": "code",
   "execution_count": 9,
   "metadata": {
    "execution": {
     "iopub.execute_input": "2023-04-16T14:33:08.308175Z",
     "iopub.status.busy": "2023-04-16T14:33:08.307423Z",
     "iopub.status.idle": "2023-04-16T14:33:08.316761Z",
     "shell.execute_reply": "2023-04-16T14:33:08.315632Z",
     "shell.execute_reply.started": "2023-04-16T14:33:08.308114Z"
    }
   },
   "outputs": [
    {
     "data": {
      "text/plain": [
       "Proposal_ID                           category\n",
       "Town_Code                             category\n",
       "Location_Code                         category\n",
       "House_Type                            category\n",
       "Proposed_Insurance_Type               category\n",
       "Max_Age                                  int64\n",
       "Min_Age                                  int64\n",
       "Whether_Spouse                        category\n",
       "Health_Benchmark                      category\n",
       "Policy_Holding_Duration                 object\n",
       "Policy_Holding_Type                   category\n",
       "Proposed_Health_Insurance_Category       int64\n",
       "Proposed_Health_Insurance_Premium      float64\n",
       "Proposal_Acceptance_Response          category\n",
       "dtype: object"
      ]
     },
     "execution_count": 9,
     "metadata": {},
     "output_type": "execute_result"
    }
   ],
   "source": [
    "train.dtypes"
   ]
  },
  {
   "cell_type": "code",
   "execution_count": 10,
   "metadata": {
    "execution": {
     "iopub.execute_input": "2023-04-16T14:33:09.726073Z",
     "iopub.status.busy": "2023-04-16T14:33:09.725703Z",
     "iopub.status.idle": "2023-04-16T14:33:09.734590Z",
     "shell.execute_reply": "2023-04-16T14:33:09.733489Z",
     "shell.execute_reply.started": "2023-04-16T14:33:09.726041Z"
    }
   },
   "outputs": [],
   "source": [
    "# converting Policy_Holding_Duration object data type into float\n",
    "train[\"Policy_Holding_Duration\"] = train[\"Policy_Holding_Duration\"].astype('float')"
   ]
  },
  {
   "cell_type": "code",
   "execution_count": 11,
   "metadata": {
    "execution": {
     "iopub.execute_input": "2023-04-16T14:33:12.397974Z",
     "iopub.status.busy": "2023-04-16T14:33:12.396978Z",
     "iopub.status.idle": "2023-04-16T14:33:12.406649Z",
     "shell.execute_reply": "2023-04-16T14:33:12.405532Z",
     "shell.execute_reply.started": "2023-04-16T14:33:12.397928Z"
    }
   },
   "outputs": [
    {
     "data": {
      "text/plain": [
       "Proposal_ID                           category\n",
       "Town_Code                             category\n",
       "Location_Code                         category\n",
       "House_Type                            category\n",
       "Proposed_Insurance_Type               category\n",
       "Max_Age                                  int64\n",
       "Min_Age                                  int64\n",
       "Whether_Spouse                        category\n",
       "Health_Benchmark                      category\n",
       "Policy_Holding_Duration                float64\n",
       "Policy_Holding_Type                   category\n",
       "Proposed_Health_Insurance_Category       int64\n",
       "Proposed_Health_Insurance_Premium      float64\n",
       "Proposal_Acceptance_Response          category\n",
       "dtype: object"
      ]
     },
     "execution_count": 11,
     "metadata": {},
     "output_type": "execute_result"
    }
   ],
   "source": [
    "train.dtypes"
   ]
  },
  {
   "cell_type": "code",
   "execution_count": 12,
   "metadata": {
    "execution": {
     "iopub.execute_input": "2023-04-16T14:33:19.012266Z",
     "iopub.status.busy": "2023-04-16T14:33:19.011356Z",
     "iopub.status.idle": "2023-04-16T14:33:19.054374Z",
     "shell.execute_reply": "2023-04-16T14:33:19.053151Z",
     "shell.execute_reply.started": "2023-04-16T14:33:19.012213Z"
    }
   },
   "outputs": [
    {
     "data": {
      "text/html": [
       "<div>\n",
       "<style scoped>\n",
       "    .dataframe tbody tr th:only-of-type {\n",
       "        vertical-align: middle;\n",
       "    }\n",
       "\n",
       "    .dataframe tbody tr th {\n",
       "        vertical-align: top;\n",
       "    }\n",
       "\n",
       "    .dataframe thead th {\n",
       "        text-align: right;\n",
       "    }\n",
       "</style>\n",
       "<table border=\"1\" class=\"dataframe\">\n",
       "  <thead>\n",
       "    <tr style=\"text-align: right;\">\n",
       "      <th></th>\n",
       "      <th>count</th>\n",
       "      <th>mean</th>\n",
       "      <th>std</th>\n",
       "      <th>min</th>\n",
       "      <th>25%</th>\n",
       "      <th>50%</th>\n",
       "      <th>75%</th>\n",
       "      <th>max</th>\n",
       "    </tr>\n",
       "  </thead>\n",
       "  <tbody>\n",
       "    <tr>\n",
       "      <th>Max_Age</th>\n",
       "      <td>50882.0</td>\n",
       "      <td>44.856275</td>\n",
       "      <td>17.310271</td>\n",
       "      <td>18.0</td>\n",
       "      <td>28.0</td>\n",
       "      <td>44.0</td>\n",
       "      <td>59.0</td>\n",
       "      <td>75.0</td>\n",
       "    </tr>\n",
       "    <tr>\n",
       "      <th>Min_Age</th>\n",
       "      <td>50882.0</td>\n",
       "      <td>42.738866</td>\n",
       "      <td>17.319375</td>\n",
       "      <td>16.0</td>\n",
       "      <td>27.0</td>\n",
       "      <td>40.0</td>\n",
       "      <td>57.0</td>\n",
       "      <td>75.0</td>\n",
       "    </tr>\n",
       "    <tr>\n",
       "      <th>Policy_Holding_Duration</th>\n",
       "      <td>30631.0</td>\n",
       "      <td>6.015246</td>\n",
       "      <td>4.501648</td>\n",
       "      <td>1.0</td>\n",
       "      <td>2.0</td>\n",
       "      <td>5.0</td>\n",
       "      <td>9.0</td>\n",
       "      <td>14.0</td>\n",
       "    </tr>\n",
       "    <tr>\n",
       "      <th>Proposed_Health_Insurance_Category</th>\n",
       "      <td>50882.0</td>\n",
       "      <td>15.115188</td>\n",
       "      <td>6.340663</td>\n",
       "      <td>1.0</td>\n",
       "      <td>12.0</td>\n",
       "      <td>17.0</td>\n",
       "      <td>20.0</td>\n",
       "      <td>22.0</td>\n",
       "    </tr>\n",
       "    <tr>\n",
       "      <th>Proposed_Health_Insurance_Premium</th>\n",
       "      <td>50882.0</td>\n",
       "      <td>14183.950069</td>\n",
       "      <td>6590.074873</td>\n",
       "      <td>2280.0</td>\n",
       "      <td>9248.0</td>\n",
       "      <td>13178.0</td>\n",
       "      <td>18096.0</td>\n",
       "      <td>43350.4</td>\n",
       "    </tr>\n",
       "  </tbody>\n",
       "</table>\n",
       "</div>"
      ],
      "text/plain": [
       "                                      count          mean          std  \\\n",
       "Max_Age                             50882.0     44.856275    17.310271   \n",
       "Min_Age                             50882.0     42.738866    17.319375   \n",
       "Policy_Holding_Duration             30631.0      6.015246     4.501648   \n",
       "Proposed_Health_Insurance_Category  50882.0     15.115188     6.340663   \n",
       "Proposed_Health_Insurance_Premium   50882.0  14183.950069  6590.074873   \n",
       "\n",
       "                                       min     25%      50%      75%      max  \n",
       "Max_Age                               18.0    28.0     44.0     59.0     75.0  \n",
       "Min_Age                               16.0    27.0     40.0     57.0     75.0  \n",
       "Policy_Holding_Duration                1.0     2.0      5.0      9.0     14.0  \n",
       "Proposed_Health_Insurance_Category     1.0    12.0     17.0     20.0     22.0  \n",
       "Proposed_Health_Insurance_Premium   2280.0  9248.0  13178.0  18096.0  43350.4  "
      ]
     },
     "execution_count": 12,
     "metadata": {},
     "output_type": "execute_result"
    }
   ],
   "source": [
    "train.describe().T"
   ]
  },
  {
   "cell_type": "code",
   "execution_count": 13,
   "metadata": {
    "execution": {
     "iopub.execute_input": "2023-04-16T14:33:21.170200Z",
     "iopub.status.busy": "2023-04-16T14:33:21.169804Z",
     "iopub.status.idle": "2023-04-16T14:33:21.201075Z",
     "shell.execute_reply": "2023-04-16T14:33:21.199895Z",
     "shell.execute_reply.started": "2023-04-16T14:33:21.170164Z"
    }
   },
   "outputs": [
    {
     "data": {
      "text/plain": [
       "0"
      ]
     },
     "execution_count": 13,
     "metadata": {},
     "output_type": "execute_result"
    }
   ],
   "source": [
    "train.duplicated().sum()"
   ]
  },
  {
   "cell_type": "code",
   "execution_count": 14,
   "metadata": {
    "execution": {
     "iopub.execute_input": "2023-04-16T14:33:22.597406Z",
     "iopub.status.busy": "2023-04-16T14:33:22.596700Z",
     "iopub.status.idle": "2023-04-16T14:33:22.609635Z",
     "shell.execute_reply": "2023-04-16T14:33:22.608263Z",
     "shell.execute_reply.started": "2023-04-16T14:33:22.597366Z"
    }
   },
   "outputs": [
    {
     "data": {
      "text/plain": [
       "0    76.005267\n",
       "1    23.994733\n",
       "Name: Proposal_Acceptance_Response, dtype: float64"
      ]
     },
     "execution_count": 14,
     "metadata": {},
     "output_type": "execute_result"
    }
   ],
   "source": [
    "train[\"Proposal_Acceptance_Response\"].value_counts(normalize = True)*100"
   ]
  },
  {
   "cell_type": "code",
   "execution_count": 15,
   "metadata": {
    "execution": {
     "iopub.execute_input": "2023-04-16T14:33:23.916403Z",
     "iopub.status.busy": "2023-04-16T14:33:23.915559Z",
     "iopub.status.idle": "2023-04-16T14:33:24.169790Z",
     "shell.execute_reply": "2023-04-16T14:33:24.168803Z",
     "shell.execute_reply.started": "2023-04-16T14:33:23.916365Z"
    }
   },
   "outputs": [
    {
     "data": {
      "image/png": "[encoded data removed]",
      "text/plain": [
       "<Figure size 432x288 with 1 Axes>"
      ]
     },
     "metadata": {
      "needs_background": "light"
     },
     "output_type": "display_data"
    }
   ],
   "source": [
    "# create count plot\n",
    "ax = sns.countplot(x=\"Proposal_Acceptance_Response\", hue = \"Proposal_Acceptance_Response\", data=train)\n",
    "\n",
    "# add numbers on top of bars\n",
    "ax = plt.gca()\n",
    "for p in ax.patches:\n",
    "    ax.annotate(f\"{p.get_height():.0f}\", (p.get_x() + p.get_width() / 2, p.get_height()), ha='center', va='bottom')\n",
    "\n",
    "# display plot\n",
    "plt.show()"
   ]
  },
  {
   "cell_type": "code",
   "execution_count": 16,
   "metadata": {
    "execution": {
     "iopub.execute_input": "2023-04-16T14:33:25.789237Z",
     "iopub.status.busy": "2023-04-16T14:33:25.788257Z",
     "iopub.status.idle": "2023-04-16T14:33:26.005503Z",
     "shell.execute_reply": "2023-04-16T14:33:26.004489Z",
     "shell.execute_reply.started": "2023-04-16T14:33:25.789185Z"
    }
   },
   "outputs": [
    {
     "data": {
      "image/png": "[encoded data removed]",
      "text/plain": [
       "<Figure size 432x288 with 1 Axes>"
      ]
     },
     "metadata": {
      "needs_background": "light"
     },
     "output_type": "display_data"
    }
   ],
   "source": [
    "# create count plot\n",
    "ax = sns.countplot(x=\"House_Type\", hue = \"House_Type\", data=train)\n",
    "\n",
    "# add numbers on top of bars\n",
    "ax = plt.gca()\n",
    "for p in ax.patches:\n",
    "    ax.annotate(f\"{p.get_height():.0f}\", (p.get_x() + p.get_width() / 2, p.get_height()), ha='center', va='bottom')\n",
    "\n",
    "# display plot\n",
    "plt.show()"
   ]
  },
  {
   "cell_type": "code",
   "execution_count": 17,
   "metadata": {
    "execution": {
     "iopub.execute_input": "2023-04-16T14:33:27.225483Z",
     "iopub.status.busy": "2023-04-16T14:33:27.224772Z",
     "iopub.status.idle": "2023-04-16T14:33:27.235474Z",
     "shell.execute_reply": "2023-04-16T14:33:27.234269Z",
     "shell.execute_reply.started": "2023-04-16T14:33:27.225444Z"
    }
   },
   "outputs": [
    {
     "data": {
      "text/plain": [
       "3.0    13279\n",
       "1.0     8173\n",
       "2.0     5005\n",
       "4.0     4174\n",
       "Name: Policy_Holding_Type, dtype: int64"
      ]
     },
     "execution_count": 17,
     "metadata": {},
     "output_type": "execute_result"
    }
   ],
   "source": [
    "train[\"Policy_Holding_Type\"].value_counts()"
   ]
  },
  {
   "cell_type": "code",
   "execution_count": 18,
   "metadata": {
    "execution": {
     "iopub.execute_input": "2023-04-16T14:33:45.869976Z",
     "iopub.status.busy": "2023-04-16T14:33:45.868943Z",
     "iopub.status.idle": "2023-04-16T14:33:46.182962Z",
     "shell.execute_reply": "2023-04-16T14:33:46.181929Z",
     "shell.execute_reply.started": "2023-04-16T14:33:45.869925Z"
    }
   },
   "outputs": [
    {
     "data": {
      "image/png": "[encoded data removed]",
      "text/plain": [
       "<Figure size 432x288 with 1 Axes>"
      ]
     },
     "metadata": {
      "needs_background": "light"
     },
     "output_type": "display_data"
    }
   ],
   "source": [
    "# create count plot\n",
    "sns.countplot(x=\"Policy_Holding_Type\", hue = \"Policy_Holding_Type\", data=train)\n",
    "\n",
    "# add numbers on top of bars\n",
    "ax = plt.gca()\n",
    "for p in ax.patches:\n",
    "    ax.annotate(f\"{p.get_height():.0f}\", (p.get_x() + p.get_width() / 2, p.get_height()), ha='center', va='bottom')\n",
    "\n",
    "# display plot\n",
    "plt.show()"
   ]
  },
  {
   "cell_type": "code",
   "execution_count": 19,
   "metadata": {
    "execution": {
     "iopub.execute_input": "2023-04-16T14:34:00.904229Z",
     "iopub.status.busy": "2023-04-16T14:34:00.903812Z",
     "iopub.status.idle": "2023-04-16T14:34:00.915332Z",
     "shell.execute_reply": "2023-04-16T14:34:00.914193Z",
     "shell.execute_reply.started": "2023-04-16T14:34:00.904194Z"
    }
   },
   "outputs": [],
   "source": [
    "import missingno as msno"
   ]
  },
  {
   "cell_type": "code",
   "execution_count": 20,
   "metadata": {
    "execution": {
     "iopub.execute_input": "2023-04-16T14:34:02.164259Z",
     "iopub.status.busy": "2023-04-16T14:34:02.163258Z",
     "iopub.status.idle": "2023-04-16T14:34:03.432434Z",
     "shell.execute_reply": "2023-04-16T14:34:03.431411Z",
     "shell.execute_reply.started": "2023-04-16T14:34:02.164208Z"
    }
   },
   "outputs": [
    {
     "data": {
      "text/plain": [
       "<matplotlib.axes._subplots.AxesSubplot at 0x7fd1edbbab90>"
      ]
     },
     "execution_count": 20,
     "metadata": {},
     "output_type": "execute_result"
    },
    {
     "data": {
      "image/png": "[encoded data removed]",
      "text/plain": [
       "<Figure size 1800x720 with 3 Axes>"
      ]
     },
     "metadata": {
      "needs_background": "light"
     },
     "output_type": "display_data"
    }
   ],
   "source": [
    "msno.bar(train)"
   ]
  },
  {
   "cell_type": "code",
   "execution_count": 21,
   "metadata": {
    "execution": {
     "iopub.execute_input": "2023-04-16T14:34:03.434245Z",
     "iopub.status.busy": "2023-04-16T14:34:03.433876Z",
     "iopub.status.idle": "2023-04-16T14:34:03.450708Z",
     "shell.execute_reply": "2023-04-16T14:34:03.450052Z",
     "shell.execute_reply.started": "2023-04-16T14:34:03.434208Z"
    }
   },
   "outputs": [
    {
     "data": {
      "text/plain": [
       "Proposal_ID                            0.00\n",
       "Town_Code                              0.00\n",
       "Location_Code                          0.00\n",
       "House_Type                             0.00\n",
       "Proposed_Insurance_Type                0.00\n",
       "Max_Age                                0.00\n",
       "Min_Age                                0.00\n",
       "Whether_Spouse                         0.00\n",
       "Health_Benchmark                      22.98\n",
       "Policy_Holding_Duration               39.80\n",
       "Policy_Holding_Type                   39.80\n",
       "Proposed_Health_Insurance_Category     0.00\n",
       "Proposed_Health_Insurance_Premium      0.00\n",
       "Proposal_Acceptance_Response           0.00\n",
       "dtype: float64"
      ]
     },
     "execution_count": 21,
     "metadata": {},
     "output_type": "execute_result"
    }
   ],
   "source": [
    "nulls = train.isnull().sum()*100/len(train)\n",
    "nulls = nulls.round(2)\n",
    "nulls"
   ]
  },
  {
   "cell_type": "code",
   "execution_count": 22,
   "metadata": {
    "execution": {
     "iopub.execute_input": "2023-04-16T14:34:04.685215Z",
     "iopub.status.busy": "2023-04-16T14:34:04.683997Z",
     "iopub.status.idle": "2023-04-16T14:34:04.690259Z",
     "shell.execute_reply": "2023-04-16T14:34:04.689029Z",
     "shell.execute_reply.started": "2023-04-16T14:34:04.685167Z"
    }
   },
   "outputs": [],
   "source": [
    "from scipy.stats import chi2_contingency"
   ]
  },
  {
   "cell_type": "code",
   "execution_count": 23,
   "metadata": {
    "execution": {
     "iopub.execute_input": "2023-04-16T14:34:13.104017Z",
     "iopub.status.busy": "2023-04-16T14:34:13.103340Z",
     "iopub.status.idle": "2023-04-16T14:34:14.087075Z",
     "shell.execute_reply": "2023-04-16T14:34:14.085974Z",
     "shell.execute_reply.started": "2023-04-16T14:34:13.103962Z"
    }
   },
   "outputs": [],
   "source": [
    "insignificant_columns = []\n",
    "for column in train.columns:\n",
    "    contingency_table = pd.crosstab(train[column], train[\"Proposal_Acceptance_Response\"])\n",
    "    chi2, p_value, dof, expected = chi2_contingency(contingency_table)\n",
    "    if p_value > 0.05: # Check if p-value is greater than 0.05\n",
    "        insignificant_columns.append(column)"
   ]
  },
  {
   "cell_type": "code",
   "execution_count": 24,
   "metadata": {
    "execution": {
     "iopub.execute_input": "2023-04-16T14:34:14.089660Z",
     "iopub.status.busy": "2023-04-16T14:34:14.089251Z",
     "iopub.status.idle": "2023-04-16T14:34:14.096863Z",
     "shell.execute_reply": "2023-04-16T14:34:14.095728Z",
     "shell.execute_reply.started": "2023-04-16T14:34:14.089625Z"
    }
   },
   "outputs": [
    {
     "name": "stdout",
     "output_type": "stream",
     "text": [
      "['Proposal_ID', 'Town_Code', 'Location_Code', 'House_Type', 'Whether_Spouse', 'Health_Benchmark', 'Policy_Holding_Type', 'Proposed_Health_Insurance_Premium']\n"
     ]
    }
   ],
   "source": [
    "print(insignificant_columns)"
   ]
  },
  {
   "cell_type": "markdown",
   "metadata": {},
   "source": [
    "## Dropping the columns based on Insignificant Columns (p>0.05)"
   ]
  },
  {
   "cell_type": "code",
   "execution_count": 25,
   "metadata": {
    "execution": {
     "iopub.execute_input": "2023-04-16T14:34:15.671525Z",
     "iopub.status.busy": "2023-04-16T14:34:15.670844Z",
     "iopub.status.idle": "2023-04-16T14:34:15.678286Z",
     "shell.execute_reply": "2023-04-16T14:34:15.677206Z",
     "shell.execute_reply.started": "2023-04-16T14:34:15.671485Z"
    }
   },
   "outputs": [
    {
     "data": {
      "text/plain": [
       "Index(['Proposal_ID', 'Town_Code', 'Location_Code', 'House_Type',\n",
       "       'Proposed_Insurance_Type ', 'Max_Age', 'Min_Age', 'Whether_Spouse',\n",
       "       'Health_Benchmark', 'Policy_Holding_Duration', 'Policy_Holding_Type',\n",
       "       'Proposed_Health_Insurance_Category',\n",
       "       'Proposed_Health_Insurance_Premium', 'Proposal_Acceptance_Response'],\n",
       "      dtype='object')"
      ]
     },
     "execution_count": 25,
     "metadata": {},
     "output_type": "execute_result"
    }
   ],
   "source": [
    "train.columns"
   ]
  },
  {
   "cell_type": "code",
   "execution_count": 26,
   "metadata": {
    "execution": {
     "iopub.execute_input": "2023-04-16T14:34:16.412753Z",
     "iopub.status.busy": "2023-04-16T14:34:16.412030Z",
     "iopub.status.idle": "2023-04-16T14:34:16.429058Z",
     "shell.execute_reply": "2023-04-16T14:34:16.427707Z",
     "shell.execute_reply.started": "2023-04-16T14:34:16.412712Z"
    }
   },
   "outputs": [
    {
     "data": {
      "text/html": [
       "<div>\n",
       "<style scoped>\n",
       "    .dataframe tbody tr th:only-of-type {\n",
       "        vertical-align: middle;\n",
       "    }\n",
       "\n",
       "    .dataframe tbody tr th {\n",
       "        vertical-align: top;\n",
       "    }\n",
       "\n",
       "    .dataframe thead th {\n",
       "        text-align: right;\n",
       "    }\n",
       "</style>\n",
       "<table border=\"1\" class=\"dataframe\">\n",
       "  <thead>\n",
       "    <tr style=\"text-align: right;\">\n",
       "      <th></th>\n",
       "      <th>Proposed_Insurance_Type</th>\n",
       "      <th>Max_Age</th>\n",
       "      <th>Min_Age</th>\n",
       "      <th>Policy_Holding_Duration</th>\n",
       "      <th>Proposed_Health_Insurance_Category</th>\n",
       "      <th>Proposal_Acceptance_Response</th>\n",
       "    </tr>\n",
       "  </thead>\n",
       "  <tbody>\n",
       "    <tr>\n",
       "      <th>0</th>\n",
       "      <td>Individual</td>\n",
       "      <td>36</td>\n",
       "      <td>36</td>\n",
       "      <td>14.0</td>\n",
       "      <td>22</td>\n",
       "      <td>0</td>\n",
       "    </tr>\n",
       "    <tr>\n",
       "      <th>1</th>\n",
       "      <td>Joint</td>\n",
       "      <td>75</td>\n",
       "      <td>22</td>\n",
       "      <td>NaN</td>\n",
       "      <td>22</td>\n",
       "      <td>0</td>\n",
       "    </tr>\n",
       "    <tr>\n",
       "      <th>2</th>\n",
       "      <td>Individual</td>\n",
       "      <td>32</td>\n",
       "      <td>32</td>\n",
       "      <td>1.0</td>\n",
       "      <td>19</td>\n",
       "      <td>1</td>\n",
       "    </tr>\n",
       "    <tr>\n",
       "      <th>3</th>\n",
       "      <td>Joint</td>\n",
       "      <td>52</td>\n",
       "      <td>48</td>\n",
       "      <td>14.0</td>\n",
       "      <td>19</td>\n",
       "      <td>0</td>\n",
       "    </tr>\n",
       "    <tr>\n",
       "      <th>4</th>\n",
       "      <td>Individual</td>\n",
       "      <td>44</td>\n",
       "      <td>44</td>\n",
       "      <td>3.0</td>\n",
       "      <td>16</td>\n",
       "      <td>0</td>\n",
       "    </tr>\n",
       "  </tbody>\n",
       "</table>\n",
       "</div>"
      ],
      "text/plain": [
       "  Proposed_Insurance_Type   Max_Age  Min_Age  Policy_Holding_Duration  \\\n",
       "0               Individual       36       36                     14.0   \n",
       "1                    Joint       75       22                      NaN   \n",
       "2               Individual       32       32                      1.0   \n",
       "3                    Joint       52       48                     14.0   \n",
       "4               Individual       44       44                      3.0   \n",
       "\n",
       "   Proposed_Health_Insurance_Category Proposal_Acceptance_Response  \n",
       "0                                  22                            0  \n",
       "1                                  22                            0  \n",
       "2                                  19                            1  \n",
       "3                                  19                            0  \n",
       "4                                  16                            0  "
      ]
     },
     "execution_count": 26,
     "metadata": {},
     "output_type": "execute_result"
    }
   ],
   "source": [
    "train.drop(['Proposal_ID','Town_Code', 'Location_Code', 'House_Type', 'Whether_Spouse', 'Health_Benchmark', 'Policy_Holding_Type', 'Proposed_Health_Insurance_Premium'],axis =1, inplace = True)\n",
    "train.head()"
   ]
  },
  {
   "cell_type": "code",
   "execution_count": 27,
   "metadata": {
    "execution": {
     "iopub.execute_input": "2023-04-16T14:34:16.924964Z",
     "iopub.status.busy": "2023-04-16T14:34:16.924616Z",
     "iopub.status.idle": "2023-04-16T14:34:16.931778Z",
     "shell.execute_reply": "2023-04-16T14:34:16.930664Z",
     "shell.execute_reply.started": "2023-04-16T14:34:16.924934Z"
    }
   },
   "outputs": [
    {
     "data": {
      "text/plain": [
       "(50882, 6)"
      ]
     },
     "execution_count": 27,
     "metadata": {},
     "output_type": "execute_result"
    }
   ],
   "source": [
    "train.shape"
   ]
  },
  {
   "cell_type": "code",
   "execution_count": 28,
   "metadata": {
    "execution": {
     "iopub.execute_input": "2023-04-16T14:34:17.177630Z",
     "iopub.status.busy": "2023-04-16T14:34:17.176974Z",
     "iopub.status.idle": "2023-04-16T14:34:17.533881Z",
     "shell.execute_reply": "2023-04-16T14:34:17.532864Z",
     "shell.execute_reply.started": "2023-04-16T14:34:17.177595Z"
    }
   },
   "outputs": [
    {
     "data": {
      "text/plain": [
       "<matplotlib.axes._subplots.AxesSubplot at 0x7fd1edc42e90>"
      ]
     },
     "execution_count": 28,
     "metadata": {},
     "output_type": "execute_result"
    },
    {
     "data": {
      "image/png": "[encoded data removed]",
      "text/plain": [
       "<Figure size 576x576 with 2 Axes>"
      ]
     },
     "metadata": {
      "needs_background": "light"
     },
     "output_type": "display_data"
    }
   ],
   "source": [
    "fig, ax = plt.subplots(figsize=(8, 8))\n",
    "sns.heatmap(train.corr(), annot = True, cmap = \"Greens\", ax=ax)"
   ]
  },
  {
   "cell_type": "markdown",
   "metadata": {},
   "source": [
    "## Dropping the columns based on coorelation"
   ]
  },
  {
   "cell_type": "code",
   "execution_count": 29,
   "metadata": {
    "execution": {
     "iopub.execute_input": "2023-04-16T14:34:17.967852Z",
     "iopub.status.busy": "2023-04-16T14:34:17.967484Z",
     "iopub.status.idle": "2023-04-16T14:34:17.984970Z",
     "shell.execute_reply": "2023-04-16T14:34:17.983802Z",
     "shell.execute_reply.started": "2023-04-16T14:34:17.967820Z"
    }
   },
   "outputs": [
    {
     "data": {
      "text/html": [
       "<div>\n",
       "<style scoped>\n",
       "    .dataframe tbody tr th:only-of-type {\n",
       "        vertical-align: middle;\n",
       "    }\n",
       "\n",
       "    .dataframe tbody tr th {\n",
       "        vertical-align: top;\n",
       "    }\n",
       "\n",
       "    .dataframe thead th {\n",
       "        text-align: right;\n",
       "    }\n",
       "</style>\n",
       "<table border=\"1\" class=\"dataframe\">\n",
       "  <thead>\n",
       "    <tr style=\"text-align: right;\">\n",
       "      <th></th>\n",
       "      <th>Proposed_Insurance_Type</th>\n",
       "      <th>Max_Age</th>\n",
       "      <th>Policy_Holding_Duration</th>\n",
       "      <th>Proposed_Health_Insurance_Category</th>\n",
       "      <th>Proposal_Acceptance_Response</th>\n",
       "    </tr>\n",
       "  </thead>\n",
       "  <tbody>\n",
       "    <tr>\n",
       "      <th>0</th>\n",
       "      <td>Individual</td>\n",
       "      <td>36</td>\n",
       "      <td>14.0</td>\n",
       "      <td>22</td>\n",
       "      <td>0</td>\n",
       "    </tr>\n",
       "    <tr>\n",
       "      <th>1</th>\n",
       "      <td>Joint</td>\n",
       "      <td>75</td>\n",
       "      <td>NaN</td>\n",
       "      <td>22</td>\n",
       "      <td>0</td>\n",
       "    </tr>\n",
       "    <tr>\n",
       "      <th>2</th>\n",
       "      <td>Individual</td>\n",
       "      <td>32</td>\n",
       "      <td>1.0</td>\n",
       "      <td>19</td>\n",
       "      <td>1</td>\n",
       "    </tr>\n",
       "    <tr>\n",
       "      <th>3</th>\n",
       "      <td>Joint</td>\n",
       "      <td>52</td>\n",
       "      <td>14.0</td>\n",
       "      <td>19</td>\n",
       "      <td>0</td>\n",
       "    </tr>\n",
       "    <tr>\n",
       "      <th>4</th>\n",
       "      <td>Individual</td>\n",
       "      <td>44</td>\n",
       "      <td>3.0</td>\n",
       "      <td>16</td>\n",
       "      <td>0</td>\n",
       "    </tr>\n",
       "  </tbody>\n",
       "</table>\n",
       "</div>"
      ],
      "text/plain": [
       "  Proposed_Insurance_Type   Max_Age  Policy_Holding_Duration  \\\n",
       "0               Individual       36                     14.0   \n",
       "1                    Joint       75                      NaN   \n",
       "2               Individual       32                      1.0   \n",
       "3                    Joint       52                     14.0   \n",
       "4               Individual       44                      3.0   \n",
       "\n",
       "   Proposed_Health_Insurance_Category Proposal_Acceptance_Response  \n",
       "0                                  22                            0  \n",
       "1                                  22                            0  \n",
       "2                                  19                            1  \n",
       "3                                  19                            0  \n",
       "4                                  16                            0  "
      ]
     },
     "execution_count": 29,
     "metadata": {},
     "output_type": "execute_result"
    }
   ],
   "source": [
    "train.drop([\"Min_Age\"],axis = 1, inplace = True)\n",
    "train.head()"
   ]
  },
  {
   "cell_type": "code",
   "execution_count": 30,
   "metadata": {
    "execution": {
     "iopub.execute_input": "2023-04-16T14:34:18.309911Z",
     "iopub.status.busy": "2023-04-16T14:34:18.309573Z",
     "iopub.status.idle": "2023-04-16T14:34:18.316795Z",
     "shell.execute_reply": "2023-04-16T14:34:18.315697Z",
     "shell.execute_reply.started": "2023-04-16T14:34:18.309882Z"
    }
   },
   "outputs": [
    {
     "data": {
      "text/plain": [
       "(50882, 5)"
      ]
     },
     "execution_count": 30,
     "metadata": {},
     "output_type": "execute_result"
    }
   ],
   "source": [
    "train.shape"
   ]
  },
  {
   "cell_type": "code",
   "execution_count": 31,
   "metadata": {
    "execution": {
     "iopub.execute_input": "2023-04-16T14:34:18.751775Z",
     "iopub.status.busy": "2023-04-16T14:34:18.751415Z",
     "iopub.status.idle": "2023-04-16T14:34:18.759331Z",
     "shell.execute_reply": "2023-04-16T14:34:18.758212Z",
     "shell.execute_reply.started": "2023-04-16T14:34:18.751743Z"
    }
   },
   "outputs": [
    {
     "data": {
      "text/plain": [
       "Index(['Proposed_Insurance_Type ', 'Max_Age', 'Policy_Holding_Duration',\n",
       "       'Proposed_Health_Insurance_Category', 'Proposal_Acceptance_Response'],\n",
       "      dtype='object')"
      ]
     },
     "execution_count": 31,
     "metadata": {},
     "output_type": "execute_result"
    }
   ],
   "source": [
    "train.columns"
   ]
  },
  {
   "cell_type": "code",
   "execution_count": 32,
   "metadata": {
    "execution": {
     "iopub.execute_input": "2023-04-16T14:34:19.224534Z",
     "iopub.status.busy": "2023-04-16T14:34:19.223621Z",
     "iopub.status.idle": "2023-04-16T14:34:19.230117Z",
     "shell.execute_reply": "2023-04-16T14:34:19.229133Z",
     "shell.execute_reply.started": "2023-04-16T14:34:19.224481Z"
    }
   },
   "outputs": [],
   "source": [
    "num_cols = [\"Max_Age\",\"Policy_Holding_Duration\",\"Proposed_Health_Insurance_Category\"]\n",
    "cat_cols = [\"Proposed_Insurance_Type \"]"
   ]
  },
  {
   "cell_type": "code",
   "execution_count": 33,
   "metadata": {
    "execution": {
     "iopub.execute_input": "2023-04-16T14:34:19.631955Z",
     "iopub.status.busy": "2023-04-16T14:34:19.631236Z",
     "iopub.status.idle": "2023-04-16T14:34:20.492158Z",
     "shell.execute_reply": "2023-04-16T14:34:20.490982Z",
     "shell.execute_reply.started": "2023-04-16T14:34:19.631919Z"
    }
   },
   "outputs": [
    {
     "data": {
      "text/plain": [
       "<matplotlib.axes._subplots.AxesSubplot at 0x7fd1ed8b8a10>"
      ]
     },
     "execution_count": 33,
     "metadata": {},
     "output_type": "execute_result"
    },
    {
     "data": {
      "image/png": "[encoded data removed]",
      "text/plain": [
       "<Figure size 1800x720 with 3 Axes>"
      ]
     },
     "metadata": {
      "needs_background": "light"
     },
     "output_type": "display_data"
    }
   ],
   "source": [
    "msno.bar(train)"
   ]
  },
  {
   "cell_type": "code",
   "execution_count": 34,
   "metadata": {
    "execution": {
     "iopub.execute_input": "2023-04-16T14:34:20.495507Z",
     "iopub.status.busy": "2023-04-16T14:34:20.494274Z",
     "iopub.status.idle": "2023-04-16T14:34:20.503142Z",
     "shell.execute_reply": "2023-04-16T14:34:20.501779Z",
     "shell.execute_reply.started": "2023-04-16T14:34:20.495463Z"
    }
   },
   "outputs": [],
   "source": [
    "X = train.drop([\"Proposal_Acceptance_Response\"],axis = 1)\n",
    "y = train[\"Proposal_Acceptance_Response\"]"
   ]
  },
  {
   "cell_type": "code",
   "execution_count": 35,
   "metadata": {
    "execution": {
     "iopub.execute_input": "2023-04-16T14:34:20.505589Z",
     "iopub.status.busy": "2023-04-16T14:34:20.504646Z",
     "iopub.status.idle": "2023-04-16T14:34:20.528095Z",
     "shell.execute_reply": "2023-04-16T14:34:20.526819Z",
     "shell.execute_reply.started": "2023-04-16T14:34:20.505550Z"
    }
   },
   "outputs": [
    {
     "data": {
      "text/html": [
       "<div>\n",
       "<style scoped>\n",
       "    .dataframe tbody tr th:only-of-type {\n",
       "        vertical-align: middle;\n",
       "    }\n",
       "\n",
       "    .dataframe tbody tr th {\n",
       "        vertical-align: top;\n",
       "    }\n",
       "\n",
       "    .dataframe thead th {\n",
       "        text-align: right;\n",
       "    }\n",
       "</style>\n",
       "<table border=\"1\" class=\"dataframe\">\n",
       "  <thead>\n",
       "    <tr style=\"text-align: right;\">\n",
       "      <th></th>\n",
       "      <th>Proposed_Insurance_Type</th>\n",
       "      <th>Max_Age</th>\n",
       "      <th>Policy_Holding_Duration</th>\n",
       "      <th>Proposed_Health_Insurance_Category</th>\n",
       "    </tr>\n",
       "  </thead>\n",
       "  <tbody>\n",
       "    <tr>\n",
       "      <th>0</th>\n",
       "      <td>Individual</td>\n",
       "      <td>36</td>\n",
       "      <td>14.0</td>\n",
       "      <td>22</td>\n",
       "    </tr>\n",
       "    <tr>\n",
       "      <th>1</th>\n",
       "      <td>Joint</td>\n",
       "      <td>75</td>\n",
       "      <td>NaN</td>\n",
       "      <td>22</td>\n",
       "    </tr>\n",
       "    <tr>\n",
       "      <th>2</th>\n",
       "      <td>Individual</td>\n",
       "      <td>32</td>\n",
       "      <td>1.0</td>\n",
       "      <td>19</td>\n",
       "    </tr>\n",
       "    <tr>\n",
       "      <th>3</th>\n",
       "      <td>Joint</td>\n",
       "      <td>52</td>\n",
       "      <td>14.0</td>\n",
       "      <td>19</td>\n",
       "    </tr>\n",
       "    <tr>\n",
       "      <th>4</th>\n",
       "      <td>Individual</td>\n",
       "      <td>44</td>\n",
       "      <td>3.0</td>\n",
       "      <td>16</td>\n",
       "    </tr>\n",
       "    <tr>\n",
       "      <th>...</th>\n",
       "      <td>...</td>\n",
       "      <td>...</td>\n",
       "      <td>...</td>\n",
       "      <td>...</td>\n",
       "    </tr>\n",
       "    <tr>\n",
       "      <th>50877</th>\n",
       "      <td>Individual</td>\n",
       "      <td>22</td>\n",
       "      <td>NaN</td>\n",
       "      <td>18</td>\n",
       "    </tr>\n",
       "    <tr>\n",
       "      <th>50878</th>\n",
       "      <td>Individual</td>\n",
       "      <td>27</td>\n",
       "      <td>7.0</td>\n",
       "      <td>4</td>\n",
       "    </tr>\n",
       "    <tr>\n",
       "      <th>50879</th>\n",
       "      <td>Individual</td>\n",
       "      <td>63</td>\n",
       "      <td>14.0</td>\n",
       "      <td>12</td>\n",
       "    </tr>\n",
       "    <tr>\n",
       "      <th>50880</th>\n",
       "      <td>Joint</td>\n",
       "      <td>71</td>\n",
       "      <td>2.0</td>\n",
       "      <td>16</td>\n",
       "    </tr>\n",
       "    <tr>\n",
       "      <th>50881</th>\n",
       "      <td>Individual</td>\n",
       "      <td>24</td>\n",
       "      <td>2.0</td>\n",
       "      <td>18</td>\n",
       "    </tr>\n",
       "  </tbody>\n",
       "</table>\n",
       "<p>50882 rows × 4 columns</p>\n",
       "</div>"
      ],
      "text/plain": [
       "      Proposed_Insurance_Type   Max_Age  Policy_Holding_Duration  \\\n",
       "0                   Individual       36                     14.0   \n",
       "1                        Joint       75                      NaN   \n",
       "2                   Individual       32                      1.0   \n",
       "3                        Joint       52                     14.0   \n",
       "4                   Individual       44                      3.0   \n",
       "...                        ...      ...                      ...   \n",
       "50877               Individual       22                      NaN   \n",
       "50878               Individual       27                      7.0   \n",
       "50879               Individual       63                     14.0   \n",
       "50880                    Joint       71                      2.0   \n",
       "50881               Individual       24                      2.0   \n",
       "\n",
       "       Proposed_Health_Insurance_Category  \n",
       "0                                      22  \n",
       "1                                      22  \n",
       "2                                      19  \n",
       "3                                      19  \n",
       "4                                      16  \n",
       "...                                   ...  \n",
       "50877                                  18  \n",
       "50878                                   4  \n",
       "50879                                  12  \n",
       "50880                                  16  \n",
       "50881                                  18  \n",
       "\n",
       "[50882 rows x 4 columns]"
      ]
     },
     "execution_count": 35,
     "metadata": {},
     "output_type": "execute_result"
    }
   ],
   "source": [
    "X"
   ]
  },
  {
   "cell_type": "code",
   "execution_count": 36,
   "metadata": {
    "execution": {
     "iopub.execute_input": "2023-04-16T14:34:20.655628Z",
     "iopub.status.busy": "2023-04-16T14:34:20.655295Z",
     "iopub.status.idle": "2023-04-16T14:34:20.670305Z",
     "shell.execute_reply": "2023-04-16T14:34:20.669237Z",
     "shell.execute_reply.started": "2023-04-16T14:34:20.655598Z"
    }
   },
   "outputs": [
    {
     "data": {
      "text/html": [
       "<div>\n",
       "<style scoped>\n",
       "    .dataframe tbody tr th:only-of-type {\n",
       "        vertical-align: middle;\n",
       "    }\n",
       "\n",
       "    .dataframe tbody tr th {\n",
       "        vertical-align: top;\n",
       "    }\n",
       "\n",
       "    .dataframe thead th {\n",
       "        text-align: right;\n",
       "    }\n",
       "</style>\n",
       "<table border=\"1\" class=\"dataframe\">\n",
       "  <thead>\n",
       "    <tr style=\"text-align: right;\">\n",
       "      <th></th>\n",
       "      <th>Proposal_Acceptance_Response</th>\n",
       "    </tr>\n",
       "  </thead>\n",
       "  <tbody>\n",
       "    <tr>\n",
       "      <th>0</th>\n",
       "      <td>0</td>\n",
       "    </tr>\n",
       "    <tr>\n",
       "      <th>1</th>\n",
       "      <td>0</td>\n",
       "    </tr>\n",
       "    <tr>\n",
       "      <th>2</th>\n",
       "      <td>1</td>\n",
       "    </tr>\n",
       "    <tr>\n",
       "      <th>3</th>\n",
       "      <td>0</td>\n",
       "    </tr>\n",
       "    <tr>\n",
       "      <th>4</th>\n",
       "      <td>0</td>\n",
       "    </tr>\n",
       "    <tr>\n",
       "      <th>...</th>\n",
       "      <td>...</td>\n",
       "    </tr>\n",
       "    <tr>\n",
       "      <th>50877</th>\n",
       "      <td>0</td>\n",
       "    </tr>\n",
       "    <tr>\n",
       "      <th>50878</th>\n",
       "      <td>0</td>\n",
       "    </tr>\n",
       "    <tr>\n",
       "      <th>50879</th>\n",
       "      <td>0</td>\n",
       "    </tr>\n",
       "    <tr>\n",
       "      <th>50880</th>\n",
       "      <td>1</td>\n",
       "    </tr>\n",
       "    <tr>\n",
       "      <th>50881</th>\n",
       "      <td>0</td>\n",
       "    </tr>\n",
       "  </tbody>\n",
       "</table>\n",
       "<p>50882 rows × 1 columns</p>\n",
       "</div>"
      ],
      "text/plain": [
       "      Proposal_Acceptance_Response\n",
       "0                                0\n",
       "1                                0\n",
       "2                                1\n",
       "3                                0\n",
       "4                                0\n",
       "...                            ...\n",
       "50877                            0\n",
       "50878                            0\n",
       "50879                            0\n",
       "50880                            1\n",
       "50881                            0\n",
       "\n",
       "[50882 rows x 1 columns]"
      ]
     },
     "execution_count": 36,
     "metadata": {},
     "output_type": "execute_result"
    }
   ],
   "source": [
    "pd.DataFrame(y)"
   ]
  },
  {
   "cell_type": "code",
   "execution_count": 37,
   "metadata": {
    "execution": {
     "iopub.execute_input": "2023-04-16T14:34:20.982506Z",
     "iopub.status.busy": "2023-04-16T14:34:20.981590Z",
     "iopub.status.idle": "2023-04-16T14:34:21.009395Z",
     "shell.execute_reply": "2023-04-16T14:34:21.008198Z",
     "shell.execute_reply.started": "2023-04-16T14:34:20.982458Z"
    }
   },
   "outputs": [
    {
     "data": {
      "text/plain": [
       "Max_Age                               0\n",
       "Policy_Holding_Duration               0\n",
       "Proposed_Health_Insurance_Category    0\n",
       "dtype: int64"
      ]
     },
     "execution_count": 37,
     "metadata": {},
     "output_type": "execute_result"
    }
   ],
   "source": [
    "# detecting ouliers for all before removing \n",
    "Q1 = train[num_cols].quantile(0.25)\n",
    "Q3 = train[num_cols].quantile(0.75)\n",
    "IQR = Q3-Q1\n",
    "\n",
    "before_rvm_outliers = ((train[num_cols]<(Q1-1.5*IQR)) | (train[num_cols]>(Q3+1.5*IQR))).sum()\n",
    "before_rvm_outliers"
   ]
  },
  {
   "cell_type": "code",
   "execution_count": 38,
   "metadata": {
    "execution": {
     "iopub.execute_input": "2023-04-16T14:34:21.356781Z",
     "iopub.status.busy": "2023-04-16T14:34:21.356079Z",
     "iopub.status.idle": "2023-04-16T14:34:21.507003Z",
     "shell.execute_reply": "2023-04-16T14:34:21.505785Z",
     "shell.execute_reply.started": "2023-04-16T14:34:21.356741Z"
    }
   },
   "outputs": [],
   "source": [
    "from sklearn.model_selection import train_test_split\n",
    "X_train, X_val, y_train, y_val = train_test_split(X,y, stratify = y,test_size=0.3,random_state=107)"
   ]
  },
  {
   "cell_type": "code",
   "execution_count": 39,
   "metadata": {
    "execution": {
     "iopub.execute_input": "2023-04-16T14:34:21.662674Z",
     "iopub.status.busy": "2023-04-16T14:34:21.662327Z",
     "iopub.status.idle": "2023-04-16T14:34:21.669554Z",
     "shell.execute_reply": "2023-04-16T14:34:21.668221Z",
     "shell.execute_reply.started": "2023-04-16T14:34:21.662642Z"
    }
   },
   "outputs": [
    {
     "name": "stdout",
     "output_type": "stream",
     "text": [
      "X_train is :    (35617, 4)\n",
      "X_val is   :    (15265, 4)\n",
      "y_train is :    (35617,)\n",
      "y_val is   :    (15265,)\n"
     ]
    }
   ],
   "source": [
    "print(\"X_train is :   \", X_train.shape)\n",
    "print(\"X_val is   :   \", X_val.shape)\n",
    "print(\"y_train is :   \", y_train.shape)\n",
    "print(\"y_val is   :   \", y_val.shape)"
   ]
  },
  {
   "cell_type": "code",
   "execution_count": 40,
   "metadata": {
    "execution": {
     "iopub.execute_input": "2023-04-16T14:34:22.005396Z",
     "iopub.status.busy": "2023-04-16T14:34:22.004710Z",
     "iopub.status.idle": "2023-04-16T14:34:22.023509Z",
     "shell.execute_reply": "2023-04-16T14:34:22.022195Z",
     "shell.execute_reply.started": "2023-04-16T14:34:22.005358Z"
    }
   },
   "outputs": [
    {
     "data": {
      "text/html": [
       "<div>\n",
       "<style scoped>\n",
       "    .dataframe tbody tr th:only-of-type {\n",
       "        vertical-align: middle;\n",
       "    }\n",
       "\n",
       "    .dataframe tbody tr th {\n",
       "        vertical-align: top;\n",
       "    }\n",
       "\n",
       "    .dataframe thead th {\n",
       "        text-align: right;\n",
       "    }\n",
       "</style>\n",
       "<table border=\"1\" class=\"dataframe\">\n",
       "  <thead>\n",
       "    <tr style=\"text-align: right;\">\n",
       "      <th></th>\n",
       "      <th>Proposed_Insurance_Type</th>\n",
       "      <th>Max_Age</th>\n",
       "      <th>Policy_Holding_Duration</th>\n",
       "      <th>Proposed_Health_Insurance_Category</th>\n",
       "    </tr>\n",
       "  </thead>\n",
       "  <tbody>\n",
       "    <tr>\n",
       "      <th>35053</th>\n",
       "      <td>Individual</td>\n",
       "      <td>20</td>\n",
       "      <td>NaN</td>\n",
       "      <td>15</td>\n",
       "    </tr>\n",
       "    <tr>\n",
       "      <th>48575</th>\n",
       "      <td>Individual</td>\n",
       "      <td>61</td>\n",
       "      <td>14.0</td>\n",
       "      <td>22</td>\n",
       "    </tr>\n",
       "    <tr>\n",
       "      <th>27173</th>\n",
       "      <td>Individual</td>\n",
       "      <td>26</td>\n",
       "      <td>2.0</td>\n",
       "      <td>17</td>\n",
       "    </tr>\n",
       "    <tr>\n",
       "      <th>15143</th>\n",
       "      <td>Individual</td>\n",
       "      <td>26</td>\n",
       "      <td>NaN</td>\n",
       "      <td>22</td>\n",
       "    </tr>\n",
       "    <tr>\n",
       "      <th>1886</th>\n",
       "      <td>Individual</td>\n",
       "      <td>49</td>\n",
       "      <td>1.0</td>\n",
       "      <td>1</td>\n",
       "    </tr>\n",
       "    <tr>\n",
       "      <th>...</th>\n",
       "      <td>...</td>\n",
       "      <td>...</td>\n",
       "      <td>...</td>\n",
       "      <td>...</td>\n",
       "    </tr>\n",
       "    <tr>\n",
       "      <th>19197</th>\n",
       "      <td>Individual</td>\n",
       "      <td>22</td>\n",
       "      <td>NaN</td>\n",
       "      <td>20</td>\n",
       "    </tr>\n",
       "    <tr>\n",
       "      <th>44941</th>\n",
       "      <td>Individual</td>\n",
       "      <td>61</td>\n",
       "      <td>7.0</td>\n",
       "      <td>20</td>\n",
       "    </tr>\n",
       "    <tr>\n",
       "      <th>1429</th>\n",
       "      <td>Joint</td>\n",
       "      <td>59</td>\n",
       "      <td>7.0</td>\n",
       "      <td>4</td>\n",
       "    </tr>\n",
       "    <tr>\n",
       "      <th>33061</th>\n",
       "      <td>Joint</td>\n",
       "      <td>45</td>\n",
       "      <td>8.0</td>\n",
       "      <td>13</td>\n",
       "    </tr>\n",
       "    <tr>\n",
       "      <th>18253</th>\n",
       "      <td>Joint</td>\n",
       "      <td>75</td>\n",
       "      <td>3.0</td>\n",
       "      <td>19</td>\n",
       "    </tr>\n",
       "  </tbody>\n",
       "</table>\n",
       "<p>35617 rows × 4 columns</p>\n",
       "</div>"
      ],
      "text/plain": [
       "      Proposed_Insurance_Type   Max_Age  Policy_Holding_Duration  \\\n",
       "35053               Individual       20                      NaN   \n",
       "48575               Individual       61                     14.0   \n",
       "27173               Individual       26                      2.0   \n",
       "15143               Individual       26                      NaN   \n",
       "1886                Individual       49                      1.0   \n",
       "...                        ...      ...                      ...   \n",
       "19197               Individual       22                      NaN   \n",
       "44941               Individual       61                      7.0   \n",
       "1429                     Joint       59                      7.0   \n",
       "33061                    Joint       45                      8.0   \n",
       "18253                    Joint       75                      3.0   \n",
       "\n",
       "       Proposed_Health_Insurance_Category  \n",
       "35053                                  15  \n",
       "48575                                  22  \n",
       "27173                                  17  \n",
       "15143                                  22  \n",
       "1886                                    1  \n",
       "...                                   ...  \n",
       "19197                                  20  \n",
       "44941                                  20  \n",
       "1429                                    4  \n",
       "33061                                  13  \n",
       "18253                                  19  \n",
       "\n",
       "[35617 rows x 4 columns]"
      ]
     },
     "execution_count": 40,
     "metadata": {},
     "output_type": "execute_result"
    }
   ],
   "source": [
    "X_train"
   ]
  },
  {
   "cell_type": "code",
   "execution_count": 41,
   "metadata": {
    "execution": {
     "iopub.execute_input": "2023-04-16T14:34:22.414871Z",
     "iopub.status.busy": "2023-04-16T14:34:22.413731Z",
     "iopub.status.idle": "2023-04-16T14:34:22.429835Z",
     "shell.execute_reply": "2023-04-16T14:34:22.428662Z",
     "shell.execute_reply.started": "2023-04-16T14:34:22.414831Z"
    }
   },
   "outputs": [
    {
     "data": {
      "text/html": [
       "<div>\n",
       "<style scoped>\n",
       "    .dataframe tbody tr th:only-of-type {\n",
       "        vertical-align: middle;\n",
       "    }\n",
       "\n",
       "    .dataframe tbody tr th {\n",
       "        vertical-align: top;\n",
       "    }\n",
       "\n",
       "    .dataframe thead th {\n",
       "        text-align: right;\n",
       "    }\n",
       "</style>\n",
       "<table border=\"1\" class=\"dataframe\">\n",
       "  <thead>\n",
       "    <tr style=\"text-align: right;\">\n",
       "      <th></th>\n",
       "      <th>Proposal_Acceptance_Response</th>\n",
       "    </tr>\n",
       "  </thead>\n",
       "  <tbody>\n",
       "    <tr>\n",
       "      <th>35053</th>\n",
       "      <td>0</td>\n",
       "    </tr>\n",
       "    <tr>\n",
       "      <th>48575</th>\n",
       "      <td>0</td>\n",
       "    </tr>\n",
       "    <tr>\n",
       "      <th>27173</th>\n",
       "      <td>0</td>\n",
       "    </tr>\n",
       "    <tr>\n",
       "      <th>15143</th>\n",
       "      <td>0</td>\n",
       "    </tr>\n",
       "    <tr>\n",
       "      <th>1886</th>\n",
       "      <td>0</td>\n",
       "    </tr>\n",
       "    <tr>\n",
       "      <th>...</th>\n",
       "      <td>...</td>\n",
       "    </tr>\n",
       "    <tr>\n",
       "      <th>19197</th>\n",
       "      <td>0</td>\n",
       "    </tr>\n",
       "    <tr>\n",
       "      <th>44941</th>\n",
       "      <td>0</td>\n",
       "    </tr>\n",
       "    <tr>\n",
       "      <th>1429</th>\n",
       "      <td>0</td>\n",
       "    </tr>\n",
       "    <tr>\n",
       "      <th>33061</th>\n",
       "      <td>0</td>\n",
       "    </tr>\n",
       "    <tr>\n",
       "      <th>18253</th>\n",
       "      <td>1</td>\n",
       "    </tr>\n",
       "  </tbody>\n",
       "</table>\n",
       "<p>35617 rows × 1 columns</p>\n",
       "</div>"
      ],
      "text/plain": [
       "      Proposal_Acceptance_Response\n",
       "35053                            0\n",
       "48575                            0\n",
       "27173                            0\n",
       "15143                            0\n",
       "1886                             0\n",
       "...                            ...\n",
       "19197                            0\n",
       "44941                            0\n",
       "1429                             0\n",
       "33061                            0\n",
       "18253                            1\n",
       "\n",
       "[35617 rows x 1 columns]"
      ]
     },
     "execution_count": 41,
     "metadata": {},
     "output_type": "execute_result"
    }
   ],
   "source": [
    "pd.DataFrame(y_train)"
   ]
  },
  {
   "cell_type": "code",
   "execution_count": 42,
   "metadata": {
    "execution": {
     "iopub.execute_input": "2023-04-16T14:34:22.712245Z",
     "iopub.status.busy": "2023-04-16T14:34:22.711877Z",
     "iopub.status.idle": "2023-04-16T14:34:22.730798Z",
     "shell.execute_reply": "2023-04-16T14:34:22.729711Z",
     "shell.execute_reply.started": "2023-04-16T14:34:22.712212Z"
    }
   },
   "outputs": [
    {
     "data": {
      "text/html": [
       "<div>\n",
       "<style scoped>\n",
       "    .dataframe tbody tr th:only-of-type {\n",
       "        vertical-align: middle;\n",
       "    }\n",
       "\n",
       "    .dataframe tbody tr th {\n",
       "        vertical-align: top;\n",
       "    }\n",
       "\n",
       "    .dataframe thead th {\n",
       "        text-align: right;\n",
       "    }\n",
       "</style>\n",
       "<table border=\"1\" class=\"dataframe\">\n",
       "  <thead>\n",
       "    <tr style=\"text-align: right;\">\n",
       "      <th></th>\n",
       "      <th>Proposed_Insurance_Type</th>\n",
       "      <th>Max_Age</th>\n",
       "      <th>Policy_Holding_Duration</th>\n",
       "      <th>Proposed_Health_Insurance_Category</th>\n",
       "    </tr>\n",
       "  </thead>\n",
       "  <tbody>\n",
       "    <tr>\n",
       "      <th>12621</th>\n",
       "      <td>Individual</td>\n",
       "      <td>28</td>\n",
       "      <td>NaN</td>\n",
       "      <td>22</td>\n",
       "    </tr>\n",
       "    <tr>\n",
       "      <th>43308</th>\n",
       "      <td>Individual</td>\n",
       "      <td>27</td>\n",
       "      <td>5.0</td>\n",
       "      <td>16</td>\n",
       "    </tr>\n",
       "    <tr>\n",
       "      <th>13109</th>\n",
       "      <td>Individual</td>\n",
       "      <td>42</td>\n",
       "      <td>NaN</td>\n",
       "      <td>21</td>\n",
       "    </tr>\n",
       "    <tr>\n",
       "      <th>16917</th>\n",
       "      <td>Joint</td>\n",
       "      <td>34</td>\n",
       "      <td>NaN</td>\n",
       "      <td>17</td>\n",
       "    </tr>\n",
       "    <tr>\n",
       "      <th>23706</th>\n",
       "      <td>Individual</td>\n",
       "      <td>69</td>\n",
       "      <td>NaN</td>\n",
       "      <td>21</td>\n",
       "    </tr>\n",
       "    <tr>\n",
       "      <th>...</th>\n",
       "      <td>...</td>\n",
       "      <td>...</td>\n",
       "      <td>...</td>\n",
       "      <td>...</td>\n",
       "    </tr>\n",
       "    <tr>\n",
       "      <th>18089</th>\n",
       "      <td>Individual</td>\n",
       "      <td>29</td>\n",
       "      <td>7.0</td>\n",
       "      <td>1</td>\n",
       "    </tr>\n",
       "    <tr>\n",
       "      <th>9541</th>\n",
       "      <td>Individual</td>\n",
       "      <td>19</td>\n",
       "      <td>NaN</td>\n",
       "      <td>16</td>\n",
       "    </tr>\n",
       "    <tr>\n",
       "      <th>11536</th>\n",
       "      <td>Joint</td>\n",
       "      <td>69</td>\n",
       "      <td>5.0</td>\n",
       "      <td>7</td>\n",
       "    </tr>\n",
       "    <tr>\n",
       "      <th>39721</th>\n",
       "      <td>Individual</td>\n",
       "      <td>27</td>\n",
       "      <td>NaN</td>\n",
       "      <td>21</td>\n",
       "    </tr>\n",
       "    <tr>\n",
       "      <th>26721</th>\n",
       "      <td>Individual</td>\n",
       "      <td>74</td>\n",
       "      <td>4.0</td>\n",
       "      <td>22</td>\n",
       "    </tr>\n",
       "  </tbody>\n",
       "</table>\n",
       "<p>15265 rows × 4 columns</p>\n",
       "</div>"
      ],
      "text/plain": [
       "      Proposed_Insurance_Type   Max_Age  Policy_Holding_Duration  \\\n",
       "12621               Individual       28                      NaN   \n",
       "43308               Individual       27                      5.0   \n",
       "13109               Individual       42                      NaN   \n",
       "16917                    Joint       34                      NaN   \n",
       "23706               Individual       69                      NaN   \n",
       "...                        ...      ...                      ...   \n",
       "18089               Individual       29                      7.0   \n",
       "9541                Individual       19                      NaN   \n",
       "11536                    Joint       69                      5.0   \n",
       "39721               Individual       27                      NaN   \n",
       "26721               Individual       74                      4.0   \n",
       "\n",
       "       Proposed_Health_Insurance_Category  \n",
       "12621                                  22  \n",
       "43308                                  16  \n",
       "13109                                  21  \n",
       "16917                                  17  \n",
       "23706                                  21  \n",
       "...                                   ...  \n",
       "18089                                   1  \n",
       "9541                                   16  \n",
       "11536                                   7  \n",
       "39721                                  21  \n",
       "26721                                  22  \n",
       "\n",
       "[15265 rows x 4 columns]"
      ]
     },
     "execution_count": 42,
     "metadata": {},
     "output_type": "execute_result"
    }
   ],
   "source": [
    "X_val"
   ]
  },
  {
   "cell_type": "code",
   "execution_count": 43,
   "metadata": {
    "execution": {
     "iopub.execute_input": "2023-04-16T14:34:32.962659Z",
     "iopub.status.busy": "2023-04-16T14:34:32.962273Z",
     "iopub.status.idle": "2023-04-16T14:34:32.975988Z",
     "shell.execute_reply": "2023-04-16T14:34:32.974761Z",
     "shell.execute_reply.started": "2023-04-16T14:34:32.962625Z"
    }
   },
   "outputs": [
    {
     "data": {
      "text/html": [
       "<div>\n",
       "<style scoped>\n",
       "    .dataframe tbody tr th:only-of-type {\n",
       "        vertical-align: middle;\n",
       "    }\n",
       "\n",
       "    .dataframe tbody tr th {\n",
       "        vertical-align: top;\n",
       "    }\n",
       "\n",
       "    .dataframe thead th {\n",
       "        text-align: right;\n",
       "    }\n",
       "</style>\n",
       "<table border=\"1\" class=\"dataframe\">\n",
       "  <thead>\n",
       "    <tr style=\"text-align: right;\">\n",
       "      <th></th>\n",
       "      <th>Proposal_Acceptance_Response</th>\n",
       "    </tr>\n",
       "  </thead>\n",
       "  <tbody>\n",
       "    <tr>\n",
       "      <th>12621</th>\n",
       "      <td>1</td>\n",
       "    </tr>\n",
       "    <tr>\n",
       "      <th>43308</th>\n",
       "      <td>0</td>\n",
       "    </tr>\n",
       "    <tr>\n",
       "      <th>13109</th>\n",
       "      <td>1</td>\n",
       "    </tr>\n",
       "    <tr>\n",
       "      <th>16917</th>\n",
       "      <td>0</td>\n",
       "    </tr>\n",
       "    <tr>\n",
       "      <th>23706</th>\n",
       "      <td>0</td>\n",
       "    </tr>\n",
       "    <tr>\n",
       "      <th>...</th>\n",
       "      <td>...</td>\n",
       "    </tr>\n",
       "    <tr>\n",
       "      <th>18089</th>\n",
       "      <td>0</td>\n",
       "    </tr>\n",
       "    <tr>\n",
       "      <th>9541</th>\n",
       "      <td>1</td>\n",
       "    </tr>\n",
       "    <tr>\n",
       "      <th>11536</th>\n",
       "      <td>0</td>\n",
       "    </tr>\n",
       "    <tr>\n",
       "      <th>39721</th>\n",
       "      <td>0</td>\n",
       "    </tr>\n",
       "    <tr>\n",
       "      <th>26721</th>\n",
       "      <td>0</td>\n",
       "    </tr>\n",
       "  </tbody>\n",
       "</table>\n",
       "<p>15265 rows × 1 columns</p>\n",
       "</div>"
      ],
      "text/plain": [
       "      Proposal_Acceptance_Response\n",
       "12621                            1\n",
       "43308                            0\n",
       "13109                            1\n",
       "16917                            0\n",
       "23706                            0\n",
       "...                            ...\n",
       "18089                            0\n",
       "9541                             1\n",
       "11536                            0\n",
       "39721                            0\n",
       "26721                            0\n",
       "\n",
       "[15265 rows x 1 columns]"
      ]
     },
     "execution_count": 43,
     "metadata": {},
     "output_type": "execute_result"
    }
   ],
   "source": [
    "pd.DataFrame(y_val)"
   ]
  },
  {
   "cell_type": "code",
   "execution_count": 44,
   "metadata": {
    "execution": {
     "iopub.execute_input": "2023-04-16T14:34:33.455302Z",
     "iopub.status.busy": "2023-04-16T14:34:33.454664Z",
     "iopub.status.idle": "2023-04-16T14:34:33.467784Z",
     "shell.execute_reply": "2023-04-16T14:34:33.466674Z",
     "shell.execute_reply.started": "2023-04-16T14:34:33.455266Z"
    }
   },
   "outputs": [
    {
     "data": {
      "text/plain": [
       "0    76.00584\n",
       "1    23.99416\n",
       "Name: Proposal_Acceptance_Response, dtype: float64"
      ]
     },
     "execution_count": 44,
     "metadata": {},
     "output_type": "execute_result"
    }
   ],
   "source": [
    "y_train.value_counts(normalize = True)*100"
   ]
  },
  {
   "cell_type": "code",
   "execution_count": 45,
   "metadata": {
    "execution": {
     "iopub.execute_input": "2023-04-16T14:34:33.977177Z",
     "iopub.status.busy": "2023-04-16T14:34:33.976507Z",
     "iopub.status.idle": "2023-04-16T14:34:33.988734Z",
     "shell.execute_reply": "2023-04-16T14:34:33.987267Z",
     "shell.execute_reply.started": "2023-04-16T14:34:33.977139Z"
    }
   },
   "outputs": [
    {
     "data": {
      "text/plain": [
       "0    76.003931\n",
       "1    23.996069\n",
       "Name: Proposal_Acceptance_Response, dtype: float64"
      ]
     },
     "execution_count": 45,
     "metadata": {},
     "output_type": "execute_result"
    }
   ],
   "source": [
    "y_val.value_counts(normalize = True)*100"
   ]
  },
  {
   "cell_type": "code",
   "execution_count": 46,
   "metadata": {
    "execution": {
     "iopub.execute_input": "2023-04-16T14:34:35.207567Z",
     "iopub.status.busy": "2023-04-16T14:34:35.206867Z",
     "iopub.status.idle": "2023-04-16T14:34:35.218669Z",
     "shell.execute_reply": "2023-04-16T14:34:35.217503Z",
     "shell.execute_reply.started": "2023-04-16T14:34:35.207520Z"
    }
   },
   "outputs": [
    {
     "data": {
      "text/plain": [
       "Proposed_Insurance_Type                   0\n",
       "Max_Age                                   0\n",
       "Policy_Holding_Duration               14111\n",
       "Proposed_Health_Insurance_Category        0\n",
       "dtype: int64"
      ]
     },
     "execution_count": 46,
     "metadata": {},
     "output_type": "execute_result"
    }
   ],
   "source": [
    "X_train.isnull().sum()"
   ]
  },
  {
   "cell_type": "code",
   "execution_count": 47,
   "metadata": {
    "execution": {
     "iopub.execute_input": "2023-04-16T14:34:35.722082Z",
     "iopub.status.busy": "2023-04-16T14:34:35.721711Z",
     "iopub.status.idle": "2023-04-16T14:34:35.733796Z",
     "shell.execute_reply": "2023-04-16T14:34:35.732234Z",
     "shell.execute_reply.started": "2023-04-16T14:34:35.722048Z"
    }
   },
   "outputs": [
    {
     "data": {
      "text/plain": [
       "Proposed_Insurance_Type                  0\n",
       "Max_Age                                  0\n",
       "Policy_Holding_Duration               6140\n",
       "Proposed_Health_Insurance_Category       0\n",
       "dtype: int64"
      ]
     },
     "execution_count": 47,
     "metadata": {},
     "output_type": "execute_result"
    }
   ],
   "source": [
    "X_val.isnull().sum()"
   ]
  },
  {
   "cell_type": "code",
   "execution_count": 48,
   "metadata": {
    "execution": {
     "iopub.execute_input": "2023-04-16T14:34:36.196050Z",
     "iopub.status.busy": "2023-04-16T14:34:36.194827Z",
     "iopub.status.idle": "2023-04-16T14:34:36.385659Z",
     "shell.execute_reply": "2023-04-16T14:34:36.384621Z",
     "shell.execute_reply.started": "2023-04-16T14:34:36.195987Z"
    }
   },
   "outputs": [],
   "source": [
    "from sklearn.impute import SimpleImputer"
   ]
  },
  {
   "cell_type": "code",
   "execution_count": 49,
   "metadata": {
    "execution": {
     "iopub.execute_input": "2023-04-16T14:34:36.459999Z",
     "iopub.status.busy": "2023-04-16T14:34:36.459573Z",
     "iopub.status.idle": "2023-04-16T14:34:36.483076Z",
     "shell.execute_reply": "2023-04-16T14:34:36.481736Z",
     "shell.execute_reply.started": "2023-04-16T14:34:36.459937Z"
    }
   },
   "outputs": [],
   "source": [
    "imputer = SimpleImputer(strategy= \"mean\")\n",
    "imputer = imputer.fit(X_train[num_cols])"
   ]
  },
  {
   "cell_type": "code",
   "execution_count": 50,
   "metadata": {
    "execution": {
     "iopub.execute_input": "2023-04-16T14:34:36.873707Z",
     "iopub.status.busy": "2023-04-16T14:34:36.872916Z",
     "iopub.status.idle": "2023-04-16T14:34:36.894916Z",
     "shell.execute_reply": "2023-04-16T14:34:36.894055Z",
     "shell.execute_reply.started": "2023-04-16T14:34:36.873654Z"
    }
   },
   "outputs": [],
   "source": [
    "X_train_imputed = pd.DataFrame(imputer.transform(X_train[num_cols]), columns = X_train[num_cols].columns)\n",
    "X_val_imputed = pd.DataFrame(imputer.transform(X_val[num_cols]), columns = X_val[num_cols].columns)"
   ]
  },
  {
   "cell_type": "code",
   "execution_count": 51,
   "metadata": {
    "execution": {
     "iopub.execute_input": "2023-04-16T14:34:37.369144Z",
     "iopub.status.busy": "2023-04-16T14:34:37.368415Z",
     "iopub.status.idle": "2023-04-16T14:34:37.380562Z",
     "shell.execute_reply": "2023-04-16T14:34:37.379437Z",
     "shell.execute_reply.started": "2023-04-16T14:34:37.369097Z"
    }
   },
   "outputs": [
    {
     "data": {
      "text/plain": [
       "Max_Age                               0\n",
       "Policy_Holding_Duration               0\n",
       "Proposed_Health_Insurance_Category    0\n",
       "dtype: int64"
      ]
     },
     "execution_count": 51,
     "metadata": {},
     "output_type": "execute_result"
    }
   ],
   "source": [
    "X_train_imputed.isnull().sum()"
   ]
  },
  {
   "cell_type": "code",
   "execution_count": 52,
   "metadata": {
    "execution": {
     "iopub.execute_input": "2023-04-16T14:34:37.731979Z",
     "iopub.status.busy": "2023-04-16T14:34:37.731657Z",
     "iopub.status.idle": "2023-04-16T14:34:37.743370Z",
     "shell.execute_reply": "2023-04-16T14:34:37.741778Z",
     "shell.execute_reply.started": "2023-04-16T14:34:37.731950Z"
    }
   },
   "outputs": [
    {
     "data": {
      "text/plain": [
       "Max_Age                               0\n",
       "Policy_Holding_Duration               0\n",
       "Proposed_Health_Insurance_Category    0\n",
       "dtype: int64"
      ]
     },
     "execution_count": 52,
     "metadata": {},
     "output_type": "execute_result"
    }
   ],
   "source": [
    "X_val_imputed.isnull().sum()"
   ]
  },
  {
   "cell_type": "code",
   "execution_count": 53,
   "metadata": {
    "execution": {
     "iopub.execute_input": "2023-04-16T14:34:38.055327Z",
     "iopub.status.busy": "2023-04-16T14:34:38.054678Z",
     "iopub.status.idle": "2023-04-16T14:34:38.060275Z",
     "shell.execute_reply": "2023-04-16T14:34:38.059142Z",
     "shell.execute_reply.started": "2023-04-16T14:34:38.055290Z"
    }
   },
   "outputs": [],
   "source": [
    "from sklearn.preprocessing import StandardScaler"
   ]
  },
  {
   "cell_type": "code",
   "execution_count": 54,
   "metadata": {
    "execution": {
     "iopub.execute_input": "2023-04-16T14:34:38.369793Z",
     "iopub.status.busy": "2023-04-16T14:34:38.368898Z",
     "iopub.status.idle": "2023-04-16T14:34:38.378414Z",
     "shell.execute_reply": "2023-04-16T14:34:38.377359Z",
     "shell.execute_reply.started": "2023-04-16T14:34:38.369746Z"
    }
   },
   "outputs": [],
   "source": [
    "# fitting the X_train[num_cols] in standardization model\n",
    "scaler = StandardScaler()\n",
    "scaler = scaler.fit(X_train_imputed)"
   ]
  },
  {
   "cell_type": "code",
   "execution_count": 55,
   "metadata": {
    "execution": {
     "iopub.execute_input": "2023-04-16T14:34:38.634683Z",
     "iopub.status.busy": "2023-04-16T14:34:38.634359Z",
     "iopub.status.idle": "2023-04-16T14:34:38.646831Z",
     "shell.execute_reply": "2023-04-16T14:34:38.645714Z",
     "shell.execute_reply.started": "2023-04-16T14:34:38.634654Z"
    }
   },
   "outputs": [],
   "source": [
    "# fitting the X_train[num_cols] and X_test[num_cols] in standardization model\n",
    "X_train_std = pd.DataFrame(scaler.transform(X_train_imputed), columns = X_train[num_cols].columns)\n",
    "X_val_std = pd.DataFrame(scaler.transform(X_val_imputed), columns = X_val[num_cols].columns)"
   ]
  },
  {
   "cell_type": "code",
   "execution_count": 56,
   "metadata": {
    "execution": {
     "iopub.execute_input": "2023-04-16T14:34:38.912844Z",
     "iopub.status.busy": "2023-04-16T14:34:38.912514Z",
     "iopub.status.idle": "2023-04-16T14:34:38.928182Z",
     "shell.execute_reply": "2023-04-16T14:34:38.926750Z",
     "shell.execute_reply.started": "2023-04-16T14:34:38.912814Z"
    }
   },
   "outputs": [
    {
     "data": {
      "text/html": [
       "<div>\n",
       "<style scoped>\n",
       "    .dataframe tbody tr th:only-of-type {\n",
       "        vertical-align: middle;\n",
       "    }\n",
       "\n",
       "    .dataframe tbody tr th {\n",
       "        vertical-align: top;\n",
       "    }\n",
       "\n",
       "    .dataframe thead th {\n",
       "        text-align: right;\n",
       "    }\n",
       "</style>\n",
       "<table border=\"1\" class=\"dataframe\">\n",
       "  <thead>\n",
       "    <tr style=\"text-align: right;\">\n",
       "      <th></th>\n",
       "      <th>Max_Age</th>\n",
       "      <th>Policy_Holding_Duration</th>\n",
       "      <th>Proposed_Health_Insurance_Category</th>\n",
       "    </tr>\n",
       "  </thead>\n",
       "  <tbody>\n",
       "    <tr>\n",
       "      <th>0</th>\n",
       "      <td>-1.435572</td>\n",
       "      <td>-2.547117e-16</td>\n",
       "      <td>-0.017867</td>\n",
       "    </tr>\n",
       "    <tr>\n",
       "      <th>1</th>\n",
       "      <td>0.932393</td>\n",
       "      <td>2.294159e+00</td>\n",
       "      <td>1.084234</td>\n",
       "    </tr>\n",
       "    <tr>\n",
       "      <th>2</th>\n",
       "      <td>-1.089040</td>\n",
       "      <td>-1.147199e+00</td>\n",
       "      <td>0.297019</td>\n",
       "    </tr>\n",
       "    <tr>\n",
       "      <th>3</th>\n",
       "      <td>-1.089040</td>\n",
       "      <td>-2.547117e-16</td>\n",
       "      <td>1.084234</td>\n",
       "    </tr>\n",
       "    <tr>\n",
       "      <th>4</th>\n",
       "      <td>0.239330</td>\n",
       "      <td>-1.433979e+00</td>\n",
       "      <td>-2.222069</td>\n",
       "    </tr>\n",
       "    <tr>\n",
       "      <th>...</th>\n",
       "      <td>...</td>\n",
       "      <td>...</td>\n",
       "      <td>...</td>\n",
       "    </tr>\n",
       "    <tr>\n",
       "      <th>35612</th>\n",
       "      <td>-1.320061</td>\n",
       "      <td>-2.547117e-16</td>\n",
       "      <td>0.769348</td>\n",
       "    </tr>\n",
       "    <tr>\n",
       "      <th>35613</th>\n",
       "      <td>0.932393</td>\n",
       "      <td>2.866998e-01</td>\n",
       "      <td>0.769348</td>\n",
       "    </tr>\n",
       "    <tr>\n",
       "      <th>35614</th>\n",
       "      <td>0.816882</td>\n",
       "      <td>2.866998e-01</td>\n",
       "      <td>-1.749740</td>\n",
       "    </tr>\n",
       "    <tr>\n",
       "      <th>35615</th>\n",
       "      <td>0.008309</td>\n",
       "      <td>5.734797e-01</td>\n",
       "      <td>-0.332753</td>\n",
       "    </tr>\n",
       "    <tr>\n",
       "      <th>35616</th>\n",
       "      <td>1.740966</td>\n",
       "      <td>-8.604195e-01</td>\n",
       "      <td>0.611905</td>\n",
       "    </tr>\n",
       "  </tbody>\n",
       "</table>\n",
       "<p>35617 rows × 3 columns</p>\n",
       "</div>"
      ],
      "text/plain": [
       "        Max_Age  Policy_Holding_Duration  Proposed_Health_Insurance_Category\n",
       "0     -1.435572            -2.547117e-16                           -0.017867\n",
       "1      0.932393             2.294159e+00                            1.084234\n",
       "2     -1.089040            -1.147199e+00                            0.297019\n",
       "3     -1.089040            -2.547117e-16                            1.084234\n",
       "4      0.239330            -1.433979e+00                           -2.222069\n",
       "...         ...                      ...                                 ...\n",
       "35612 -1.320061            -2.547117e-16                            0.769348\n",
       "35613  0.932393             2.866998e-01                            0.769348\n",
       "35614  0.816882             2.866998e-01                           -1.749740\n",
       "35615  0.008309             5.734797e-01                           -0.332753\n",
       "35616  1.740966            -8.604195e-01                            0.611905\n",
       "\n",
       "[35617 rows x 3 columns]"
      ]
     },
     "execution_count": 56,
     "metadata": {},
     "output_type": "execute_result"
    }
   ],
   "source": [
    "X_train_std"
   ]
  },
  {
   "cell_type": "code",
   "execution_count": 57,
   "metadata": {
    "execution": {
     "iopub.execute_input": "2023-04-16T14:34:39.165659Z",
     "iopub.status.busy": "2023-04-16T14:34:39.164989Z",
     "iopub.status.idle": "2023-04-16T14:34:39.180894Z",
     "shell.execute_reply": "2023-04-16T14:34:39.179625Z",
     "shell.execute_reply.started": "2023-04-16T14:34:39.165625Z"
    }
   },
   "outputs": [
    {
     "data": {
      "text/html": [
       "<div>\n",
       "<style scoped>\n",
       "    .dataframe tbody tr th:only-of-type {\n",
       "        vertical-align: middle;\n",
       "    }\n",
       "\n",
       "    .dataframe tbody tr th {\n",
       "        vertical-align: top;\n",
       "    }\n",
       "\n",
       "    .dataframe thead th {\n",
       "        text-align: right;\n",
       "    }\n",
       "</style>\n",
       "<table border=\"1\" class=\"dataframe\">\n",
       "  <thead>\n",
       "    <tr style=\"text-align: right;\">\n",
       "      <th></th>\n",
       "      <th>Max_Age</th>\n",
       "      <th>Policy_Holding_Duration</th>\n",
       "      <th>Proposed_Health_Insurance_Category</th>\n",
       "    </tr>\n",
       "  </thead>\n",
       "  <tbody>\n",
       "    <tr>\n",
       "      <th>0</th>\n",
       "      <td>-0.973530</td>\n",
       "      <td>-2.547117e-16</td>\n",
       "      <td>1.084234</td>\n",
       "    </tr>\n",
       "    <tr>\n",
       "      <th>1</th>\n",
       "      <td>-1.031285</td>\n",
       "      <td>-2.868598e-01</td>\n",
       "      <td>0.139576</td>\n",
       "    </tr>\n",
       "    <tr>\n",
       "      <th>2</th>\n",
       "      <td>-0.164957</td>\n",
       "      <td>-2.547117e-16</td>\n",
       "      <td>0.926791</td>\n",
       "    </tr>\n",
       "    <tr>\n",
       "      <th>3</th>\n",
       "      <td>-0.626999</td>\n",
       "      <td>-2.547117e-16</td>\n",
       "      <td>0.297019</td>\n",
       "    </tr>\n",
       "    <tr>\n",
       "      <th>4</th>\n",
       "      <td>1.394434</td>\n",
       "      <td>-2.547117e-16</td>\n",
       "      <td>0.926791</td>\n",
       "    </tr>\n",
       "    <tr>\n",
       "      <th>...</th>\n",
       "      <td>...</td>\n",
       "      <td>...</td>\n",
       "      <td>...</td>\n",
       "    </tr>\n",
       "    <tr>\n",
       "      <th>15260</th>\n",
       "      <td>-0.915775</td>\n",
       "      <td>2.866998e-01</td>\n",
       "      <td>-2.222069</td>\n",
       "    </tr>\n",
       "    <tr>\n",
       "      <th>15261</th>\n",
       "      <td>-1.493327</td>\n",
       "      <td>-2.547117e-16</td>\n",
       "      <td>0.139576</td>\n",
       "    </tr>\n",
       "    <tr>\n",
       "      <th>15262</th>\n",
       "      <td>1.394434</td>\n",
       "      <td>-2.868598e-01</td>\n",
       "      <td>-1.277411</td>\n",
       "    </tr>\n",
       "    <tr>\n",
       "      <th>15263</th>\n",
       "      <td>-1.031285</td>\n",
       "      <td>-2.547117e-16</td>\n",
       "      <td>0.926791</td>\n",
       "    </tr>\n",
       "    <tr>\n",
       "      <th>15264</th>\n",
       "      <td>1.683210</td>\n",
       "      <td>-5.736397e-01</td>\n",
       "      <td>1.084234</td>\n",
       "    </tr>\n",
       "  </tbody>\n",
       "</table>\n",
       "<p>15265 rows × 3 columns</p>\n",
       "</div>"
      ],
      "text/plain": [
       "        Max_Age  Policy_Holding_Duration  Proposed_Health_Insurance_Category\n",
       "0     -0.973530            -2.547117e-16                            1.084234\n",
       "1     -1.031285            -2.868598e-01                            0.139576\n",
       "2     -0.164957            -2.547117e-16                            0.926791\n",
       "3     -0.626999            -2.547117e-16                            0.297019\n",
       "4      1.394434            -2.547117e-16                            0.926791\n",
       "...         ...                      ...                                 ...\n",
       "15260 -0.915775             2.866998e-01                           -2.222069\n",
       "15261 -1.493327            -2.547117e-16                            0.139576\n",
       "15262  1.394434            -2.868598e-01                           -1.277411\n",
       "15263 -1.031285            -2.547117e-16                            0.926791\n",
       "15264  1.683210            -5.736397e-01                            1.084234\n",
       "\n",
       "[15265 rows x 3 columns]"
      ]
     },
     "execution_count": 57,
     "metadata": {},
     "output_type": "execute_result"
    }
   ],
   "source": [
    "X_val_std"
   ]
  },
  {
   "cell_type": "code",
   "execution_count": 58,
   "metadata": {
    "execution": {
     "iopub.execute_input": "2023-04-16T14:34:39.407610Z",
     "iopub.status.busy": "2023-04-16T14:34:39.407320Z",
     "iopub.status.idle": "2023-04-16T14:34:39.415535Z",
     "shell.execute_reply": "2023-04-16T14:34:39.414407Z",
     "shell.execute_reply.started": "2023-04-16T14:34:39.407582Z"
    }
   },
   "outputs": [],
   "source": [
    "# creationg dummies for cat_cols from X_train\n",
    "X_train_dummies = pd.get_dummies(X_train[cat_cols],drop_first = True)"
   ]
  },
  {
   "cell_type": "code",
   "execution_count": 59,
   "metadata": {
    "execution": {
     "iopub.execute_input": "2023-04-16T14:34:39.718059Z",
     "iopub.status.busy": "2023-04-16T14:34:39.717368Z",
     "iopub.status.idle": "2023-04-16T14:34:39.728123Z",
     "shell.execute_reply": "2023-04-16T14:34:39.727016Z",
     "shell.execute_reply.started": "2023-04-16T14:34:39.718014Z"
    }
   },
   "outputs": [
    {
     "data": {
      "text/html": [
       "<div>\n",
       "<style scoped>\n",
       "    .dataframe tbody tr th:only-of-type {\n",
       "        vertical-align: middle;\n",
       "    }\n",
       "\n",
       "    .dataframe tbody tr th {\n",
       "        vertical-align: top;\n",
       "    }\n",
       "\n",
       "    .dataframe thead th {\n",
       "        text-align: right;\n",
       "    }\n",
       "</style>\n",
       "<table border=\"1\" class=\"dataframe\">\n",
       "  <thead>\n",
       "    <tr style=\"text-align: right;\">\n",
       "      <th></th>\n",
       "      <th>Proposed_Insurance_Type _Joint</th>\n",
       "    </tr>\n",
       "  </thead>\n",
       "  <tbody>\n",
       "    <tr>\n",
       "      <th>35053</th>\n",
       "      <td>0</td>\n",
       "    </tr>\n",
       "    <tr>\n",
       "      <th>48575</th>\n",
       "      <td>0</td>\n",
       "    </tr>\n",
       "    <tr>\n",
       "      <th>27173</th>\n",
       "      <td>0</td>\n",
       "    </tr>\n",
       "    <tr>\n",
       "      <th>15143</th>\n",
       "      <td>0</td>\n",
       "    </tr>\n",
       "    <tr>\n",
       "      <th>1886</th>\n",
       "      <td>0</td>\n",
       "    </tr>\n",
       "    <tr>\n",
       "      <th>...</th>\n",
       "      <td>...</td>\n",
       "    </tr>\n",
       "    <tr>\n",
       "      <th>19197</th>\n",
       "      <td>0</td>\n",
       "    </tr>\n",
       "    <tr>\n",
       "      <th>44941</th>\n",
       "      <td>0</td>\n",
       "    </tr>\n",
       "    <tr>\n",
       "      <th>1429</th>\n",
       "      <td>1</td>\n",
       "    </tr>\n",
       "    <tr>\n",
       "      <th>33061</th>\n",
       "      <td>1</td>\n",
       "    </tr>\n",
       "    <tr>\n",
       "      <th>18253</th>\n",
       "      <td>1</td>\n",
       "    </tr>\n",
       "  </tbody>\n",
       "</table>\n",
       "<p>35617 rows × 1 columns</p>\n",
       "</div>"
      ],
      "text/plain": [
       "       Proposed_Insurance_Type _Joint\n",
       "35053                               0\n",
       "48575                               0\n",
       "27173                               0\n",
       "15143                               0\n",
       "1886                                0\n",
       "...                               ...\n",
       "19197                               0\n",
       "44941                               0\n",
       "1429                                1\n",
       "33061                               1\n",
       "18253                               1\n",
       "\n",
       "[35617 rows x 1 columns]"
      ]
     },
     "execution_count": 59,
     "metadata": {},
     "output_type": "execute_result"
    }
   ],
   "source": [
    "X_train_dummies"
   ]
  },
  {
   "cell_type": "code",
   "execution_count": 60,
   "metadata": {
    "execution": {
     "iopub.execute_input": "2023-04-16T14:34:40.018977Z",
     "iopub.status.busy": "2023-04-16T14:34:40.018653Z",
     "iopub.status.idle": "2023-04-16T14:34:40.027924Z",
     "shell.execute_reply": "2023-04-16T14:34:40.026758Z",
     "shell.execute_reply.started": "2023-04-16T14:34:40.018947Z"
    }
   },
   "outputs": [],
   "source": [
    "# creationg dummies for cat_cols from X_test\n",
    "X_val_dummies = pd.get_dummies(X_val[cat_cols],drop_first = True)"
   ]
  },
  {
   "cell_type": "code",
   "execution_count": 61,
   "metadata": {
    "execution": {
     "iopub.execute_input": "2023-04-16T14:34:40.306285Z",
     "iopub.status.busy": "2023-04-16T14:34:40.305235Z",
     "iopub.status.idle": "2023-04-16T14:34:40.317408Z",
     "shell.execute_reply": "2023-04-16T14:34:40.316133Z",
     "shell.execute_reply.started": "2023-04-16T14:34:40.306229Z"
    }
   },
   "outputs": [
    {
     "data": {
      "text/html": [
       "<div>\n",
       "<style scoped>\n",
       "    .dataframe tbody tr th:only-of-type {\n",
       "        vertical-align: middle;\n",
       "    }\n",
       "\n",
       "    .dataframe tbody tr th {\n",
       "        vertical-align: top;\n",
       "    }\n",
       "\n",
       "    .dataframe thead th {\n",
       "        text-align: right;\n",
       "    }\n",
       "</style>\n",
       "<table border=\"1\" class=\"dataframe\">\n",
       "  <thead>\n",
       "    <tr style=\"text-align: right;\">\n",
       "      <th></th>\n",
       "      <th>Proposed_Insurance_Type _Joint</th>\n",
       "    </tr>\n",
       "  </thead>\n",
       "  <tbody>\n",
       "    <tr>\n",
       "      <th>12621</th>\n",
       "      <td>0</td>\n",
       "    </tr>\n",
       "    <tr>\n",
       "      <th>43308</th>\n",
       "      <td>0</td>\n",
       "    </tr>\n",
       "    <tr>\n",
       "      <th>13109</th>\n",
       "      <td>0</td>\n",
       "    </tr>\n",
       "    <tr>\n",
       "      <th>16917</th>\n",
       "      <td>1</td>\n",
       "    </tr>\n",
       "    <tr>\n",
       "      <th>23706</th>\n",
       "      <td>0</td>\n",
       "    </tr>\n",
       "    <tr>\n",
       "      <th>...</th>\n",
       "      <td>...</td>\n",
       "    </tr>\n",
       "    <tr>\n",
       "      <th>18089</th>\n",
       "      <td>0</td>\n",
       "    </tr>\n",
       "    <tr>\n",
       "      <th>9541</th>\n",
       "      <td>0</td>\n",
       "    </tr>\n",
       "    <tr>\n",
       "      <th>11536</th>\n",
       "      <td>1</td>\n",
       "    </tr>\n",
       "    <tr>\n",
       "      <th>39721</th>\n",
       "      <td>0</td>\n",
       "    </tr>\n",
       "    <tr>\n",
       "      <th>26721</th>\n",
       "      <td>0</td>\n",
       "    </tr>\n",
       "  </tbody>\n",
       "</table>\n",
       "<p>15265 rows × 1 columns</p>\n",
       "</div>"
      ],
      "text/plain": [
       "       Proposed_Insurance_Type _Joint\n",
       "12621                               0\n",
       "43308                               0\n",
       "13109                               0\n",
       "16917                               1\n",
       "23706                               0\n",
       "...                               ...\n",
       "18089                               0\n",
       "9541                                0\n",
       "11536                               1\n",
       "39721                               0\n",
       "26721                               0\n",
       "\n",
       "[15265 rows x 1 columns]"
      ]
     },
     "execution_count": 61,
     "metadata": {},
     "output_type": "execute_result"
    }
   ],
   "source": [
    "X_val_dummies"
   ]
  },
  {
   "cell_type": "code",
   "execution_count": 62,
   "metadata": {
    "execution": {
     "iopub.execute_input": "2023-04-16T14:34:40.633734Z",
     "iopub.status.busy": "2023-04-16T14:34:40.630560Z",
     "iopub.status.idle": "2023-04-16T14:34:40.658373Z",
     "shell.execute_reply": "2023-04-16T14:34:40.657056Z",
     "shell.execute_reply.started": "2023-04-16T14:34:40.633689Z"
    }
   },
   "outputs": [
    {
     "data": {
      "text/html": [
       "<div>\n",
       "<style scoped>\n",
       "    .dataframe tbody tr th:only-of-type {\n",
       "        vertical-align: middle;\n",
       "    }\n",
       "\n",
       "    .dataframe tbody tr th {\n",
       "        vertical-align: top;\n",
       "    }\n",
       "\n",
       "    .dataframe thead th {\n",
       "        text-align: right;\n",
       "    }\n",
       "</style>\n",
       "<table border=\"1\" class=\"dataframe\">\n",
       "  <thead>\n",
       "    <tr style=\"text-align: right;\">\n",
       "      <th></th>\n",
       "      <th>index</th>\n",
       "      <th>Max_Age</th>\n",
       "      <th>Policy_Holding_Duration</th>\n",
       "      <th>Proposed_Health_Insurance_Category</th>\n",
       "    </tr>\n",
       "  </thead>\n",
       "  <tbody>\n",
       "    <tr>\n",
       "      <th>0</th>\n",
       "      <td>0</td>\n",
       "      <td>-1.435572</td>\n",
       "      <td>-2.547117e-16</td>\n",
       "      <td>-0.017867</td>\n",
       "    </tr>\n",
       "    <tr>\n",
       "      <th>1</th>\n",
       "      <td>1</td>\n",
       "      <td>0.932393</td>\n",
       "      <td>2.294159e+00</td>\n",
       "      <td>1.084234</td>\n",
       "    </tr>\n",
       "    <tr>\n",
       "      <th>2</th>\n",
       "      <td>2</td>\n",
       "      <td>-1.089040</td>\n",
       "      <td>-1.147199e+00</td>\n",
       "      <td>0.297019</td>\n",
       "    </tr>\n",
       "    <tr>\n",
       "      <th>3</th>\n",
       "      <td>3</td>\n",
       "      <td>-1.089040</td>\n",
       "      <td>-2.547117e-16</td>\n",
       "      <td>1.084234</td>\n",
       "    </tr>\n",
       "    <tr>\n",
       "      <th>4</th>\n",
       "      <td>4</td>\n",
       "      <td>0.239330</td>\n",
       "      <td>-1.433979e+00</td>\n",
       "      <td>-2.222069</td>\n",
       "    </tr>\n",
       "    <tr>\n",
       "      <th>...</th>\n",
       "      <td>...</td>\n",
       "      <td>...</td>\n",
       "      <td>...</td>\n",
       "      <td>...</td>\n",
       "    </tr>\n",
       "    <tr>\n",
       "      <th>35612</th>\n",
       "      <td>35612</td>\n",
       "      <td>-1.320061</td>\n",
       "      <td>-2.547117e-16</td>\n",
       "      <td>0.769348</td>\n",
       "    </tr>\n",
       "    <tr>\n",
       "      <th>35613</th>\n",
       "      <td>35613</td>\n",
       "      <td>0.932393</td>\n",
       "      <td>2.866998e-01</td>\n",
       "      <td>0.769348</td>\n",
       "    </tr>\n",
       "    <tr>\n",
       "      <th>35614</th>\n",
       "      <td>35614</td>\n",
       "      <td>0.816882</td>\n",
       "      <td>2.866998e-01</td>\n",
       "      <td>-1.749740</td>\n",
       "    </tr>\n",
       "    <tr>\n",
       "      <th>35615</th>\n",
       "      <td>35615</td>\n",
       "      <td>0.008309</td>\n",
       "      <td>5.734797e-01</td>\n",
       "      <td>-0.332753</td>\n",
       "    </tr>\n",
       "    <tr>\n",
       "      <th>35616</th>\n",
       "      <td>35616</td>\n",
       "      <td>1.740966</td>\n",
       "      <td>-8.604195e-01</td>\n",
       "      <td>0.611905</td>\n",
       "    </tr>\n",
       "  </tbody>\n",
       "</table>\n",
       "<p>35617 rows × 4 columns</p>\n",
       "</div>"
      ],
      "text/plain": [
       "       index   Max_Age  Policy_Holding_Duration  \\\n",
       "0          0 -1.435572            -2.547117e-16   \n",
       "1          1  0.932393             2.294159e+00   \n",
       "2          2 -1.089040            -1.147199e+00   \n",
       "3          3 -1.089040            -2.547117e-16   \n",
       "4          4  0.239330            -1.433979e+00   \n",
       "...      ...       ...                      ...   \n",
       "35612  35612 -1.320061            -2.547117e-16   \n",
       "35613  35613  0.932393             2.866998e-01   \n",
       "35614  35614  0.816882             2.866998e-01   \n",
       "35615  35615  0.008309             5.734797e-01   \n",
       "35616  35616  1.740966            -8.604195e-01   \n",
       "\n",
       "       Proposed_Health_Insurance_Category  \n",
       "0                               -0.017867  \n",
       "1                                1.084234  \n",
       "2                                0.297019  \n",
       "3                                1.084234  \n",
       "4                               -2.222069  \n",
       "...                                   ...  \n",
       "35612                            0.769348  \n",
       "35613                            0.769348  \n",
       "35614                           -1.749740  \n",
       "35615                           -0.332753  \n",
       "35616                            0.611905  \n",
       "\n",
       "[35617 rows x 4 columns]"
      ]
     },
     "execution_count": 62,
     "metadata": {},
     "output_type": "execute_result"
    }
   ],
   "source": [
    "# resetting the index to concat correctly\n",
    "X_train_std = X_train_std.reset_index()\n",
    "X_train_std"
   ]
  },
  {
   "cell_type": "code",
   "execution_count": 63,
   "metadata": {
    "execution": {
     "iopub.execute_input": "2023-04-16T14:34:40.837827Z",
     "iopub.status.busy": "2023-04-16T14:34:40.837515Z",
     "iopub.status.idle": "2023-04-16T14:34:40.854669Z",
     "shell.execute_reply": "2023-04-16T14:34:40.853218Z",
     "shell.execute_reply.started": "2023-04-16T14:34:40.837798Z"
    }
   },
   "outputs": [
    {
     "data": {
      "text/html": [
       "<div>\n",
       "<style scoped>\n",
       "    .dataframe tbody tr th:only-of-type {\n",
       "        vertical-align: middle;\n",
       "    }\n",
       "\n",
       "    .dataframe tbody tr th {\n",
       "        vertical-align: top;\n",
       "    }\n",
       "\n",
       "    .dataframe thead th {\n",
       "        text-align: right;\n",
       "    }\n",
       "</style>\n",
       "<table border=\"1\" class=\"dataframe\">\n",
       "  <thead>\n",
       "    <tr style=\"text-align: right;\">\n",
       "      <th></th>\n",
       "      <th>Max_Age</th>\n",
       "      <th>Policy_Holding_Duration</th>\n",
       "      <th>Proposed_Health_Insurance_Category</th>\n",
       "    </tr>\n",
       "  </thead>\n",
       "  <tbody>\n",
       "    <tr>\n",
       "      <th>0</th>\n",
       "      <td>-1.435572</td>\n",
       "      <td>-2.547117e-16</td>\n",
       "      <td>-0.017867</td>\n",
       "    </tr>\n",
       "    <tr>\n",
       "      <th>1</th>\n",
       "      <td>0.932393</td>\n",
       "      <td>2.294159e+00</td>\n",
       "      <td>1.084234</td>\n",
       "    </tr>\n",
       "    <tr>\n",
       "      <th>2</th>\n",
       "      <td>-1.089040</td>\n",
       "      <td>-1.147199e+00</td>\n",
       "      <td>0.297019</td>\n",
       "    </tr>\n",
       "    <tr>\n",
       "      <th>3</th>\n",
       "      <td>-1.089040</td>\n",
       "      <td>-2.547117e-16</td>\n",
       "      <td>1.084234</td>\n",
       "    </tr>\n",
       "    <tr>\n",
       "      <th>4</th>\n",
       "      <td>0.239330</td>\n",
       "      <td>-1.433979e+00</td>\n",
       "      <td>-2.222069</td>\n",
       "    </tr>\n",
       "    <tr>\n",
       "      <th>...</th>\n",
       "      <td>...</td>\n",
       "      <td>...</td>\n",
       "      <td>...</td>\n",
       "    </tr>\n",
       "    <tr>\n",
       "      <th>35612</th>\n",
       "      <td>-1.320061</td>\n",
       "      <td>-2.547117e-16</td>\n",
       "      <td>0.769348</td>\n",
       "    </tr>\n",
       "    <tr>\n",
       "      <th>35613</th>\n",
       "      <td>0.932393</td>\n",
       "      <td>2.866998e-01</td>\n",
       "      <td>0.769348</td>\n",
       "    </tr>\n",
       "    <tr>\n",
       "      <th>35614</th>\n",
       "      <td>0.816882</td>\n",
       "      <td>2.866998e-01</td>\n",
       "      <td>-1.749740</td>\n",
       "    </tr>\n",
       "    <tr>\n",
       "      <th>35615</th>\n",
       "      <td>0.008309</td>\n",
       "      <td>5.734797e-01</td>\n",
       "      <td>-0.332753</td>\n",
       "    </tr>\n",
       "    <tr>\n",
       "      <th>35616</th>\n",
       "      <td>1.740966</td>\n",
       "      <td>-8.604195e-01</td>\n",
       "      <td>0.611905</td>\n",
       "    </tr>\n",
       "  </tbody>\n",
       "</table>\n",
       "<p>35617 rows × 3 columns</p>\n",
       "</div>"
      ],
      "text/plain": [
       "        Max_Age  Policy_Holding_Duration  Proposed_Health_Insurance_Category\n",
       "0     -1.435572            -2.547117e-16                           -0.017867\n",
       "1      0.932393             2.294159e+00                            1.084234\n",
       "2     -1.089040            -1.147199e+00                            0.297019\n",
       "3     -1.089040            -2.547117e-16                            1.084234\n",
       "4      0.239330            -1.433979e+00                           -2.222069\n",
       "...         ...                      ...                                 ...\n",
       "35612 -1.320061            -2.547117e-16                            0.769348\n",
       "35613  0.932393             2.866998e-01                            0.769348\n",
       "35614  0.816882             2.866998e-01                           -1.749740\n",
       "35615  0.008309             5.734797e-01                           -0.332753\n",
       "35616  1.740966            -8.604195e-01                            0.611905\n",
       "\n",
       "[35617 rows x 3 columns]"
      ]
     },
     "execution_count": 63,
     "metadata": {},
     "output_type": "execute_result"
    }
   ],
   "source": [
    "# dropping the index column \n",
    "X_train_std = X_train_std.drop([\"index\"], axis = 1)\n",
    "X_train_std"
   ]
  },
  {
   "cell_type": "code",
   "execution_count": 64,
   "metadata": {
    "execution": {
     "iopub.execute_input": "2023-04-16T14:34:41.155584Z",
     "iopub.status.busy": "2023-04-16T14:34:41.155266Z",
     "iopub.status.idle": "2023-04-16T14:34:41.174829Z",
     "shell.execute_reply": "2023-04-16T14:34:41.173719Z",
     "shell.execute_reply.started": "2023-04-16T14:34:41.155553Z"
    }
   },
   "outputs": [
    {
     "data": {
      "text/html": [
       "<div>\n",
       "<style scoped>\n",
       "    .dataframe tbody tr th:only-of-type {\n",
       "        vertical-align: middle;\n",
       "    }\n",
       "\n",
       "    .dataframe tbody tr th {\n",
       "        vertical-align: top;\n",
       "    }\n",
       "\n",
       "    .dataframe thead th {\n",
       "        text-align: right;\n",
       "    }\n",
       "</style>\n",
       "<table border=\"1\" class=\"dataframe\">\n",
       "  <thead>\n",
       "    <tr style=\"text-align: right;\">\n",
       "      <th></th>\n",
       "      <th>index</th>\n",
       "      <th>Max_Age</th>\n",
       "      <th>Policy_Holding_Duration</th>\n",
       "      <th>Proposed_Health_Insurance_Category</th>\n",
       "    </tr>\n",
       "  </thead>\n",
       "  <tbody>\n",
       "    <tr>\n",
       "      <th>0</th>\n",
       "      <td>0</td>\n",
       "      <td>-0.973530</td>\n",
       "      <td>-2.547117e-16</td>\n",
       "      <td>1.084234</td>\n",
       "    </tr>\n",
       "    <tr>\n",
       "      <th>1</th>\n",
       "      <td>1</td>\n",
       "      <td>-1.031285</td>\n",
       "      <td>-2.868598e-01</td>\n",
       "      <td>0.139576</td>\n",
       "    </tr>\n",
       "    <tr>\n",
       "      <th>2</th>\n",
       "      <td>2</td>\n",
       "      <td>-0.164957</td>\n",
       "      <td>-2.547117e-16</td>\n",
       "      <td>0.926791</td>\n",
       "    </tr>\n",
       "    <tr>\n",
       "      <th>3</th>\n",
       "      <td>3</td>\n",
       "      <td>-0.626999</td>\n",
       "      <td>-2.547117e-16</td>\n",
       "      <td>0.297019</td>\n",
       "    </tr>\n",
       "    <tr>\n",
       "      <th>4</th>\n",
       "      <td>4</td>\n",
       "      <td>1.394434</td>\n",
       "      <td>-2.547117e-16</td>\n",
       "      <td>0.926791</td>\n",
       "    </tr>\n",
       "    <tr>\n",
       "      <th>...</th>\n",
       "      <td>...</td>\n",
       "      <td>...</td>\n",
       "      <td>...</td>\n",
       "      <td>...</td>\n",
       "    </tr>\n",
       "    <tr>\n",
       "      <th>15260</th>\n",
       "      <td>15260</td>\n",
       "      <td>-0.915775</td>\n",
       "      <td>2.866998e-01</td>\n",
       "      <td>-2.222069</td>\n",
       "    </tr>\n",
       "    <tr>\n",
       "      <th>15261</th>\n",
       "      <td>15261</td>\n",
       "      <td>-1.493327</td>\n",
       "      <td>-2.547117e-16</td>\n",
       "      <td>0.139576</td>\n",
       "    </tr>\n",
       "    <tr>\n",
       "      <th>15262</th>\n",
       "      <td>15262</td>\n",
       "      <td>1.394434</td>\n",
       "      <td>-2.868598e-01</td>\n",
       "      <td>-1.277411</td>\n",
       "    </tr>\n",
       "    <tr>\n",
       "      <th>15263</th>\n",
       "      <td>15263</td>\n",
       "      <td>-1.031285</td>\n",
       "      <td>-2.547117e-16</td>\n",
       "      <td>0.926791</td>\n",
       "    </tr>\n",
       "    <tr>\n",
       "      <th>15264</th>\n",
       "      <td>15264</td>\n",
       "      <td>1.683210</td>\n",
       "      <td>-5.736397e-01</td>\n",
       "      <td>1.084234</td>\n",
       "    </tr>\n",
       "  </tbody>\n",
       "</table>\n",
       "<p>15265 rows × 4 columns</p>\n",
       "</div>"
      ],
      "text/plain": [
       "       index   Max_Age  Policy_Holding_Duration  \\\n",
       "0          0 -0.973530            -2.547117e-16   \n",
       "1          1 -1.031285            -2.868598e-01   \n",
       "2          2 -0.164957            -2.547117e-16   \n",
       "3          3 -0.626999            -2.547117e-16   \n",
       "4          4  1.394434            -2.547117e-16   \n",
       "...      ...       ...                      ...   \n",
       "15260  15260 -0.915775             2.866998e-01   \n",
       "15261  15261 -1.493327            -2.547117e-16   \n",
       "15262  15262  1.394434            -2.868598e-01   \n",
       "15263  15263 -1.031285            -2.547117e-16   \n",
       "15264  15264  1.683210            -5.736397e-01   \n",
       "\n",
       "       Proposed_Health_Insurance_Category  \n",
       "0                                1.084234  \n",
       "1                                0.139576  \n",
       "2                                0.926791  \n",
       "3                                0.297019  \n",
       "4                                0.926791  \n",
       "...                                   ...  \n",
       "15260                           -2.222069  \n",
       "15261                            0.139576  \n",
       "15262                           -1.277411  \n",
       "15263                            0.926791  \n",
       "15264                            1.084234  \n",
       "\n",
       "[15265 rows x 4 columns]"
      ]
     },
     "execution_count": 64,
     "metadata": {},
     "output_type": "execute_result"
    }
   ],
   "source": [
    "# resetting the index to concat correctly\n",
    "X_val_std = X_val_std.reset_index()\n",
    "X_val_std"
   ]
  },
  {
   "cell_type": "code",
   "execution_count": 65,
   "metadata": {
    "execution": {
     "iopub.execute_input": "2023-04-16T14:34:41.370396Z",
     "iopub.status.busy": "2023-04-16T14:34:41.369694Z",
     "iopub.status.idle": "2023-04-16T14:34:41.389161Z",
     "shell.execute_reply": "2023-04-16T14:34:41.387777Z",
     "shell.execute_reply.started": "2023-04-16T14:34:41.370357Z"
    }
   },
   "outputs": [
    {
     "data": {
      "text/html": [
       "<div>\n",
       "<style scoped>\n",
       "    .dataframe tbody tr th:only-of-type {\n",
       "        vertical-align: middle;\n",
       "    }\n",
       "\n",
       "    .dataframe tbody tr th {\n",
       "        vertical-align: top;\n",
       "    }\n",
       "\n",
       "    .dataframe thead th {\n",
       "        text-align: right;\n",
       "    }\n",
       "</style>\n",
       "<table border=\"1\" class=\"dataframe\">\n",
       "  <thead>\n",
       "    <tr style=\"text-align: right;\">\n",
       "      <th></th>\n",
       "      <th>Max_Age</th>\n",
       "      <th>Policy_Holding_Duration</th>\n",
       "      <th>Proposed_Health_Insurance_Category</th>\n",
       "    </tr>\n",
       "  </thead>\n",
       "  <tbody>\n",
       "    <tr>\n",
       "      <th>0</th>\n",
       "      <td>-0.973530</td>\n",
       "      <td>-2.547117e-16</td>\n",
       "      <td>1.084234</td>\n",
       "    </tr>\n",
       "    <tr>\n",
       "      <th>1</th>\n",
       "      <td>-1.031285</td>\n",
       "      <td>-2.868598e-01</td>\n",
       "      <td>0.139576</td>\n",
       "    </tr>\n",
       "    <tr>\n",
       "      <th>2</th>\n",
       "      <td>-0.164957</td>\n",
       "      <td>-2.547117e-16</td>\n",
       "      <td>0.926791</td>\n",
       "    </tr>\n",
       "    <tr>\n",
       "      <th>3</th>\n",
       "      <td>-0.626999</td>\n",
       "      <td>-2.547117e-16</td>\n",
       "      <td>0.297019</td>\n",
       "    </tr>\n",
       "    <tr>\n",
       "      <th>4</th>\n",
       "      <td>1.394434</td>\n",
       "      <td>-2.547117e-16</td>\n",
       "      <td>0.926791</td>\n",
       "    </tr>\n",
       "    <tr>\n",
       "      <th>...</th>\n",
       "      <td>...</td>\n",
       "      <td>...</td>\n",
       "      <td>...</td>\n",
       "    </tr>\n",
       "    <tr>\n",
       "      <th>15260</th>\n",
       "      <td>-0.915775</td>\n",
       "      <td>2.866998e-01</td>\n",
       "      <td>-2.222069</td>\n",
       "    </tr>\n",
       "    <tr>\n",
       "      <th>15261</th>\n",
       "      <td>-1.493327</td>\n",
       "      <td>-2.547117e-16</td>\n",
       "      <td>0.139576</td>\n",
       "    </tr>\n",
       "    <tr>\n",
       "      <th>15262</th>\n",
       "      <td>1.394434</td>\n",
       "      <td>-2.868598e-01</td>\n",
       "      <td>-1.277411</td>\n",
       "    </tr>\n",
       "    <tr>\n",
       "      <th>15263</th>\n",
       "      <td>-1.031285</td>\n",
       "      <td>-2.547117e-16</td>\n",
       "      <td>0.926791</td>\n",
       "    </tr>\n",
       "    <tr>\n",
       "      <th>15264</th>\n",
       "      <td>1.683210</td>\n",
       "      <td>-5.736397e-01</td>\n",
       "      <td>1.084234</td>\n",
       "    </tr>\n",
       "  </tbody>\n",
       "</table>\n",
       "<p>15265 rows × 3 columns</p>\n",
       "</div>"
      ],
      "text/plain": [
       "        Max_Age  Policy_Holding_Duration  Proposed_Health_Insurance_Category\n",
       "0     -0.973530            -2.547117e-16                            1.084234\n",
       "1     -1.031285            -2.868598e-01                            0.139576\n",
       "2     -0.164957            -2.547117e-16                            0.926791\n",
       "3     -0.626999            -2.547117e-16                            0.297019\n",
       "4      1.394434            -2.547117e-16                            0.926791\n",
       "...         ...                      ...                                 ...\n",
       "15260 -0.915775             2.866998e-01                           -2.222069\n",
       "15261 -1.493327            -2.547117e-16                            0.139576\n",
       "15262  1.394434            -2.868598e-01                           -1.277411\n",
       "15263 -1.031285            -2.547117e-16                            0.926791\n",
       "15264  1.683210            -5.736397e-01                            1.084234\n",
       "\n",
       "[15265 rows x 3 columns]"
      ]
     },
     "execution_count": 65,
     "metadata": {},
     "output_type": "execute_result"
    }
   ],
   "source": [
    "# dropping the index column \n",
    "X_val_std = X_val_std.drop([\"index\"], axis = 1)\n",
    "X_val_std"
   ]
  },
  {
   "cell_type": "code",
   "execution_count": 66,
   "metadata": {
    "execution": {
     "iopub.execute_input": "2023-04-16T14:34:41.670032Z",
     "iopub.status.busy": "2023-04-16T14:34:41.669316Z",
     "iopub.status.idle": "2023-04-16T14:34:41.682771Z",
     "shell.execute_reply": "2023-04-16T14:34:41.681637Z",
     "shell.execute_reply.started": "2023-04-16T14:34:41.669963Z"
    }
   },
   "outputs": [
    {
     "data": {
      "text/html": [
       "<div>\n",
       "<style scoped>\n",
       "    .dataframe tbody tr th:only-of-type {\n",
       "        vertical-align: middle;\n",
       "    }\n",
       "\n",
       "    .dataframe tbody tr th {\n",
       "        vertical-align: top;\n",
       "    }\n",
       "\n",
       "    .dataframe thead th {\n",
       "        text-align: right;\n",
       "    }\n",
       "</style>\n",
       "<table border=\"1\" class=\"dataframe\">\n",
       "  <thead>\n",
       "    <tr style=\"text-align: right;\">\n",
       "      <th></th>\n",
       "      <th>index</th>\n",
       "      <th>Proposed_Insurance_Type _Joint</th>\n",
       "    </tr>\n",
       "  </thead>\n",
       "  <tbody>\n",
       "    <tr>\n",
       "      <th>0</th>\n",
       "      <td>35053</td>\n",
       "      <td>0</td>\n",
       "    </tr>\n",
       "    <tr>\n",
       "      <th>1</th>\n",
       "      <td>48575</td>\n",
       "      <td>0</td>\n",
       "    </tr>\n",
       "    <tr>\n",
       "      <th>2</th>\n",
       "      <td>27173</td>\n",
       "      <td>0</td>\n",
       "    </tr>\n",
       "    <tr>\n",
       "      <th>3</th>\n",
       "      <td>15143</td>\n",
       "      <td>0</td>\n",
       "    </tr>\n",
       "    <tr>\n",
       "      <th>4</th>\n",
       "      <td>1886</td>\n",
       "      <td>0</td>\n",
       "    </tr>\n",
       "    <tr>\n",
       "      <th>...</th>\n",
       "      <td>...</td>\n",
       "      <td>...</td>\n",
       "    </tr>\n",
       "    <tr>\n",
       "      <th>35612</th>\n",
       "      <td>19197</td>\n",
       "      <td>0</td>\n",
       "    </tr>\n",
       "    <tr>\n",
       "      <th>35613</th>\n",
       "      <td>44941</td>\n",
       "      <td>0</td>\n",
       "    </tr>\n",
       "    <tr>\n",
       "      <th>35614</th>\n",
       "      <td>1429</td>\n",
       "      <td>1</td>\n",
       "    </tr>\n",
       "    <tr>\n",
       "      <th>35615</th>\n",
       "      <td>33061</td>\n",
       "      <td>1</td>\n",
       "    </tr>\n",
       "    <tr>\n",
       "      <th>35616</th>\n",
       "      <td>18253</td>\n",
       "      <td>1</td>\n",
       "    </tr>\n",
       "  </tbody>\n",
       "</table>\n",
       "<p>35617 rows × 2 columns</p>\n",
       "</div>"
      ],
      "text/plain": [
       "       index  Proposed_Insurance_Type _Joint\n",
       "0      35053                               0\n",
       "1      48575                               0\n",
       "2      27173                               0\n",
       "3      15143                               0\n",
       "4       1886                               0\n",
       "...      ...                             ...\n",
       "35612  19197                               0\n",
       "35613  44941                               0\n",
       "35614   1429                               1\n",
       "35615  33061                               1\n",
       "35616  18253                               1\n",
       "\n",
       "[35617 rows x 2 columns]"
      ]
     },
     "execution_count": 66,
     "metadata": {},
     "output_type": "execute_result"
    }
   ],
   "source": [
    "# resetting the index to concat correctly\n",
    "X_train_dummies = X_train_dummies.reset_index()\n",
    "X_train_dummies"
   ]
  },
  {
   "cell_type": "code",
   "execution_count": 67,
   "metadata": {
    "execution": {
     "iopub.execute_input": "2023-04-16T14:34:41.909285Z",
     "iopub.status.busy": "2023-04-16T14:34:41.907689Z",
     "iopub.status.idle": "2023-04-16T14:34:41.920492Z",
     "shell.execute_reply": "2023-04-16T14:34:41.919413Z",
     "shell.execute_reply.started": "2023-04-16T14:34:41.909239Z"
    }
   },
   "outputs": [
    {
     "data": {
      "text/html": [
       "<div>\n",
       "<style scoped>\n",
       "    .dataframe tbody tr th:only-of-type {\n",
       "        vertical-align: middle;\n",
       "    }\n",
       "\n",
       "    .dataframe tbody tr th {\n",
       "        vertical-align: top;\n",
       "    }\n",
       "\n",
       "    .dataframe thead th {\n",
       "        text-align: right;\n",
       "    }\n",
       "</style>\n",
       "<table border=\"1\" class=\"dataframe\">\n",
       "  <thead>\n",
       "    <tr style=\"text-align: right;\">\n",
       "      <th></th>\n",
       "      <th>Proposed_Insurance_Type _Joint</th>\n",
       "    </tr>\n",
       "  </thead>\n",
       "  <tbody>\n",
       "    <tr>\n",
       "      <th>0</th>\n",
       "      <td>0</td>\n",
       "    </tr>\n",
       "    <tr>\n",
       "      <th>1</th>\n",
       "      <td>0</td>\n",
       "    </tr>\n",
       "    <tr>\n",
       "      <th>2</th>\n",
       "      <td>0</td>\n",
       "    </tr>\n",
       "    <tr>\n",
       "      <th>3</th>\n",
       "      <td>0</td>\n",
       "    </tr>\n",
       "    <tr>\n",
       "      <th>4</th>\n",
       "      <td>0</td>\n",
       "    </tr>\n",
       "    <tr>\n",
       "      <th>...</th>\n",
       "      <td>...</td>\n",
       "    </tr>\n",
       "    <tr>\n",
       "      <th>35612</th>\n",
       "      <td>0</td>\n",
       "    </tr>\n",
       "    <tr>\n",
       "      <th>35613</th>\n",
       "      <td>0</td>\n",
       "    </tr>\n",
       "    <tr>\n",
       "      <th>35614</th>\n",
       "      <td>1</td>\n",
       "    </tr>\n",
       "    <tr>\n",
       "      <th>35615</th>\n",
       "      <td>1</td>\n",
       "    </tr>\n",
       "    <tr>\n",
       "      <th>35616</th>\n",
       "      <td>1</td>\n",
       "    </tr>\n",
       "  </tbody>\n",
       "</table>\n",
       "<p>35617 rows × 1 columns</p>\n",
       "</div>"
      ],
      "text/plain": [
       "       Proposed_Insurance_Type _Joint\n",
       "0                                   0\n",
       "1                                   0\n",
       "2                                   0\n",
       "3                                   0\n",
       "4                                   0\n",
       "...                               ...\n",
       "35612                               0\n",
       "35613                               0\n",
       "35614                               1\n",
       "35615                               1\n",
       "35616                               1\n",
       "\n",
       "[35617 rows x 1 columns]"
      ]
     },
     "execution_count": 67,
     "metadata": {},
     "output_type": "execute_result"
    }
   ],
   "source": [
    "# dropping the index column \n",
    "X_train_dummies = X_train_dummies.drop([\"index\"], axis = 1)\n",
    "X_train_dummies"
   ]
  },
  {
   "cell_type": "code",
   "execution_count": 68,
   "metadata": {
    "execution": {
     "iopub.execute_input": "2023-04-16T14:34:42.217376Z",
     "iopub.status.busy": "2023-04-16T14:34:42.216433Z",
     "iopub.status.idle": "2023-04-16T14:34:42.230268Z",
     "shell.execute_reply": "2023-04-16T14:34:42.228972Z",
     "shell.execute_reply.started": "2023-04-16T14:34:42.217330Z"
    }
   },
   "outputs": [
    {
     "data": {
      "text/html": [
       "<div>\n",
       "<style scoped>\n",
       "    .dataframe tbody tr th:only-of-type {\n",
       "        vertical-align: middle;\n",
       "    }\n",
       "\n",
       "    .dataframe tbody tr th {\n",
       "        vertical-align: top;\n",
       "    }\n",
       "\n",
       "    .dataframe thead th {\n",
       "        text-align: right;\n",
       "    }\n",
       "</style>\n",
       "<table border=\"1\" class=\"dataframe\">\n",
       "  <thead>\n",
       "    <tr style=\"text-align: right;\">\n",
       "      <th></th>\n",
       "      <th>index</th>\n",
       "      <th>Proposed_Insurance_Type _Joint</th>\n",
       "    </tr>\n",
       "  </thead>\n",
       "  <tbody>\n",
       "    <tr>\n",
       "      <th>0</th>\n",
       "      <td>12621</td>\n",
       "      <td>0</td>\n",
       "    </tr>\n",
       "    <tr>\n",
       "      <th>1</th>\n",
       "      <td>43308</td>\n",
       "      <td>0</td>\n",
       "    </tr>\n",
       "    <tr>\n",
       "      <th>2</th>\n",
       "      <td>13109</td>\n",
       "      <td>0</td>\n",
       "    </tr>\n",
       "    <tr>\n",
       "      <th>3</th>\n",
       "      <td>16917</td>\n",
       "      <td>1</td>\n",
       "    </tr>\n",
       "    <tr>\n",
       "      <th>4</th>\n",
       "      <td>23706</td>\n",
       "      <td>0</td>\n",
       "    </tr>\n",
       "    <tr>\n",
       "      <th>...</th>\n",
       "      <td>...</td>\n",
       "      <td>...</td>\n",
       "    </tr>\n",
       "    <tr>\n",
       "      <th>15260</th>\n",
       "      <td>18089</td>\n",
       "      <td>0</td>\n",
       "    </tr>\n",
       "    <tr>\n",
       "      <th>15261</th>\n",
       "      <td>9541</td>\n",
       "      <td>0</td>\n",
       "    </tr>\n",
       "    <tr>\n",
       "      <th>15262</th>\n",
       "      <td>11536</td>\n",
       "      <td>1</td>\n",
       "    </tr>\n",
       "    <tr>\n",
       "      <th>15263</th>\n",
       "      <td>39721</td>\n",
       "      <td>0</td>\n",
       "    </tr>\n",
       "    <tr>\n",
       "      <th>15264</th>\n",
       "      <td>26721</td>\n",
       "      <td>0</td>\n",
       "    </tr>\n",
       "  </tbody>\n",
       "</table>\n",
       "<p>15265 rows × 2 columns</p>\n",
       "</div>"
      ],
      "text/plain": [
       "       index  Proposed_Insurance_Type _Joint\n",
       "0      12621                               0\n",
       "1      43308                               0\n",
       "2      13109                               0\n",
       "3      16917                               1\n",
       "4      23706                               0\n",
       "...      ...                             ...\n",
       "15260  18089                               0\n",
       "15261   9541                               0\n",
       "15262  11536                               1\n",
       "15263  39721                               0\n",
       "15264  26721                               0\n",
       "\n",
       "[15265 rows x 2 columns]"
      ]
     },
     "execution_count": 68,
     "metadata": {},
     "output_type": "execute_result"
    }
   ],
   "source": [
    "# resetting the index to concat correctly\n",
    "X_val_dummies = X_val_dummies.reset_index()\n",
    "X_val_dummies"
   ]
  },
  {
   "cell_type": "code",
   "execution_count": 69,
   "metadata": {
    "execution": {
     "iopub.execute_input": "2023-04-16T14:34:42.458082Z",
     "iopub.status.busy": "2023-04-16T14:34:42.457444Z",
     "iopub.status.idle": "2023-04-16T14:34:42.469365Z",
     "shell.execute_reply": "2023-04-16T14:34:42.468330Z",
     "shell.execute_reply.started": "2023-04-16T14:34:42.458040Z"
    }
   },
   "outputs": [
    {
     "data": {
      "text/html": [
       "<div>\n",
       "<style scoped>\n",
       "    .dataframe tbody tr th:only-of-type {\n",
       "        vertical-align: middle;\n",
       "    }\n",
       "\n",
       "    .dataframe tbody tr th {\n",
       "        vertical-align: top;\n",
       "    }\n",
       "\n",
       "    .dataframe thead th {\n",
       "        text-align: right;\n",
       "    }\n",
       "</style>\n",
       "<table border=\"1\" class=\"dataframe\">\n",
       "  <thead>\n",
       "    <tr style=\"text-align: right;\">\n",
       "      <th></th>\n",
       "      <th>Proposed_Insurance_Type _Joint</th>\n",
       "    </tr>\n",
       "  </thead>\n",
       "  <tbody>\n",
       "    <tr>\n",
       "      <th>0</th>\n",
       "      <td>0</td>\n",
       "    </tr>\n",
       "    <tr>\n",
       "      <th>1</th>\n",
       "      <td>0</td>\n",
       "    </tr>\n",
       "    <tr>\n",
       "      <th>2</th>\n",
       "      <td>0</td>\n",
       "    </tr>\n",
       "    <tr>\n",
       "      <th>3</th>\n",
       "      <td>1</td>\n",
       "    </tr>\n",
       "    <tr>\n",
       "      <th>4</th>\n",
       "      <td>0</td>\n",
       "    </tr>\n",
       "    <tr>\n",
       "      <th>...</th>\n",
       "      <td>...</td>\n",
       "    </tr>\n",
       "    <tr>\n",
       "      <th>15260</th>\n",
       "      <td>0</td>\n",
       "    </tr>\n",
       "    <tr>\n",
       "      <th>15261</th>\n",
       "      <td>0</td>\n",
       "    </tr>\n",
       "    <tr>\n",
       "      <th>15262</th>\n",
       "      <td>1</td>\n",
       "    </tr>\n",
       "    <tr>\n",
       "      <th>15263</th>\n",
       "      <td>0</td>\n",
       "    </tr>\n",
       "    <tr>\n",
       "      <th>15264</th>\n",
       "      <td>0</td>\n",
       "    </tr>\n",
       "  </tbody>\n",
       "</table>\n",
       "<p>15265 rows × 1 columns</p>\n",
       "</div>"
      ],
      "text/plain": [
       "       Proposed_Insurance_Type _Joint\n",
       "0                                   0\n",
       "1                                   0\n",
       "2                                   0\n",
       "3                                   1\n",
       "4                                   0\n",
       "...                               ...\n",
       "15260                               0\n",
       "15261                               0\n",
       "15262                               1\n",
       "15263                               0\n",
       "15264                               0\n",
       "\n",
       "[15265 rows x 1 columns]"
      ]
     },
     "execution_count": 69,
     "metadata": {},
     "output_type": "execute_result"
    }
   ],
   "source": [
    "# dropping the index column \n",
    "X_val_dummies = X_val_dummies.drop([\"index\"], axis = 1)\n",
    "X_val_dummies"
   ]
  },
  {
   "cell_type": "code",
   "execution_count": 70,
   "metadata": {
    "execution": {
     "iopub.execute_input": "2023-04-16T14:34:42.805248Z",
     "iopub.status.busy": "2023-04-16T14:34:42.804310Z",
     "iopub.status.idle": "2023-04-16T14:34:42.811503Z",
     "shell.execute_reply": "2023-04-16T14:34:42.810256Z",
     "shell.execute_reply.started": "2023-04-16T14:34:42.805196Z"
    }
   },
   "outputs": [],
   "source": [
    "# Concating the X_train_std, X_train_dummies as final_X_train_data\n",
    "final_X_train = pd.concat([X_train_std,X_train_dummies], axis = 1)"
   ]
  },
  {
   "cell_type": "code",
   "execution_count": 71,
   "metadata": {
    "execution": {
     "iopub.execute_input": "2023-04-16T14:34:42.952758Z",
     "iopub.status.busy": "2023-04-16T14:34:42.952092Z",
     "iopub.status.idle": "2023-04-16T14:34:42.970784Z",
     "shell.execute_reply": "2023-04-16T14:34:42.969690Z",
     "shell.execute_reply.started": "2023-04-16T14:34:42.952721Z"
    }
   },
   "outputs": [
    {
     "data": {
      "text/html": [
       "<div>\n",
       "<style scoped>\n",
       "    .dataframe tbody tr th:only-of-type {\n",
       "        vertical-align: middle;\n",
       "    }\n",
       "\n",
       "    .dataframe tbody tr th {\n",
       "        vertical-align: top;\n",
       "    }\n",
       "\n",
       "    .dataframe thead th {\n",
       "        text-align: right;\n",
       "    }\n",
       "</style>\n",
       "<table border=\"1\" class=\"dataframe\">\n",
       "  <thead>\n",
       "    <tr style=\"text-align: right;\">\n",
       "      <th></th>\n",
       "      <th>Max_Age</th>\n",
       "      <th>Policy_Holding_Duration</th>\n",
       "      <th>Proposed_Health_Insurance_Category</th>\n",
       "      <th>Proposed_Insurance_Type _Joint</th>\n",
       "    </tr>\n",
       "  </thead>\n",
       "  <tbody>\n",
       "    <tr>\n",
       "      <th>0</th>\n",
       "      <td>-1.435572</td>\n",
       "      <td>-2.547117e-16</td>\n",
       "      <td>-0.017867</td>\n",
       "      <td>0</td>\n",
       "    </tr>\n",
       "    <tr>\n",
       "      <th>1</th>\n",
       "      <td>0.932393</td>\n",
       "      <td>2.294159e+00</td>\n",
       "      <td>1.084234</td>\n",
       "      <td>0</td>\n",
       "    </tr>\n",
       "    <tr>\n",
       "      <th>2</th>\n",
       "      <td>-1.089040</td>\n",
       "      <td>-1.147199e+00</td>\n",
       "      <td>0.297019</td>\n",
       "      <td>0</td>\n",
       "    </tr>\n",
       "    <tr>\n",
       "      <th>3</th>\n",
       "      <td>-1.089040</td>\n",
       "      <td>-2.547117e-16</td>\n",
       "      <td>1.084234</td>\n",
       "      <td>0</td>\n",
       "    </tr>\n",
       "    <tr>\n",
       "      <th>4</th>\n",
       "      <td>0.239330</td>\n",
       "      <td>-1.433979e+00</td>\n",
       "      <td>-2.222069</td>\n",
       "      <td>0</td>\n",
       "    </tr>\n",
       "    <tr>\n",
       "      <th>...</th>\n",
       "      <td>...</td>\n",
       "      <td>...</td>\n",
       "      <td>...</td>\n",
       "      <td>...</td>\n",
       "    </tr>\n",
       "    <tr>\n",
       "      <th>35612</th>\n",
       "      <td>-1.320061</td>\n",
       "      <td>-2.547117e-16</td>\n",
       "      <td>0.769348</td>\n",
       "      <td>0</td>\n",
       "    </tr>\n",
       "    <tr>\n",
       "      <th>35613</th>\n",
       "      <td>0.932393</td>\n",
       "      <td>2.866998e-01</td>\n",
       "      <td>0.769348</td>\n",
       "      <td>0</td>\n",
       "    </tr>\n",
       "    <tr>\n",
       "      <th>35614</th>\n",
       "      <td>0.816882</td>\n",
       "      <td>2.866998e-01</td>\n",
       "      <td>-1.749740</td>\n",
       "      <td>1</td>\n",
       "    </tr>\n",
       "    <tr>\n",
       "      <th>35615</th>\n",
       "      <td>0.008309</td>\n",
       "      <td>5.734797e-01</td>\n",
       "      <td>-0.332753</td>\n",
       "      <td>1</td>\n",
       "    </tr>\n",
       "    <tr>\n",
       "      <th>35616</th>\n",
       "      <td>1.740966</td>\n",
       "      <td>-8.604195e-01</td>\n",
       "      <td>0.611905</td>\n",
       "      <td>1</td>\n",
       "    </tr>\n",
       "  </tbody>\n",
       "</table>\n",
       "<p>35617 rows × 4 columns</p>\n",
       "</div>"
      ],
      "text/plain": [
       "        Max_Age  Policy_Holding_Duration  Proposed_Health_Insurance_Category  \\\n",
       "0     -1.435572            -2.547117e-16                           -0.017867   \n",
       "1      0.932393             2.294159e+00                            1.084234   \n",
       "2     -1.089040            -1.147199e+00                            0.297019   \n",
       "3     -1.089040            -2.547117e-16                            1.084234   \n",
       "4      0.239330            -1.433979e+00                           -2.222069   \n",
       "...         ...                      ...                                 ...   \n",
       "35612 -1.320061            -2.547117e-16                            0.769348   \n",
       "35613  0.932393             2.866998e-01                            0.769348   \n",
       "35614  0.816882             2.866998e-01                           -1.749740   \n",
       "35615  0.008309             5.734797e-01                           -0.332753   \n",
       "35616  1.740966            -8.604195e-01                            0.611905   \n",
       "\n",
       "       Proposed_Insurance_Type _Joint  \n",
       "0                                   0  \n",
       "1                                   0  \n",
       "2                                   0  \n",
       "3                                   0  \n",
       "4                                   0  \n",
       "...                               ...  \n",
       "35612                               0  \n",
       "35613                               0  \n",
       "35614                               1  \n",
       "35615                               1  \n",
       "35616                               1  \n",
       "\n",
       "[35617 rows x 4 columns]"
      ]
     },
     "execution_count": 71,
     "metadata": {},
     "output_type": "execute_result"
    }
   ],
   "source": [
    "final_X_train"
   ]
  },
  {
   "cell_type": "code",
   "execution_count": 72,
   "metadata": {
    "execution": {
     "iopub.execute_input": "2023-04-16T14:36:14.757412Z",
     "iopub.status.busy": "2023-04-16T14:36:14.756452Z",
     "iopub.status.idle": "2023-04-16T14:36:14.763630Z",
     "shell.execute_reply": "2023-04-16T14:36:14.762116Z",
     "shell.execute_reply.started": "2023-04-16T14:36:14.757371Z"
    }
   },
   "outputs": [],
   "source": [
    "# Concating the X_test_std, X_test_dummies as final_X_test_data\n",
    "final_X_val = pd.concat([X_val_std,X_val_dummies], axis = 1)"
   ]
  },
  {
   "cell_type": "code",
   "execution_count": 73,
   "metadata": {
    "execution": {
     "iopub.execute_input": "2023-04-16T14:36:16.337443Z",
     "iopub.status.busy": "2023-04-16T14:36:16.337095Z",
     "iopub.status.idle": "2023-04-16T14:36:16.355191Z",
     "shell.execute_reply": "2023-04-16T14:36:16.354066Z",
     "shell.execute_reply.started": "2023-04-16T14:36:16.337412Z"
    }
   },
   "outputs": [
    {
     "data": {
      "text/html": [
       "<div>\n",
       "<style scoped>\n",
       "    .dataframe tbody tr th:only-of-type {\n",
       "        vertical-align: middle;\n",
       "    }\n",
       "\n",
       "    .dataframe tbody tr th {\n",
       "        vertical-align: top;\n",
       "    }\n",
       "\n",
       "    .dataframe thead th {\n",
       "        text-align: right;\n",
       "    }\n",
       "</style>\n",
       "<table border=\"1\" class=\"dataframe\">\n",
       "  <thead>\n",
       "    <tr style=\"text-align: right;\">\n",
       "      <th></th>\n",
       "      <th>Max_Age</th>\n",
       "      <th>Policy_Holding_Duration</th>\n",
       "      <th>Proposed_Health_Insurance_Category</th>\n",
       "      <th>Proposed_Insurance_Type _Joint</th>\n",
       "    </tr>\n",
       "  </thead>\n",
       "  <tbody>\n",
       "    <tr>\n",
       "      <th>0</th>\n",
       "      <td>-0.973530</td>\n",
       "      <td>-2.547117e-16</td>\n",
       "      <td>1.084234</td>\n",
       "      <td>0</td>\n",
       "    </tr>\n",
       "    <tr>\n",
       "      <th>1</th>\n",
       "      <td>-1.031285</td>\n",
       "      <td>-2.868598e-01</td>\n",
       "      <td>0.139576</td>\n",
       "      <td>0</td>\n",
       "    </tr>\n",
       "    <tr>\n",
       "      <th>2</th>\n",
       "      <td>-0.164957</td>\n",
       "      <td>-2.547117e-16</td>\n",
       "      <td>0.926791</td>\n",
       "      <td>0</td>\n",
       "    </tr>\n",
       "    <tr>\n",
       "      <th>3</th>\n",
       "      <td>-0.626999</td>\n",
       "      <td>-2.547117e-16</td>\n",
       "      <td>0.297019</td>\n",
       "      <td>1</td>\n",
       "    </tr>\n",
       "    <tr>\n",
       "      <th>4</th>\n",
       "      <td>1.394434</td>\n",
       "      <td>-2.547117e-16</td>\n",
       "      <td>0.926791</td>\n",
       "      <td>0</td>\n",
       "    </tr>\n",
       "    <tr>\n",
       "      <th>...</th>\n",
       "      <td>...</td>\n",
       "      <td>...</td>\n",
       "      <td>...</td>\n",
       "      <td>...</td>\n",
       "    </tr>\n",
       "    <tr>\n",
       "      <th>15260</th>\n",
       "      <td>-0.915775</td>\n",
       "      <td>2.866998e-01</td>\n",
       "      <td>-2.222069</td>\n",
       "      <td>0</td>\n",
       "    </tr>\n",
       "    <tr>\n",
       "      <th>15261</th>\n",
       "      <td>-1.493327</td>\n",
       "      <td>-2.547117e-16</td>\n",
       "      <td>0.139576</td>\n",
       "      <td>0</td>\n",
       "    </tr>\n",
       "    <tr>\n",
       "      <th>15262</th>\n",
       "      <td>1.394434</td>\n",
       "      <td>-2.868598e-01</td>\n",
       "      <td>-1.277411</td>\n",
       "      <td>1</td>\n",
       "    </tr>\n",
       "    <tr>\n",
       "      <th>15263</th>\n",
       "      <td>-1.031285</td>\n",
       "      <td>-2.547117e-16</td>\n",
       "      <td>0.926791</td>\n",
       "      <td>0</td>\n",
       "    </tr>\n",
       "    <tr>\n",
       "      <th>15264</th>\n",
       "      <td>1.683210</td>\n",
       "      <td>-5.736397e-01</td>\n",
       "      <td>1.084234</td>\n",
       "      <td>0</td>\n",
       "    </tr>\n",
       "  </tbody>\n",
       "</table>\n",
       "<p>15265 rows × 4 columns</p>\n",
       "</div>"
      ],
      "text/plain": [
       "        Max_Age  Policy_Holding_Duration  Proposed_Health_Insurance_Category  \\\n",
       "0     -0.973530            -2.547117e-16                            1.084234   \n",
       "1     -1.031285            -2.868598e-01                            0.139576   \n",
       "2     -0.164957            -2.547117e-16                            0.926791   \n",
       "3     -0.626999            -2.547117e-16                            0.297019   \n",
       "4      1.394434            -2.547117e-16                            0.926791   \n",
       "...         ...                      ...                                 ...   \n",
       "15260 -0.915775             2.866998e-01                           -2.222069   \n",
       "15261 -1.493327            -2.547117e-16                            0.139576   \n",
       "15262  1.394434            -2.868598e-01                           -1.277411   \n",
       "15263 -1.031285            -2.547117e-16                            0.926791   \n",
       "15264  1.683210            -5.736397e-01                            1.084234   \n",
       "\n",
       "       Proposed_Insurance_Type _Joint  \n",
       "0                                   0  \n",
       "1                                   0  \n",
       "2                                   0  \n",
       "3                                   1  \n",
       "4                                   0  \n",
       "...                               ...  \n",
       "15260                               0  \n",
       "15261                               0  \n",
       "15262                               1  \n",
       "15263                               0  \n",
       "15264                               0  \n",
       "\n",
       "[15265 rows x 4 columns]"
      ]
     },
     "execution_count": 73,
     "metadata": {},
     "output_type": "execute_result"
    }
   ],
   "source": [
    "final_X_val"
   ]
  },
  {
   "cell_type": "markdown",
   "metadata": {},
   "source": [
    "# Model Building"
   ]
  },
  {
   "cell_type": "markdown",
   "metadata": {},
   "source": [
    "## Logistic Regression"
   ]
  },
  {
   "cell_type": "code",
   "execution_count": 74,
   "metadata": {
    "execution": {
     "iopub.execute_input": "2023-04-16T14:36:19.576483Z",
     "iopub.status.busy": "2023-04-16T14:36:19.575939Z",
     "iopub.status.idle": "2023-04-16T14:36:19.582443Z",
     "shell.execute_reply": "2023-04-16T14:36:19.580636Z",
     "shell.execute_reply.started": "2023-04-16T14:36:19.576420Z"
    }
   },
   "outputs": [],
   "source": [
    "from sklearn.linear_model import LogisticRegression\n",
    "from sklearn.model_selection import GridSearchCV"
   ]
  },
  {
   "cell_type": "code",
   "execution_count": 75,
   "metadata": {
    "execution": {
     "iopub.execute_input": "2023-04-16T14:36:20.209206Z",
     "iopub.status.busy": "2023-04-16T14:36:20.208555Z",
     "iopub.status.idle": "2023-04-16T14:36:20.215246Z",
     "shell.execute_reply": "2023-04-16T14:36:20.213733Z",
     "shell.execute_reply.started": "2023-04-16T14:36:20.209164Z"
    }
   },
   "outputs": [],
   "source": [
    "log_reg = LogisticRegression(random_state = 10)"
   ]
  },
  {
   "cell_type": "code",
   "execution_count": 76,
   "metadata": {
    "execution": {
     "iopub.execute_input": "2023-04-16T14:36:22.045910Z",
     "iopub.status.busy": "2023-04-16T14:36:22.044959Z",
     "iopub.status.idle": "2023-04-16T14:36:22.052457Z",
     "shell.execute_reply": "2023-04-16T14:36:22.051264Z",
     "shell.execute_reply.started": "2023-04-16T14:36:22.045871Z"
    }
   },
   "outputs": [],
   "source": [
    "# Define the parameter grid to search over\n",
    "param_grid = {\n",
    "    'penalty': ['l1', 'l2'],  # Regularization type\n",
    "    'C': [0.01, 0.1, 1, 10],  # Inverse of regularization strength\n",
    "    'solver': ['liblinear', 'saga']  # Algorithm to use in the optimization problem\n",
    "}"
   ]
  },
  {
   "cell_type": "code",
   "execution_count": 77,
   "metadata": {
    "execution": {
     "iopub.execute_input": "2023-04-16T14:36:23.234810Z",
     "iopub.status.busy": "2023-04-16T14:36:23.233984Z",
     "iopub.status.idle": "2023-04-16T14:36:23.240243Z",
     "shell.execute_reply": "2023-04-16T14:36:23.238576Z",
     "shell.execute_reply.started": "2023-04-16T14:36:23.234769Z"
    }
   },
   "outputs": [],
   "source": [
    "# Define the GridSearchCV object\n",
    "grid_search = GridSearchCV(log_reg, param_grid, cv=5)"
   ]
  },
  {
   "cell_type": "code",
   "execution_count": 78,
   "metadata": {
    "execution": {
     "iopub.execute_input": "2023-04-16T14:36:25.776443Z",
     "iopub.status.busy": "2023-04-16T14:36:25.775775Z",
     "iopub.status.idle": "2023-04-16T14:36:34.459429Z",
     "shell.execute_reply": "2023-04-16T14:36:34.457903Z",
     "shell.execute_reply.started": "2023-04-16T14:36:25.776405Z"
    }
   },
   "outputs": [
    {
     "data": {
      "text/plain": [
       "GridSearchCV(cv=5, estimator=LogisticRegression(random_state=10),\n",
       "             param_grid={'C': [0.01, 0.1, 1, 10], 'penalty': ['l1', 'l2'],\n",
       "                         'solver': ['liblinear', 'saga']})"
      ]
     },
     "execution_count": 78,
     "metadata": {},
     "output_type": "execute_result"
    }
   ],
   "source": [
    "# Fit GridSearchCV object to data\n",
    "grid_search.fit(final_X_train, y_train)"
   ]
  },
  {
   "cell_type": "code",
   "execution_count": 79,
   "metadata": {
    "execution": {
     "iopub.execute_input": "2023-04-16T14:36:34.468248Z",
     "iopub.status.busy": "2023-04-16T14:36:34.466830Z",
     "iopub.status.idle": "2023-04-16T14:36:34.480214Z",
     "shell.execute_reply": "2023-04-16T14:36:34.478871Z",
     "shell.execute_reply.started": "2023-04-16T14:36:34.468185Z"
    }
   },
   "outputs": [
    {
     "name": "stdout",
     "output_type": "stream",
     "text": [
      "Best hyperparameters:  {'C': 0.01, 'penalty': 'l1', 'solver': 'liblinear'}\n"
     ]
    }
   ],
   "source": [
    "# Print the best hyperparameters\n",
    "print(\"Best hyperparameters: \", grid_search.best_params_)"
   ]
  },
  {
   "cell_type": "code",
   "execution_count": 80,
   "metadata": {
    "execution": {
     "iopub.execute_input": "2023-04-16T14:36:34.483353Z",
     "iopub.status.busy": "2023-04-16T14:36:34.482107Z",
     "iopub.status.idle": "2023-04-16T14:36:34.544726Z",
     "shell.execute_reply": "2023-04-16T14:36:34.543741Z",
     "shell.execute_reply.started": "2023-04-16T14:36:34.483300Z"
    }
   },
   "outputs": [],
   "source": [
    "log_reg = LogisticRegression(C = 0.01, penalty = \"l1\", solver = \"liblinear\")\n",
    "log_reg = log_reg.fit(final_X_train,y_train)"
   ]
  },
  {
   "cell_type": "code",
   "execution_count": 81,
   "metadata": {
    "execution": {
     "iopub.execute_input": "2023-04-16T14:36:34.547874Z",
     "iopub.status.busy": "2023-04-16T14:36:34.547511Z",
     "iopub.status.idle": "2023-04-16T14:36:34.564360Z",
     "shell.execute_reply": "2023-04-16T14:36:34.563027Z",
     "shell.execute_reply.started": "2023-04-16T14:36:34.547836Z"
    }
   },
   "outputs": [
    {
     "data": {
      "text/plain": [
       "array([0, 0, 0, 0, 0, 0, 0, 0, 0, 0, 0, 0, 0, 0, 0, 0, 0, 0, 0, 0, 0, 0,\n",
       "       0, 0, 0, 0, 0, 0, 0, 0])"
      ]
     },
     "execution_count": 81,
     "metadata": {},
     "output_type": "execute_result"
    }
   ],
   "source": [
    "# predicting the y value for the train data\n",
    "log_reg_y_train_preds = log_reg.predict(final_X_train)\n",
    "log_reg_y_train_preds[0:30]"
   ]
  },
  {
   "cell_type": "code",
   "execution_count": 82,
   "metadata": {
    "execution": {
     "iopub.execute_input": "2023-04-16T14:36:34.573436Z",
     "iopub.status.busy": "2023-04-16T14:36:34.568802Z",
     "iopub.status.idle": "2023-04-16T14:36:34.590536Z",
     "shell.execute_reply": "2023-04-16T14:36:34.589269Z",
     "shell.execute_reply.started": "2023-04-16T14:36:34.573382Z"
    }
   },
   "outputs": [
    {
     "data": {
      "text/plain": [
       "array([0, 0, 0, 0, 0, 0, 0, 0, 0, 0, 0, 0, 0, 0, 0, 0, 0, 0, 0, 0, 0, 0,\n",
       "       0, 0, 0, 0, 0, 0, 0, 0])"
      ]
     },
     "execution_count": 82,
     "metadata": {},
     "output_type": "execute_result"
    }
   ],
   "source": [
    "# predicting the y value for the test data\n",
    "log_reg_y_val_preds = log_reg.predict(final_X_val)\n",
    "log_reg_y_val_preds[0:30]"
   ]
  },
  {
   "cell_type": "code",
   "execution_count": 83,
   "metadata": {
    "execution": {
     "iopub.execute_input": "2023-04-16T14:36:34.592692Z",
     "iopub.status.busy": "2023-04-16T14:36:34.592095Z",
     "iopub.status.idle": "2023-04-16T14:36:34.597853Z",
     "shell.execute_reply": "2023-04-16T14:36:34.596642Z",
     "shell.execute_reply.started": "2023-04-16T14:36:34.592657Z"
    }
   },
   "outputs": [],
   "source": [
    "# import libraries of confusion_matrix and accuracy and recall\n",
    "from sklearn.metrics import confusion_matrix\n",
    "from sklearn.metrics import accuracy_score,recall_score, f1_score, recall_score"
   ]
  },
  {
   "cell_type": "code",
   "execution_count": 84,
   "metadata": {
    "execution": {
     "iopub.execute_input": "2023-04-16T14:36:34.600388Z",
     "iopub.status.busy": "2023-04-16T14:36:34.599561Z",
     "iopub.status.idle": "2023-04-16T14:36:34.622928Z",
     "shell.execute_reply": "2023-04-16T14:36:34.621722Z",
     "shell.execute_reply.started": "2023-04-16T14:36:34.600351Z"
    }
   },
   "outputs": [
    {
     "data": {
      "text/plain": [
       "array([[27071,     0],\n",
       "       [ 8546,     0]])"
      ]
     },
     "execution_count": 84,
     "metadata": {},
     "output_type": "execute_result"
    }
   ],
   "source": [
    "# finding the confusion_matrix for y_train actuals and y_train_predicts\n",
    "confusionmatrix = confusion_matrix(y_train,log_reg_y_train_preds)\n",
    "confusionmatrix"
   ]
  },
  {
   "cell_type": "code",
   "execution_count": 85,
   "metadata": {
    "execution": {
     "iopub.execute_input": "2023-04-16T14:36:34.624918Z",
     "iopub.status.busy": "2023-04-16T14:36:34.624375Z",
     "iopub.status.idle": "2023-04-16T14:36:34.637474Z",
     "shell.execute_reply": "2023-04-16T14:36:34.636244Z",
     "shell.execute_reply.started": "2023-04-16T14:36:34.624884Z"
    }
   },
   "outputs": [
    {
     "data": {
      "text/plain": [
       "array([[11602,     0],\n",
       "       [ 3663,     0]])"
      ]
     },
     "execution_count": 85,
     "metadata": {},
     "output_type": "execute_result"
    }
   ],
   "source": [
    "# finding the confusion_matrix for y_test actuals and y_test_predicts\n",
    "confusionmatrix = confusion_matrix(y_val,log_reg_y_val_preds)\n",
    "confusionmatrix"
   ]
  },
  {
   "cell_type": "code",
   "execution_count": 86,
   "metadata": {
    "execution": {
     "iopub.execute_input": "2023-04-16T14:36:34.639432Z",
     "iopub.status.busy": "2023-04-16T14:36:34.638857Z",
     "iopub.status.idle": "2023-04-16T14:36:34.652336Z",
     "shell.execute_reply": "2023-04-16T14:36:34.651059Z",
     "shell.execute_reply.started": "2023-04-16T14:36:34.639398Z"
    }
   },
   "outputs": [
    {
     "data": {
      "text/plain": [
       "0.7600583990790915"
      ]
     },
     "execution_count": 86,
     "metadata": {},
     "output_type": "execute_result"
    }
   ],
   "source": [
    "# finding the accuracy for y_train_actuals and y_train_predicts\n",
    "log_reg_accuracy_train = accuracy_score(y_train,log_reg_y_train_preds)\n",
    "log_reg_accuracy_train"
   ]
  },
  {
   "cell_type": "code",
   "execution_count": 87,
   "metadata": {
    "execution": {
     "iopub.execute_input": "2023-04-16T14:36:34.656781Z",
     "iopub.status.busy": "2023-04-16T14:36:34.655956Z",
     "iopub.status.idle": "2023-04-16T14:36:34.668139Z",
     "shell.execute_reply": "2023-04-16T14:36:34.666472Z",
     "shell.execute_reply.started": "2023-04-16T14:36:34.656744Z"
    }
   },
   "outputs": [
    {
     "data": {
      "text/plain": [
       "0.7600393056010482"
      ]
     },
     "execution_count": 87,
     "metadata": {},
     "output_type": "execute_result"
    }
   ],
   "source": [
    "# finding the accuracy for y_test_actuals and y_test_predicts\n",
    "log_reg_accuracy_val = accuracy_score(y_val,log_reg_y_val_preds)\n",
    "log_reg_accuracy_val"
   ]
  },
  {
   "cell_type": "code",
   "execution_count": 88,
   "metadata": {
    "execution": {
     "iopub.execute_input": "2023-04-16T14:36:34.670186Z",
     "iopub.status.busy": "2023-04-16T14:36:34.669569Z",
     "iopub.status.idle": "2023-04-16T14:36:34.696343Z",
     "shell.execute_reply": "2023-04-16T14:36:34.695192Z",
     "shell.execute_reply.started": "2023-04-16T14:36:34.670151Z"
    }
   },
   "outputs": [
    {
     "data": {
      "text/plain": [
       "0.7600583990790915"
      ]
     },
     "execution_count": 88,
     "metadata": {},
     "output_type": "execute_result"
    }
   ],
   "source": [
    "log_reg_f1_score_train = f1_score(y_train,log_reg_y_train_preds,average='micro')\n",
    "log_reg_f1_score_train"
   ]
  },
  {
   "cell_type": "code",
   "execution_count": 89,
   "metadata": {
    "execution": {
     "iopub.execute_input": "2023-04-16T14:36:34.698282Z",
     "iopub.status.busy": "2023-04-16T14:36:34.697713Z",
     "iopub.status.idle": "2023-04-16T14:36:34.715618Z",
     "shell.execute_reply": "2023-04-16T14:36:34.714891Z",
     "shell.execute_reply.started": "2023-04-16T14:36:34.698248Z"
    }
   },
   "outputs": [
    {
     "data": {
      "text/plain": [
       "0.7600393056010482"
      ]
     },
     "execution_count": 89,
     "metadata": {},
     "output_type": "execute_result"
    }
   ],
   "source": [
    "log_reg_f1_score_val = f1_score(y_val,log_reg_y_val_preds,average='micro')\n",
    "log_reg_f1_score_val"
   ]
  },
  {
   "cell_type": "code",
   "execution_count": 90,
   "metadata": {
    "execution": {
     "iopub.execute_input": "2023-04-16T14:36:34.717429Z",
     "iopub.status.busy": "2023-04-16T14:36:34.716855Z",
     "iopub.status.idle": "2023-04-16T14:36:34.736014Z",
     "shell.execute_reply": "2023-04-16T14:36:34.735163Z",
     "shell.execute_reply.started": "2023-04-16T14:36:34.717395Z"
    }
   },
   "outputs": [
    {
     "data": {
      "text/plain": [
       "0.7600583990790915"
      ]
     },
     "execution_count": 90,
     "metadata": {},
     "output_type": "execute_result"
    }
   ],
   "source": [
    "log_reg_recall_train = recall_score(y_train,log_reg_y_train_preds, average = \"micro\")\n",
    "log_reg_recall_train"
   ]
  },
  {
   "cell_type": "code",
   "execution_count": 91,
   "metadata": {
    "execution": {
     "iopub.execute_input": "2023-04-16T14:36:34.739464Z",
     "iopub.status.busy": "2023-04-16T14:36:34.738813Z",
     "iopub.status.idle": "2023-04-16T14:36:34.754918Z",
     "shell.execute_reply": "2023-04-16T14:36:34.754049Z",
     "shell.execute_reply.started": "2023-04-16T14:36:34.739438Z"
    }
   },
   "outputs": [
    {
     "data": {
      "text/plain": [
       "0.7600393056010482"
      ]
     },
     "execution_count": 91,
     "metadata": {},
     "output_type": "execute_result"
    }
   ],
   "source": [
    "log_reg_recall_val = recall_score(y_val,log_reg_y_val_preds, average = \"micro\")\n",
    "log_reg_recall_val"
   ]
  },
  {
   "cell_type": "code",
   "execution_count": 92,
   "metadata": {},
   "outputs": [],
   "source": [
    "import pickle"
   ]
  },
  {
   "cell_type": "code",
   "execution_count": 93,
   "metadata": {},
   "outputs": [
    {
     "name": "stdout",
     "output_type": "stream",
     "text": [
      "saving model as pkl file.......\n"
     ]
    }
   ],
   "source": [
    "print('saving model as pkl file.......')\n",
    "pickle.dump(log_reg, open('a_hack.pkl','wb'))"
   ]
  },
  {
   "cell_type": "code",
   "execution_count": null,
   "metadata": {},
   "outputs": [],
   "source": []
  }
 ],
 "metadata": {
  "kernelspec": {
   "display_name": "Python 3",
   "language": "python",
   "name": "python3"
  },
  "language_info": {
   "codemirror_mode": {
    "name": "ipython",
    "version": 3
   },
   "file_extension": ".py",
   "mimetype": "text/x-python",
   "name": "python",
   "nbconvert_exporter": "python",
   "pygments_lexer": "ipython3",
   "version": "3.7.6"
  }
 },
 "nbformat": 4,
 "nbformat_minor": 4
}
