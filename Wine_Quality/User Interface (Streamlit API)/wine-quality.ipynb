{
 "cells": [
  {
   "cell_type": "code",
   "execution_count": 1,
   "metadata": {
    "execution": {
     "iopub.execute_input": "2023-02-19T10:20:10.544038Z",
     "iopub.status.busy": "2023-02-19T10:20:10.543698Z",
     "iopub.status.idle": "2023-02-19T10:20:10.550867Z",
     "shell.execute_reply": "2023-02-19T10:20:10.548956Z",
     "shell.execute_reply.started": "2023-02-19T10:20:10.544012Z"
    }
   },
   "outputs": [],
   "source": [
    "import pandas as pd\n",
    "import numpy as np"
   ]
  },
  {
   "cell_type": "code",
   "execution_count": 2,
   "metadata": {
    "execution": {
     "iopub.execute_input": "2023-02-19T10:20:10.778903Z",
     "iopub.status.busy": "2023-02-19T10:20:10.778536Z",
     "iopub.status.idle": "2023-02-19T10:20:10.804202Z",
     "shell.execute_reply": "2023-02-19T10:20:10.803230Z",
     "shell.execute_reply.started": "2023-02-19T10:20:10.778873Z"
    }
   },
   "outputs": [],
   "source": [
    "wine_train = pd.read_csv(\"train.csv\")"
   ]
  },
  {
   "cell_type": "code",
   "execution_count": 3,
   "metadata": {
    "execution": {
     "iopub.execute_input": "2023-02-19T10:20:11.236206Z",
     "iopub.status.busy": "2023-02-19T10:20:11.235796Z",
     "iopub.status.idle": "2023-02-19T10:20:11.278722Z",
     "shell.execute_reply": "2023-02-19T10:20:11.277671Z",
     "shell.execute_reply.started": "2023-02-19T10:20:11.236172Z"
    }
   },
   "outputs": [
    {
     "data": {
      "text/html": [
       "<div>\n",
       "<style scoped>\n",
       "    .dataframe tbody tr th:only-of-type {\n",
       "        vertical-align: middle;\n",
       "    }\n",
       "\n",
       "    .dataframe tbody tr th {\n",
       "        vertical-align: top;\n",
       "    }\n",
       "\n",
       "    .dataframe thead th {\n",
       "        text-align: right;\n",
       "    }\n",
       "</style>\n",
       "<table border=\"1\" class=\"dataframe\">\n",
       "  <thead>\n",
       "    <tr style=\"text-align: right;\">\n",
       "      <th></th>\n",
       "      <th>Id</th>\n",
       "      <th>fixed acidity</th>\n",
       "      <th>volatile acidity</th>\n",
       "      <th>citric acid</th>\n",
       "      <th>residual sugar</th>\n",
       "      <th>chlorides</th>\n",
       "      <th>free sulfur dioxide</th>\n",
       "      <th>total sulfur dioxide</th>\n",
       "      <th>density</th>\n",
       "      <th>pH</th>\n",
       "      <th>sulphates</th>\n",
       "      <th>alcohol</th>\n",
       "      <th>quality</th>\n",
       "    </tr>\n",
       "  </thead>\n",
       "  <tbody>\n",
       "    <tr>\n",
       "      <th>0</th>\n",
       "      <td>0</td>\n",
       "      <td>8.0</td>\n",
       "      <td>0.50</td>\n",
       "      <td>0.39</td>\n",
       "      <td>2.20</td>\n",
       "      <td>0.073</td>\n",
       "      <td>30.0</td>\n",
       "      <td>39.0</td>\n",
       "      <td>0.99572</td>\n",
       "      <td>3.33</td>\n",
       "      <td>0.77</td>\n",
       "      <td>12.1</td>\n",
       "      <td>6</td>\n",
       "    </tr>\n",
       "    <tr>\n",
       "      <th>1</th>\n",
       "      <td>1</td>\n",
       "      <td>9.3</td>\n",
       "      <td>0.30</td>\n",
       "      <td>0.73</td>\n",
       "      <td>2.30</td>\n",
       "      <td>0.092</td>\n",
       "      <td>30.0</td>\n",
       "      <td>67.0</td>\n",
       "      <td>0.99854</td>\n",
       "      <td>3.32</td>\n",
       "      <td>0.67</td>\n",
       "      <td>12.8</td>\n",
       "      <td>6</td>\n",
       "    </tr>\n",
       "    <tr>\n",
       "      <th>2</th>\n",
       "      <td>2</td>\n",
       "      <td>7.1</td>\n",
       "      <td>0.51</td>\n",
       "      <td>0.03</td>\n",
       "      <td>2.10</td>\n",
       "      <td>0.059</td>\n",
       "      <td>3.0</td>\n",
       "      <td>12.0</td>\n",
       "      <td>0.99660</td>\n",
       "      <td>3.52</td>\n",
       "      <td>0.73</td>\n",
       "      <td>11.3</td>\n",
       "      <td>7</td>\n",
       "    </tr>\n",
       "    <tr>\n",
       "      <th>3</th>\n",
       "      <td>3</td>\n",
       "      <td>8.1</td>\n",
       "      <td>0.87</td>\n",
       "      <td>0.22</td>\n",
       "      <td>2.60</td>\n",
       "      <td>0.084</td>\n",
       "      <td>11.0</td>\n",
       "      <td>65.0</td>\n",
       "      <td>0.99730</td>\n",
       "      <td>3.20</td>\n",
       "      <td>0.53</td>\n",
       "      <td>9.8</td>\n",
       "      <td>5</td>\n",
       "    </tr>\n",
       "    <tr>\n",
       "      <th>4</th>\n",
       "      <td>4</td>\n",
       "      <td>8.5</td>\n",
       "      <td>0.36</td>\n",
       "      <td>0.30</td>\n",
       "      <td>2.30</td>\n",
       "      <td>0.079</td>\n",
       "      <td>10.0</td>\n",
       "      <td>45.0</td>\n",
       "      <td>0.99444</td>\n",
       "      <td>3.20</td>\n",
       "      <td>1.36</td>\n",
       "      <td>9.5</td>\n",
       "      <td>6</td>\n",
       "    </tr>\n",
       "    <tr>\n",
       "      <th>...</th>\n",
       "      <td>...</td>\n",
       "      <td>...</td>\n",
       "      <td>...</td>\n",
       "      <td>...</td>\n",
       "      <td>...</td>\n",
       "      <td>...</td>\n",
       "      <td>...</td>\n",
       "      <td>...</td>\n",
       "      <td>...</td>\n",
       "      <td>...</td>\n",
       "      <td>...</td>\n",
       "      <td>...</td>\n",
       "      <td>...</td>\n",
       "    </tr>\n",
       "    <tr>\n",
       "      <th>2051</th>\n",
       "      <td>2051</td>\n",
       "      <td>6.6</td>\n",
       "      <td>0.31</td>\n",
       "      <td>0.13</td>\n",
       "      <td>2.00</td>\n",
       "      <td>0.056</td>\n",
       "      <td>29.0</td>\n",
       "      <td>42.0</td>\n",
       "      <td>0.99388</td>\n",
       "      <td>3.52</td>\n",
       "      <td>0.87</td>\n",
       "      <td>12.0</td>\n",
       "      <td>7</td>\n",
       "    </tr>\n",
       "    <tr>\n",
       "      <th>2052</th>\n",
       "      <td>2052</td>\n",
       "      <td>9.7</td>\n",
       "      <td>0.59</td>\n",
       "      <td>0.21</td>\n",
       "      <td>1.80</td>\n",
       "      <td>0.079</td>\n",
       "      <td>27.0</td>\n",
       "      <td>65.0</td>\n",
       "      <td>0.99745</td>\n",
       "      <td>3.14</td>\n",
       "      <td>0.58</td>\n",
       "      <td>9.4</td>\n",
       "      <td>5</td>\n",
       "    </tr>\n",
       "    <tr>\n",
       "      <th>2053</th>\n",
       "      <td>2053</td>\n",
       "      <td>7.7</td>\n",
       "      <td>0.43</td>\n",
       "      <td>0.42</td>\n",
       "      <td>1.70</td>\n",
       "      <td>0.071</td>\n",
       "      <td>19.0</td>\n",
       "      <td>37.0</td>\n",
       "      <td>0.99258</td>\n",
       "      <td>3.32</td>\n",
       "      <td>0.77</td>\n",
       "      <td>12.5</td>\n",
       "      <td>8</td>\n",
       "    </tr>\n",
       "    <tr>\n",
       "      <th>2054</th>\n",
       "      <td>2054</td>\n",
       "      <td>9.1</td>\n",
       "      <td>0.50</td>\n",
       "      <td>0.00</td>\n",
       "      <td>1.75</td>\n",
       "      <td>0.058</td>\n",
       "      <td>5.0</td>\n",
       "      <td>13.0</td>\n",
       "      <td>0.99670</td>\n",
       "      <td>3.22</td>\n",
       "      <td>0.42</td>\n",
       "      <td>9.5</td>\n",
       "      <td>5</td>\n",
       "    </tr>\n",
       "    <tr>\n",
       "      <th>2055</th>\n",
       "      <td>2055</td>\n",
       "      <td>6.2</td>\n",
       "      <td>0.31</td>\n",
       "      <td>0.18</td>\n",
       "      <td>2.30</td>\n",
       "      <td>0.059</td>\n",
       "      <td>12.0</td>\n",
       "      <td>28.0</td>\n",
       "      <td>0.99520</td>\n",
       "      <td>3.56</td>\n",
       "      <td>0.88</td>\n",
       "      <td>11.4</td>\n",
       "      <td>7</td>\n",
       "    </tr>\n",
       "  </tbody>\n",
       "</table>\n",
       "<p>2056 rows × 13 columns</p>\n",
       "</div>"
      ],
      "text/plain": [
       "        Id  fixed acidity  volatile acidity  citric acid  residual sugar  \\\n",
       "0        0            8.0              0.50         0.39            2.20   \n",
       "1        1            9.3              0.30         0.73            2.30   \n",
       "2        2            7.1              0.51         0.03            2.10   \n",
       "3        3            8.1              0.87         0.22            2.60   \n",
       "4        4            8.5              0.36         0.30            2.30   \n",
       "...    ...            ...               ...          ...             ...   \n",
       "2051  2051            6.6              0.31         0.13            2.00   \n",
       "2052  2052            9.7              0.59         0.21            1.80   \n",
       "2053  2053            7.7              0.43         0.42            1.70   \n",
       "2054  2054            9.1              0.50         0.00            1.75   \n",
       "2055  2055            6.2              0.31         0.18            2.30   \n",
       "\n",
       "      chlorides  free sulfur dioxide  total sulfur dioxide  density    pH  \\\n",
       "0         0.073                 30.0                  39.0  0.99572  3.33   \n",
       "1         0.092                 30.0                  67.0  0.99854  3.32   \n",
       "2         0.059                  3.0                  12.0  0.99660  3.52   \n",
       "3         0.084                 11.0                  65.0  0.99730  3.20   \n",
       "4         0.079                 10.0                  45.0  0.99444  3.20   \n",
       "...         ...                  ...                   ...      ...   ...   \n",
       "2051      0.056                 29.0                  42.0  0.99388  3.52   \n",
       "2052      0.079                 27.0                  65.0  0.99745  3.14   \n",
       "2053      0.071                 19.0                  37.0  0.99258  3.32   \n",
       "2054      0.058                  5.0                  13.0  0.99670  3.22   \n",
       "2055      0.059                 12.0                  28.0  0.99520  3.56   \n",
       "\n",
       "      sulphates  alcohol  quality  \n",
       "0          0.77     12.1        6  \n",
       "1          0.67     12.8        6  \n",
       "2          0.73     11.3        7  \n",
       "3          0.53      9.8        5  \n",
       "4          1.36      9.5        6  \n",
       "...         ...      ...      ...  \n",
       "2051       0.87     12.0        7  \n",
       "2052       0.58      9.4        5  \n",
       "2053       0.77     12.5        8  \n",
       "2054       0.42      9.5        5  \n",
       "2055       0.88     11.4        7  \n",
       "\n",
       "[2056 rows x 13 columns]"
      ]
     },
     "execution_count": 3,
     "metadata": {},
     "output_type": "execute_result"
    }
   ],
   "source": [
    "wine_train"
   ]
  },
  {
   "cell_type": "code",
   "execution_count": 4,
   "metadata": {
    "execution": {
     "iopub.execute_input": "2023-02-19T10:21:54.867255Z",
     "iopub.status.busy": "2023-02-19T10:21:54.866901Z",
     "iopub.status.idle": "2023-02-19T10:21:54.874626Z",
     "shell.execute_reply": "2023-02-19T10:21:54.873117Z",
     "shell.execute_reply.started": "2023-02-19T10:21:54.867227Z"
    }
   },
   "outputs": [
    {
     "data": {
      "text/plain": [
       "(2056, 13)"
      ]
     },
     "execution_count": 4,
     "metadata": {},
     "output_type": "execute_result"
    }
   ],
   "source": [
    "wine_train.shape"
   ]
  },
  {
   "cell_type": "code",
   "execution_count": 5,
   "metadata": {
    "execution": {
     "iopub.execute_input": "2023-02-19T10:22:19.837300Z",
     "iopub.status.busy": "2023-02-19T10:22:19.836864Z",
     "iopub.status.idle": "2023-02-19T10:22:19.850094Z",
     "shell.execute_reply": "2023-02-19T10:22:19.848765Z",
     "shell.execute_reply.started": "2023-02-19T10:22:19.837261Z"
    }
   },
   "outputs": [
    {
     "data": {
      "text/plain": [
       "Id                        int64\n",
       "fixed acidity           float64\n",
       "volatile acidity        float64\n",
       "citric acid             float64\n",
       "residual sugar          float64\n",
       "chlorides               float64\n",
       "free sulfur dioxide     float64\n",
       "total sulfur dioxide    float64\n",
       "density                 float64\n",
       "pH                      float64\n",
       "sulphates               float64\n",
       "alcohol                 float64\n",
       "quality                   int64\n",
       "dtype: object"
      ]
     },
     "execution_count": 5,
     "metadata": {},
     "output_type": "execute_result"
    }
   ],
   "source": [
    "wine_train.dtypes"
   ]
  },
  {
   "cell_type": "code",
   "execution_count": 6,
   "metadata": {
    "execution": {
     "iopub.execute_input": "2023-02-19T10:22:27.448723Z",
     "iopub.status.busy": "2023-02-19T10:22:27.448305Z",
     "iopub.status.idle": "2023-02-19T10:22:27.464044Z",
     "shell.execute_reply": "2023-02-19T10:22:27.462977Z",
     "shell.execute_reply.started": "2023-02-19T10:22:27.448675Z"
    }
   },
   "outputs": [
    {
     "data": {
      "text/plain": [
       "5    839\n",
       "6    778\n",
       "7    333\n",
       "4     55\n",
       "8     39\n",
       "3     12\n",
       "Name: quality, dtype: int64"
      ]
     },
     "execution_count": 6,
     "metadata": {},
     "output_type": "execute_result"
    }
   ],
   "source": [
    "wine_train[\"quality\"].value_counts()"
   ]
  },
  {
   "cell_type": "code",
   "execution_count": 7,
   "metadata": {
    "execution": {
     "iopub.execute_input": "2023-02-19T10:22:33.953616Z",
     "iopub.status.busy": "2023-02-19T10:22:33.953272Z",
     "iopub.status.idle": "2023-02-19T10:22:33.965402Z",
     "shell.execute_reply": "2023-02-19T10:22:33.964066Z",
     "shell.execute_reply.started": "2023-02-19T10:22:33.953587Z"
    }
   },
   "outputs": [],
   "source": [
    "wine_train = wine_train.astype({\"Id\":\"category\",\"quality\":\"category\"})"
   ]
  },
  {
   "cell_type": "code",
   "execution_count": 8,
   "metadata": {
    "execution": {
     "iopub.execute_input": "2023-02-19T10:22:51.152969Z",
     "iopub.status.busy": "2023-02-19T10:22:51.152546Z",
     "iopub.status.idle": "2023-02-19T10:22:51.161065Z",
     "shell.execute_reply": "2023-02-19T10:22:51.160017Z",
     "shell.execute_reply.started": "2023-02-19T10:22:51.152935Z"
    }
   },
   "outputs": [],
   "source": [
    "wine_train = wine_train.drop([\"Id\"],axis = 1)"
   ]
  },
  {
   "cell_type": "code",
   "execution_count": 9,
   "metadata": {
    "execution": {
     "iopub.execute_input": "2023-02-19T10:22:56.784375Z",
     "iopub.status.busy": "2023-02-19T10:22:56.784004Z",
     "iopub.status.idle": "2023-02-19T10:22:56.813850Z",
     "shell.execute_reply": "2023-02-19T10:22:56.812176Z",
     "shell.execute_reply.started": "2023-02-19T10:22:56.784344Z"
    }
   },
   "outputs": [
    {
     "data": {
      "text/html": [
       "<div>\n",
       "<style scoped>\n",
       "    .dataframe tbody tr th:only-of-type {\n",
       "        vertical-align: middle;\n",
       "    }\n",
       "\n",
       "    .dataframe tbody tr th {\n",
       "        vertical-align: top;\n",
       "    }\n",
       "\n",
       "    .dataframe thead th {\n",
       "        text-align: right;\n",
       "    }\n",
       "</style>\n",
       "<table border=\"1\" class=\"dataframe\">\n",
       "  <thead>\n",
       "    <tr style=\"text-align: right;\">\n",
       "      <th></th>\n",
       "      <th>fixed acidity</th>\n",
       "      <th>volatile acidity</th>\n",
       "      <th>citric acid</th>\n",
       "      <th>residual sugar</th>\n",
       "      <th>chlorides</th>\n",
       "      <th>free sulfur dioxide</th>\n",
       "      <th>total sulfur dioxide</th>\n",
       "      <th>density</th>\n",
       "      <th>pH</th>\n",
       "      <th>sulphates</th>\n",
       "      <th>alcohol</th>\n",
       "      <th>quality</th>\n",
       "    </tr>\n",
       "  </thead>\n",
       "  <tbody>\n",
       "    <tr>\n",
       "      <th>0</th>\n",
       "      <td>8.0</td>\n",
       "      <td>0.50</td>\n",
       "      <td>0.39</td>\n",
       "      <td>2.20</td>\n",
       "      <td>0.073</td>\n",
       "      <td>30.0</td>\n",
       "      <td>39.0</td>\n",
       "      <td>0.99572</td>\n",
       "      <td>3.33</td>\n",
       "      <td>0.77</td>\n",
       "      <td>12.1</td>\n",
       "      <td>6</td>\n",
       "    </tr>\n",
       "    <tr>\n",
       "      <th>1</th>\n",
       "      <td>9.3</td>\n",
       "      <td>0.30</td>\n",
       "      <td>0.73</td>\n",
       "      <td>2.30</td>\n",
       "      <td>0.092</td>\n",
       "      <td>30.0</td>\n",
       "      <td>67.0</td>\n",
       "      <td>0.99854</td>\n",
       "      <td>3.32</td>\n",
       "      <td>0.67</td>\n",
       "      <td>12.8</td>\n",
       "      <td>6</td>\n",
       "    </tr>\n",
       "    <tr>\n",
       "      <th>2</th>\n",
       "      <td>7.1</td>\n",
       "      <td>0.51</td>\n",
       "      <td>0.03</td>\n",
       "      <td>2.10</td>\n",
       "      <td>0.059</td>\n",
       "      <td>3.0</td>\n",
       "      <td>12.0</td>\n",
       "      <td>0.99660</td>\n",
       "      <td>3.52</td>\n",
       "      <td>0.73</td>\n",
       "      <td>11.3</td>\n",
       "      <td>7</td>\n",
       "    </tr>\n",
       "    <tr>\n",
       "      <th>3</th>\n",
       "      <td>8.1</td>\n",
       "      <td>0.87</td>\n",
       "      <td>0.22</td>\n",
       "      <td>2.60</td>\n",
       "      <td>0.084</td>\n",
       "      <td>11.0</td>\n",
       "      <td>65.0</td>\n",
       "      <td>0.99730</td>\n",
       "      <td>3.20</td>\n",
       "      <td>0.53</td>\n",
       "      <td>9.8</td>\n",
       "      <td>5</td>\n",
       "    </tr>\n",
       "    <tr>\n",
       "      <th>4</th>\n",
       "      <td>8.5</td>\n",
       "      <td>0.36</td>\n",
       "      <td>0.30</td>\n",
       "      <td>2.30</td>\n",
       "      <td>0.079</td>\n",
       "      <td>10.0</td>\n",
       "      <td>45.0</td>\n",
       "      <td>0.99444</td>\n",
       "      <td>3.20</td>\n",
       "      <td>1.36</td>\n",
       "      <td>9.5</td>\n",
       "      <td>6</td>\n",
       "    </tr>\n",
       "    <tr>\n",
       "      <th>...</th>\n",
       "      <td>...</td>\n",
       "      <td>...</td>\n",
       "      <td>...</td>\n",
       "      <td>...</td>\n",
       "      <td>...</td>\n",
       "      <td>...</td>\n",
       "      <td>...</td>\n",
       "      <td>...</td>\n",
       "      <td>...</td>\n",
       "      <td>...</td>\n",
       "      <td>...</td>\n",
       "      <td>...</td>\n",
       "    </tr>\n",
       "    <tr>\n",
       "      <th>2051</th>\n",
       "      <td>6.6</td>\n",
       "      <td>0.31</td>\n",
       "      <td>0.13</td>\n",
       "      <td>2.00</td>\n",
       "      <td>0.056</td>\n",
       "      <td>29.0</td>\n",
       "      <td>42.0</td>\n",
       "      <td>0.99388</td>\n",
       "      <td>3.52</td>\n",
       "      <td>0.87</td>\n",
       "      <td>12.0</td>\n",
       "      <td>7</td>\n",
       "    </tr>\n",
       "    <tr>\n",
       "      <th>2052</th>\n",
       "      <td>9.7</td>\n",
       "      <td>0.59</td>\n",
       "      <td>0.21</td>\n",
       "      <td>1.80</td>\n",
       "      <td>0.079</td>\n",
       "      <td>27.0</td>\n",
       "      <td>65.0</td>\n",
       "      <td>0.99745</td>\n",
       "      <td>3.14</td>\n",
       "      <td>0.58</td>\n",
       "      <td>9.4</td>\n",
       "      <td>5</td>\n",
       "    </tr>\n",
       "    <tr>\n",
       "      <th>2053</th>\n",
       "      <td>7.7</td>\n",
       "      <td>0.43</td>\n",
       "      <td>0.42</td>\n",
       "      <td>1.70</td>\n",
       "      <td>0.071</td>\n",
       "      <td>19.0</td>\n",
       "      <td>37.0</td>\n",
       "      <td>0.99258</td>\n",
       "      <td>3.32</td>\n",
       "      <td>0.77</td>\n",
       "      <td>12.5</td>\n",
       "      <td>8</td>\n",
       "    </tr>\n",
       "    <tr>\n",
       "      <th>2054</th>\n",
       "      <td>9.1</td>\n",
       "      <td>0.50</td>\n",
       "      <td>0.00</td>\n",
       "      <td>1.75</td>\n",
       "      <td>0.058</td>\n",
       "      <td>5.0</td>\n",
       "      <td>13.0</td>\n",
       "      <td>0.99670</td>\n",
       "      <td>3.22</td>\n",
       "      <td>0.42</td>\n",
       "      <td>9.5</td>\n",
       "      <td>5</td>\n",
       "    </tr>\n",
       "    <tr>\n",
       "      <th>2055</th>\n",
       "      <td>6.2</td>\n",
       "      <td>0.31</td>\n",
       "      <td>0.18</td>\n",
       "      <td>2.30</td>\n",
       "      <td>0.059</td>\n",
       "      <td>12.0</td>\n",
       "      <td>28.0</td>\n",
       "      <td>0.99520</td>\n",
       "      <td>3.56</td>\n",
       "      <td>0.88</td>\n",
       "      <td>11.4</td>\n",
       "      <td>7</td>\n",
       "    </tr>\n",
       "  </tbody>\n",
       "</table>\n",
       "<p>2056 rows × 12 columns</p>\n",
       "</div>"
      ],
      "text/plain": [
       "      fixed acidity  volatile acidity  citric acid  residual sugar  chlorides  \\\n",
       "0               8.0              0.50         0.39            2.20      0.073   \n",
       "1               9.3              0.30         0.73            2.30      0.092   \n",
       "2               7.1              0.51         0.03            2.10      0.059   \n",
       "3               8.1              0.87         0.22            2.60      0.084   \n",
       "4               8.5              0.36         0.30            2.30      0.079   \n",
       "...             ...               ...          ...             ...        ...   \n",
       "2051            6.6              0.31         0.13            2.00      0.056   \n",
       "2052            9.7              0.59         0.21            1.80      0.079   \n",
       "2053            7.7              0.43         0.42            1.70      0.071   \n",
       "2054            9.1              0.50         0.00            1.75      0.058   \n",
       "2055            6.2              0.31         0.18            2.30      0.059   \n",
       "\n",
       "      free sulfur dioxide  total sulfur dioxide  density    pH  sulphates  \\\n",
       "0                    30.0                  39.0  0.99572  3.33       0.77   \n",
       "1                    30.0                  67.0  0.99854  3.32       0.67   \n",
       "2                     3.0                  12.0  0.99660  3.52       0.73   \n",
       "3                    11.0                  65.0  0.99730  3.20       0.53   \n",
       "4                    10.0                  45.0  0.99444  3.20       1.36   \n",
       "...                   ...                   ...      ...   ...        ...   \n",
       "2051                 29.0                  42.0  0.99388  3.52       0.87   \n",
       "2052                 27.0                  65.0  0.99745  3.14       0.58   \n",
       "2053                 19.0                  37.0  0.99258  3.32       0.77   \n",
       "2054                  5.0                  13.0  0.99670  3.22       0.42   \n",
       "2055                 12.0                  28.0  0.99520  3.56       0.88   \n",
       "\n",
       "      alcohol quality  \n",
       "0        12.1       6  \n",
       "1        12.8       6  \n",
       "2        11.3       7  \n",
       "3         9.8       5  \n",
       "4         9.5       6  \n",
       "...       ...     ...  \n",
       "2051     12.0       7  \n",
       "2052      9.4       5  \n",
       "2053     12.5       8  \n",
       "2054      9.5       5  \n",
       "2055     11.4       7  \n",
       "\n",
       "[2056 rows x 12 columns]"
      ]
     },
     "execution_count": 9,
     "metadata": {},
     "output_type": "execute_result"
    }
   ],
   "source": [
    "wine_train"
   ]
  },
  {
   "cell_type": "code",
   "execution_count": 10,
   "metadata": {
    "execution": {
     "iopub.execute_input": "2023-02-19T10:23:33.363439Z",
     "iopub.status.busy": "2023-02-19T10:23:33.363030Z",
     "iopub.status.idle": "2023-02-19T10:23:33.372914Z",
     "shell.execute_reply": "2023-02-19T10:23:33.371916Z",
     "shell.execute_reply.started": "2023-02-19T10:23:33.363405Z"
    }
   },
   "outputs": [
    {
     "data": {
      "text/plain": [
       "fixed acidity           0\n",
       "volatile acidity        0\n",
       "citric acid             0\n",
       "residual sugar          0\n",
       "chlorides               0\n",
       "free sulfur dioxide     0\n",
       "total sulfur dioxide    0\n",
       "density                 0\n",
       "pH                      0\n",
       "sulphates               0\n",
       "alcohol                 0\n",
       "quality                 0\n",
       "dtype: int64"
      ]
     },
     "execution_count": 10,
     "metadata": {},
     "output_type": "execute_result"
    }
   ],
   "source": [
    "wine_train.isnull().sum()"
   ]
  },
  {
   "cell_type": "code",
   "execution_count": 11,
   "metadata": {
    "execution": {
     "iopub.execute_input": "2023-02-19T10:23:40.071593Z",
     "iopub.status.busy": "2023-02-19T10:23:40.071128Z",
     "iopub.status.idle": "2023-02-19T10:23:40.088526Z",
     "shell.execute_reply": "2023-02-19T10:23:40.087240Z",
     "shell.execute_reply.started": "2023-02-19T10:23:40.071555Z"
    }
   },
   "outputs": [
    {
     "data": {
      "text/plain": [
       "0"
      ]
     },
     "execution_count": 11,
     "metadata": {},
     "output_type": "execute_result"
    }
   ],
   "source": [
    "wine_train.duplicated().sum()"
   ]
  },
  {
   "cell_type": "code",
   "execution_count": 12,
   "metadata": {
    "execution": {
     "iopub.execute_input": "2023-02-19T10:24:26.462463Z",
     "iopub.status.busy": "2023-02-19T10:24:26.462037Z",
     "iopub.status.idle": "2023-02-19T10:24:26.509355Z",
     "shell.execute_reply": "2023-02-19T10:24:26.508024Z",
     "shell.execute_reply.started": "2023-02-19T10:24:26.462431Z"
    }
   },
   "outputs": [
    {
     "data": {
      "text/html": [
       "<div>\n",
       "<style scoped>\n",
       "    .dataframe tbody tr th:only-of-type {\n",
       "        vertical-align: middle;\n",
       "    }\n",
       "\n",
       "    .dataframe tbody tr th {\n",
       "        vertical-align: top;\n",
       "    }\n",
       "\n",
       "    .dataframe thead th {\n",
       "        text-align: right;\n",
       "    }\n",
       "</style>\n",
       "<table border=\"1\" class=\"dataframe\">\n",
       "  <thead>\n",
       "    <tr style=\"text-align: right;\">\n",
       "      <th></th>\n",
       "      <th>count</th>\n",
       "      <th>mean</th>\n",
       "      <th>std</th>\n",
       "      <th>min</th>\n",
       "      <th>25%</th>\n",
       "      <th>50%</th>\n",
       "      <th>75%</th>\n",
       "      <th>max</th>\n",
       "    </tr>\n",
       "  </thead>\n",
       "  <tbody>\n",
       "    <tr>\n",
       "      <th>fixed acidity</th>\n",
       "      <td>2056.0</td>\n",
       "      <td>8.365175</td>\n",
       "      <td>1.705390</td>\n",
       "      <td>5.00000</td>\n",
       "      <td>7.2000</td>\n",
       "      <td>7.9500</td>\n",
       "      <td>9.2000</td>\n",
       "      <td>15.90000</td>\n",
       "    </tr>\n",
       "    <tr>\n",
       "      <th>volatile acidity</th>\n",
       "      <td>2056.0</td>\n",
       "      <td>0.527601</td>\n",
       "      <td>0.173164</td>\n",
       "      <td>0.18000</td>\n",
       "      <td>0.3900</td>\n",
       "      <td>0.5200</td>\n",
       "      <td>0.6400</td>\n",
       "      <td>1.58000</td>\n",
       "    </tr>\n",
       "    <tr>\n",
       "      <th>citric acid</th>\n",
       "      <td>2056.0</td>\n",
       "      <td>0.265058</td>\n",
       "      <td>0.188267</td>\n",
       "      <td>0.00000</td>\n",
       "      <td>0.0900</td>\n",
       "      <td>0.2500</td>\n",
       "      <td>0.4200</td>\n",
       "      <td>0.76000</td>\n",
       "    </tr>\n",
       "    <tr>\n",
       "      <th>residual sugar</th>\n",
       "      <td>2056.0</td>\n",
       "      <td>2.398881</td>\n",
       "      <td>0.858824</td>\n",
       "      <td>1.20000</td>\n",
       "      <td>1.9000</td>\n",
       "      <td>2.2000</td>\n",
       "      <td>2.6000</td>\n",
       "      <td>14.00000</td>\n",
       "    </tr>\n",
       "    <tr>\n",
       "      <th>chlorides</th>\n",
       "      <td>2056.0</td>\n",
       "      <td>0.081856</td>\n",
       "      <td>0.023729</td>\n",
       "      <td>0.01200</td>\n",
       "      <td>0.0710</td>\n",
       "      <td>0.0790</td>\n",
       "      <td>0.0900</td>\n",
       "      <td>0.41400</td>\n",
       "    </tr>\n",
       "    <tr>\n",
       "      <th>free sulfur dioxide</th>\n",
       "      <td>2056.0</td>\n",
       "      <td>16.955982</td>\n",
       "      <td>10.009710</td>\n",
       "      <td>1.00000</td>\n",
       "      <td>8.0000</td>\n",
       "      <td>16.0000</td>\n",
       "      <td>24.0000</td>\n",
       "      <td>68.00000</td>\n",
       "    </tr>\n",
       "    <tr>\n",
       "      <th>total sulfur dioxide</th>\n",
       "      <td>2056.0</td>\n",
       "      <td>49.236868</td>\n",
       "      <td>32.961141</td>\n",
       "      <td>7.00000</td>\n",
       "      <td>22.0000</td>\n",
       "      <td>44.0000</td>\n",
       "      <td>65.0000</td>\n",
       "      <td>289.00000</td>\n",
       "    </tr>\n",
       "    <tr>\n",
       "      <th>density</th>\n",
       "      <td>2056.0</td>\n",
       "      <td>0.996748</td>\n",
       "      <td>0.001827</td>\n",
       "      <td>0.99007</td>\n",
       "      <td>0.9956</td>\n",
       "      <td>0.9967</td>\n",
       "      <td>0.9978</td>\n",
       "      <td>1.00369</td>\n",
       "    </tr>\n",
       "    <tr>\n",
       "      <th>pH</th>\n",
       "      <td>2056.0</td>\n",
       "      <td>3.310569</td>\n",
       "      <td>0.142321</td>\n",
       "      <td>2.74000</td>\n",
       "      <td>3.2000</td>\n",
       "      <td>3.3100</td>\n",
       "      <td>3.3900</td>\n",
       "      <td>3.78000</td>\n",
       "    </tr>\n",
       "    <tr>\n",
       "      <th>sulphates</th>\n",
       "      <td>2056.0</td>\n",
       "      <td>0.641308</td>\n",
       "      <td>0.137942</td>\n",
       "      <td>0.39000</td>\n",
       "      <td>0.5500</td>\n",
       "      <td>0.6100</td>\n",
       "      <td>0.7200</td>\n",
       "      <td>1.95000</td>\n",
       "    </tr>\n",
       "    <tr>\n",
       "      <th>alcohol</th>\n",
       "      <td>2056.0</td>\n",
       "      <td>10.414972</td>\n",
       "      <td>1.028825</td>\n",
       "      <td>8.70000</td>\n",
       "      <td>9.5000</td>\n",
       "      <td>10.1000</td>\n",
       "      <td>11.0000</td>\n",
       "      <td>14.00000</td>\n",
       "    </tr>\n",
       "  </tbody>\n",
       "</table>\n",
       "</div>"
      ],
      "text/plain": [
       "                       count       mean        std      min      25%      50%  \\\n",
       "fixed acidity         2056.0   8.365175   1.705390  5.00000   7.2000   7.9500   \n",
       "volatile acidity      2056.0   0.527601   0.173164  0.18000   0.3900   0.5200   \n",
       "citric acid           2056.0   0.265058   0.188267  0.00000   0.0900   0.2500   \n",
       "residual sugar        2056.0   2.398881   0.858824  1.20000   1.9000   2.2000   \n",
       "chlorides             2056.0   0.081856   0.023729  0.01200   0.0710   0.0790   \n",
       "free sulfur dioxide   2056.0  16.955982  10.009710  1.00000   8.0000  16.0000   \n",
       "total sulfur dioxide  2056.0  49.236868  32.961141  7.00000  22.0000  44.0000   \n",
       "density               2056.0   0.996748   0.001827  0.99007   0.9956   0.9967   \n",
       "pH                    2056.0   3.310569   0.142321  2.74000   3.2000   3.3100   \n",
       "sulphates             2056.0   0.641308   0.137942  0.39000   0.5500   0.6100   \n",
       "alcohol               2056.0  10.414972   1.028825  8.70000   9.5000  10.1000   \n",
       "\n",
       "                          75%        max  \n",
       "fixed acidity          9.2000   15.90000  \n",
       "volatile acidity       0.6400    1.58000  \n",
       "citric acid            0.4200    0.76000  \n",
       "residual sugar         2.6000   14.00000  \n",
       "chlorides              0.0900    0.41400  \n",
       "free sulfur dioxide   24.0000   68.00000  \n",
       "total sulfur dioxide  65.0000  289.00000  \n",
       "density                0.9978    1.00369  \n",
       "pH                     3.3900    3.78000  \n",
       "sulphates              0.7200    1.95000  \n",
       "alcohol               11.0000   14.00000  "
      ]
     },
     "execution_count": 12,
     "metadata": {},
     "output_type": "execute_result"
    }
   ],
   "source": [
    "wine_train.describe().T"
   ]
  },
  {
   "cell_type": "code",
   "execution_count": 13,
   "metadata": {
    "execution": {
     "iopub.execute_input": "2023-02-19T10:26:30.071834Z",
     "iopub.status.busy": "2023-02-19T10:26:30.071413Z",
     "iopub.status.idle": "2023-02-19T10:26:30.441262Z",
     "shell.execute_reply": "2023-02-19T10:26:30.439855Z",
     "shell.execute_reply.started": "2023-02-19T10:26:30.071802Z"
    }
   },
   "outputs": [],
   "source": [
    "import seaborn as sns"
   ]
  },
  {
   "cell_type": "code",
   "execution_count": 14,
   "metadata": {
    "execution": {
     "iopub.execute_input": "2023-02-19T10:26:31.631242Z",
     "iopub.status.busy": "2023-02-19T10:26:31.630836Z",
     "iopub.status.idle": "2023-02-19T10:26:31.972674Z",
     "shell.execute_reply": "2023-02-19T10:26:31.971459Z",
     "shell.execute_reply.started": "2023-02-19T10:26:31.631208Z"
    }
   },
   "outputs": [
    {
     "data": {
      "text/plain": [
       "<matplotlib.axes._subplots.AxesSubplot at 0x7f284e3b49d0>"
      ]
     },
     "execution_count": 14,
     "metadata": {},
     "output_type": "execute_result"
    },
    {
     "data": {
      "image/png": "[encoded data removed]",
      "text/plain": [
       "<Figure size 432x288 with 1 Axes>"
      ]
     },
     "metadata": {
      "needs_background": "light"
     },
     "output_type": "display_data"
    }
   ],
   "source": [
    "sns.countplot(x='quality', hue='quality', data=wine_train,order=wine_train['quality'].value_counts(ascending=False).index,)"
   ]
  },
  {
   "cell_type": "code",
   "execution_count": 15,
   "metadata": {
    "execution": {
     "iopub.execute_input": "2023-02-19T10:26:39.341217Z",
     "iopub.status.busy": "2023-02-19T10:26:39.340796Z",
     "iopub.status.idle": "2023-02-19T10:26:39.348742Z",
     "shell.execute_reply": "2023-02-19T10:26:39.347243Z",
     "shell.execute_reply.started": "2023-02-19T10:26:39.341183Z"
    }
   },
   "outputs": [],
   "source": [
    "num_cols = [\"fixed acidity\",\"volatile acidity\",\"citric acid\",\"residual sugar\",\"chlorides\",\"free sulfur dioxide\",\"total sulfur dioxide\",\"density\",\"pH\",\"sulphates\",\"alcohol\"]"
   ]
  },
  {
   "cell_type": "code",
   "execution_count": 16,
   "metadata": {
    "execution": {
     "iopub.execute_input": "2023-02-19T10:27:29.699646Z",
     "iopub.status.busy": "2023-02-19T10:27:29.699235Z",
     "iopub.status.idle": "2023-02-19T10:27:29.718664Z",
     "shell.execute_reply": "2023-02-19T10:27:29.717177Z",
     "shell.execute_reply.started": "2023-02-19T10:27:29.699613Z"
    }
   },
   "outputs": [
    {
     "data": {
      "text/plain": [
       "fixed acidity            80\n",
       "volatile acidity         15\n",
       "citric acid               0\n",
       "residual sugar          120\n",
       "chlorides                74\n",
       "free sulfur dioxide       9\n",
       "total sulfur dioxide     56\n",
       "density                  53\n",
       "pH                       24\n",
       "sulphates                40\n",
       "alcohol                  13\n",
       "dtype: int64"
      ]
     },
     "execution_count": 16,
     "metadata": {},
     "output_type": "execute_result"
    }
   ],
   "source": [
    "# detecting ouliers for all before removing \n",
    "Q1 = wine_train[num_cols].quantile(0.25)\n",
    "Q3 = wine_train[num_cols].quantile(0.75)\n",
    "IQR = Q3-Q1\n",
    "\n",
    "detected_outliers = ((wine_train[num_cols]<(Q1- 1.5*IQR)) | (wine_train[num_cols]>(Q3+ 1.5*IQR))).sum()\n",
    "detected_outliers"
   ]
  },
  {
   "cell_type": "code",
   "execution_count": 17,
   "metadata": {
    "execution": {
     "iopub.execute_input": "2023-02-19T10:27:09.006442Z",
     "iopub.status.busy": "2023-02-19T10:27:09.006058Z",
     "iopub.status.idle": "2023-02-19T10:27:09.295902Z",
     "shell.execute_reply": "2023-02-19T10:27:09.294764Z",
     "shell.execute_reply.started": "2023-02-19T10:27:09.006409Z"
    }
   },
   "outputs": [
    {
     "data": {
      "text/plain": [
       "<matplotlib.axes._subplots.AxesSubplot at 0x7f2838864dd0>"
      ]
     },
     "execution_count": 17,
     "metadata": {},
     "output_type": "execute_result"
    },
    {
     "data": {
      "image/png": "[encoded data removed]",
      "text/plain": [
       "<Figure size 432x288 with 1 Axes>"
      ]
     },
     "metadata": {
      "needs_background": "light"
     },
     "output_type": "display_data"
    }
   ],
   "source": [
    "#boxplot for all the numerical attributes in dataframe (other type)\n",
    "wine_train.boxplot(num_cols, grid = False)"
   ]
  },
  {
   "cell_type": "code",
   "execution_count": 18,
   "metadata": {
    "execution": {
     "iopub.execute_input": "2023-02-19T10:27:37.663395Z",
     "iopub.status.busy": "2023-02-19T10:27:37.663010Z",
     "iopub.status.idle": "2023-02-19T10:27:37.669535Z",
     "shell.execute_reply": "2023-02-19T10:27:37.668701Z",
     "shell.execute_reply.started": "2023-02-19T10:27:37.663362Z"
    }
   },
   "outputs": [],
   "source": [
    "X = wine_train.drop([\"quality\"],axis =1)\n",
    "y = wine_train[\"quality\"]"
   ]
  },
  {
   "cell_type": "code",
   "execution_count": 19,
   "metadata": {
    "execution": {
     "iopub.execute_input": "2023-02-19T10:27:40.903430Z",
     "iopub.status.busy": "2023-02-19T10:27:40.902840Z",
     "iopub.status.idle": "2023-02-19T10:27:40.928271Z",
     "shell.execute_reply": "2023-02-19T10:27:40.926827Z",
     "shell.execute_reply.started": "2023-02-19T10:27:40.903398Z"
    }
   },
   "outputs": [
    {
     "data": {
      "text/html": [
       "<div>\n",
       "<style scoped>\n",
       "    .dataframe tbody tr th:only-of-type {\n",
       "        vertical-align: middle;\n",
       "    }\n",
       "\n",
       "    .dataframe tbody tr th {\n",
       "        vertical-align: top;\n",
       "    }\n",
       "\n",
       "    .dataframe thead th {\n",
       "        text-align: right;\n",
       "    }\n",
       "</style>\n",
       "<table border=\"1\" class=\"dataframe\">\n",
       "  <thead>\n",
       "    <tr style=\"text-align: right;\">\n",
       "      <th></th>\n",
       "      <th>fixed acidity</th>\n",
       "      <th>volatile acidity</th>\n",
       "      <th>citric acid</th>\n",
       "      <th>residual sugar</th>\n",
       "      <th>chlorides</th>\n",
       "      <th>free sulfur dioxide</th>\n",
       "      <th>total sulfur dioxide</th>\n",
       "      <th>density</th>\n",
       "      <th>pH</th>\n",
       "      <th>sulphates</th>\n",
       "      <th>alcohol</th>\n",
       "    </tr>\n",
       "  </thead>\n",
       "  <tbody>\n",
       "    <tr>\n",
       "      <th>0</th>\n",
       "      <td>8.0</td>\n",
       "      <td>0.50</td>\n",
       "      <td>0.39</td>\n",
       "      <td>2.20</td>\n",
       "      <td>0.073</td>\n",
       "      <td>30.0</td>\n",
       "      <td>39.0</td>\n",
       "      <td>0.99572</td>\n",
       "      <td>3.33</td>\n",
       "      <td>0.77</td>\n",
       "      <td>12.1</td>\n",
       "    </tr>\n",
       "    <tr>\n",
       "      <th>1</th>\n",
       "      <td>9.3</td>\n",
       "      <td>0.30</td>\n",
       "      <td>0.73</td>\n",
       "      <td>2.30</td>\n",
       "      <td>0.092</td>\n",
       "      <td>30.0</td>\n",
       "      <td>67.0</td>\n",
       "      <td>0.99854</td>\n",
       "      <td>3.32</td>\n",
       "      <td>0.67</td>\n",
       "      <td>12.8</td>\n",
       "    </tr>\n",
       "    <tr>\n",
       "      <th>2</th>\n",
       "      <td>7.1</td>\n",
       "      <td>0.51</td>\n",
       "      <td>0.03</td>\n",
       "      <td>2.10</td>\n",
       "      <td>0.059</td>\n",
       "      <td>3.0</td>\n",
       "      <td>12.0</td>\n",
       "      <td>0.99660</td>\n",
       "      <td>3.52</td>\n",
       "      <td>0.73</td>\n",
       "      <td>11.3</td>\n",
       "    </tr>\n",
       "    <tr>\n",
       "      <th>3</th>\n",
       "      <td>8.1</td>\n",
       "      <td>0.87</td>\n",
       "      <td>0.22</td>\n",
       "      <td>2.60</td>\n",
       "      <td>0.084</td>\n",
       "      <td>11.0</td>\n",
       "      <td>65.0</td>\n",
       "      <td>0.99730</td>\n",
       "      <td>3.20</td>\n",
       "      <td>0.53</td>\n",
       "      <td>9.8</td>\n",
       "    </tr>\n",
       "    <tr>\n",
       "      <th>4</th>\n",
       "      <td>8.5</td>\n",
       "      <td>0.36</td>\n",
       "      <td>0.30</td>\n",
       "      <td>2.30</td>\n",
       "      <td>0.079</td>\n",
       "      <td>10.0</td>\n",
       "      <td>45.0</td>\n",
       "      <td>0.99444</td>\n",
       "      <td>3.20</td>\n",
       "      <td>1.36</td>\n",
       "      <td>9.5</td>\n",
       "    </tr>\n",
       "    <tr>\n",
       "      <th>...</th>\n",
       "      <td>...</td>\n",
       "      <td>...</td>\n",
       "      <td>...</td>\n",
       "      <td>...</td>\n",
       "      <td>...</td>\n",
       "      <td>...</td>\n",
       "      <td>...</td>\n",
       "      <td>...</td>\n",
       "      <td>...</td>\n",
       "      <td>...</td>\n",
       "      <td>...</td>\n",
       "    </tr>\n",
       "    <tr>\n",
       "      <th>2051</th>\n",
       "      <td>6.6</td>\n",
       "      <td>0.31</td>\n",
       "      <td>0.13</td>\n",
       "      <td>2.00</td>\n",
       "      <td>0.056</td>\n",
       "      <td>29.0</td>\n",
       "      <td>42.0</td>\n",
       "      <td>0.99388</td>\n",
       "      <td>3.52</td>\n",
       "      <td>0.87</td>\n",
       "      <td>12.0</td>\n",
       "    </tr>\n",
       "    <tr>\n",
       "      <th>2052</th>\n",
       "      <td>9.7</td>\n",
       "      <td>0.59</td>\n",
       "      <td>0.21</td>\n",
       "      <td>1.80</td>\n",
       "      <td>0.079</td>\n",
       "      <td>27.0</td>\n",
       "      <td>65.0</td>\n",
       "      <td>0.99745</td>\n",
       "      <td>3.14</td>\n",
       "      <td>0.58</td>\n",
       "      <td>9.4</td>\n",
       "    </tr>\n",
       "    <tr>\n",
       "      <th>2053</th>\n",
       "      <td>7.7</td>\n",
       "      <td>0.43</td>\n",
       "      <td>0.42</td>\n",
       "      <td>1.70</td>\n",
       "      <td>0.071</td>\n",
       "      <td>19.0</td>\n",
       "      <td>37.0</td>\n",
       "      <td>0.99258</td>\n",
       "      <td>3.32</td>\n",
       "      <td>0.77</td>\n",
       "      <td>12.5</td>\n",
       "    </tr>\n",
       "    <tr>\n",
       "      <th>2054</th>\n",
       "      <td>9.1</td>\n",
       "      <td>0.50</td>\n",
       "      <td>0.00</td>\n",
       "      <td>1.75</td>\n",
       "      <td>0.058</td>\n",
       "      <td>5.0</td>\n",
       "      <td>13.0</td>\n",
       "      <td>0.99670</td>\n",
       "      <td>3.22</td>\n",
       "      <td>0.42</td>\n",
       "      <td>9.5</td>\n",
       "    </tr>\n",
       "    <tr>\n",
       "      <th>2055</th>\n",
       "      <td>6.2</td>\n",
       "      <td>0.31</td>\n",
       "      <td>0.18</td>\n",
       "      <td>2.30</td>\n",
       "      <td>0.059</td>\n",
       "      <td>12.0</td>\n",
       "      <td>28.0</td>\n",
       "      <td>0.99520</td>\n",
       "      <td>3.56</td>\n",
       "      <td>0.88</td>\n",
       "      <td>11.4</td>\n",
       "    </tr>\n",
       "  </tbody>\n",
       "</table>\n",
       "<p>2056 rows × 11 columns</p>\n",
       "</div>"
      ],
      "text/plain": [
       "      fixed acidity  volatile acidity  citric acid  residual sugar  chlorides  \\\n",
       "0               8.0              0.50         0.39            2.20      0.073   \n",
       "1               9.3              0.30         0.73            2.30      0.092   \n",
       "2               7.1              0.51         0.03            2.10      0.059   \n",
       "3               8.1              0.87         0.22            2.60      0.084   \n",
       "4               8.5              0.36         0.30            2.30      0.079   \n",
       "...             ...               ...          ...             ...        ...   \n",
       "2051            6.6              0.31         0.13            2.00      0.056   \n",
       "2052            9.7              0.59         0.21            1.80      0.079   \n",
       "2053            7.7              0.43         0.42            1.70      0.071   \n",
       "2054            9.1              0.50         0.00            1.75      0.058   \n",
       "2055            6.2              0.31         0.18            2.30      0.059   \n",
       "\n",
       "      free sulfur dioxide  total sulfur dioxide  density    pH  sulphates  \\\n",
       "0                    30.0                  39.0  0.99572  3.33       0.77   \n",
       "1                    30.0                  67.0  0.99854  3.32       0.67   \n",
       "2                     3.0                  12.0  0.99660  3.52       0.73   \n",
       "3                    11.0                  65.0  0.99730  3.20       0.53   \n",
       "4                    10.0                  45.0  0.99444  3.20       1.36   \n",
       "...                   ...                   ...      ...   ...        ...   \n",
       "2051                 29.0                  42.0  0.99388  3.52       0.87   \n",
       "2052                 27.0                  65.0  0.99745  3.14       0.58   \n",
       "2053                 19.0                  37.0  0.99258  3.32       0.77   \n",
       "2054                  5.0                  13.0  0.99670  3.22       0.42   \n",
       "2055                 12.0                  28.0  0.99520  3.56       0.88   \n",
       "\n",
       "      alcohol  \n",
       "0        12.1  \n",
       "1        12.8  \n",
       "2        11.3  \n",
       "3         9.8  \n",
       "4         9.5  \n",
       "...       ...  \n",
       "2051     12.0  \n",
       "2052      9.4  \n",
       "2053     12.5  \n",
       "2054      9.5  \n",
       "2055     11.4  \n",
       "\n",
       "[2056 rows x 11 columns]"
      ]
     },
     "execution_count": 19,
     "metadata": {},
     "output_type": "execute_result"
    }
   ],
   "source": [
    "X"
   ]
  },
  {
   "cell_type": "code",
   "execution_count": 20,
   "metadata": {
    "execution": {
     "iopub.execute_input": "2023-02-19T10:27:46.186035Z",
     "iopub.status.busy": "2023-02-19T10:27:46.185599Z",
     "iopub.status.idle": "2023-02-19T10:27:46.194424Z",
     "shell.execute_reply": "2023-02-19T10:27:46.193076Z",
     "shell.execute_reply.started": "2023-02-19T10:27:46.186001Z"
    }
   },
   "outputs": [
    {
     "data": {
      "text/plain": [
       "0       6\n",
       "1       6\n",
       "2       7\n",
       "3       5\n",
       "4       6\n",
       "       ..\n",
       "2051    7\n",
       "2052    5\n",
       "2053    8\n",
       "2054    5\n",
       "2055    7\n",
       "Name: quality, Length: 2056, dtype: category\n",
       "Categories (6, int64): [3, 4, 5, 6, 7, 8]"
      ]
     },
     "execution_count": 20,
     "metadata": {},
     "output_type": "execute_result"
    }
   ],
   "source": [
    "y"
   ]
  },
  {
   "cell_type": "code",
   "execution_count": 21,
   "metadata": {
    "execution": {
     "iopub.execute_input": "2023-02-19T10:27:55.213667Z",
     "iopub.status.busy": "2023-02-19T10:27:55.213075Z",
     "iopub.status.idle": "2023-02-19T10:27:55.348241Z",
     "shell.execute_reply": "2023-02-19T10:27:55.346568Z",
     "shell.execute_reply.started": "2023-02-19T10:27:55.213625Z"
    }
   },
   "outputs": [],
   "source": [
    "from sklearn.model_selection import train_test_split\n",
    "X_train, X_val, y_train, y_val = train_test_split(X,y, stratify = y,test_size=0.3,random_state=107)"
   ]
  },
  {
   "cell_type": "code",
   "execution_count": 22,
   "metadata": {
    "execution": {
     "iopub.execute_input": "2023-02-19T10:28:01.927163Z",
     "iopub.status.busy": "2023-02-19T10:28:01.926736Z",
     "iopub.status.idle": "2023-02-19T10:28:01.934581Z",
     "shell.execute_reply": "2023-02-19T10:28:01.933120Z",
     "shell.execute_reply.started": "2023-02-19T10:28:01.927135Z"
    }
   },
   "outputs": [
    {
     "name": "stdout",
     "output_type": "stream",
     "text": [
      "X_train is: (1439, 11)\n",
      "X_val is: (617, 11)\n",
      "X_train is: (1439,)\n",
      "X_val is: (617,)\n"
     ]
    }
   ],
   "source": [
    "print(\"X_train is:\", X_train.shape)\n",
    "print(\"X_val is:\", X_val.shape)\n",
    "print(\"X_train is:\", y_train.shape)\n",
    "print(\"X_val is:\", y_val.shape)"
   ]
  },
  {
   "cell_type": "code",
   "execution_count": 23,
   "metadata": {
    "execution": {
     "iopub.execute_input": "2023-02-19T10:28:08.364342Z",
     "iopub.status.busy": "2023-02-19T10:28:08.363872Z",
     "iopub.status.idle": "2023-02-19T10:28:08.377343Z",
     "shell.execute_reply": "2023-02-19T10:28:08.374303Z",
     "shell.execute_reply.started": "2023-02-19T10:28:08.364302Z"
    }
   },
   "outputs": [
    {
     "data": {
      "text/plain": [
       "fixed acidity           0\n",
       "volatile acidity        0\n",
       "citric acid             0\n",
       "residual sugar          0\n",
       "chlorides               0\n",
       "free sulfur dioxide     0\n",
       "total sulfur dioxide    0\n",
       "density                 0\n",
       "pH                      0\n",
       "sulphates               0\n",
       "alcohol                 0\n",
       "dtype: int64"
      ]
     },
     "execution_count": 23,
     "metadata": {},
     "output_type": "execute_result"
    }
   ],
   "source": [
    "X_train.isnull().sum()"
   ]
  },
  {
   "cell_type": "code",
   "execution_count": 24,
   "metadata": {
    "execution": {
     "iopub.execute_input": "2023-02-19T10:28:13.228490Z",
     "iopub.status.busy": "2023-02-19T10:28:13.227835Z",
     "iopub.status.idle": "2023-02-19T10:28:13.237747Z",
     "shell.execute_reply": "2023-02-19T10:28:13.236638Z",
     "shell.execute_reply.started": "2023-02-19T10:28:13.228438Z"
    }
   },
   "outputs": [
    {
     "data": {
      "text/plain": [
       "fixed acidity           0\n",
       "volatile acidity        0\n",
       "citric acid             0\n",
       "residual sugar          0\n",
       "chlorides               0\n",
       "free sulfur dioxide     0\n",
       "total sulfur dioxide    0\n",
       "density                 0\n",
       "pH                      0\n",
       "sulphates               0\n",
       "alcohol                 0\n",
       "dtype: int64"
      ]
     },
     "execution_count": 24,
     "metadata": {},
     "output_type": "execute_result"
    }
   ],
   "source": [
    "X_val.isnull().sum()"
   ]
  },
  {
   "cell_type": "code",
   "execution_count": 25,
   "metadata": {
    "execution": {
     "iopub.execute_input": "2023-02-19T10:28:18.924581Z",
     "iopub.status.busy": "2023-02-19T10:28:18.924160Z",
     "iopub.status.idle": "2023-02-19T10:28:18.932615Z",
     "shell.execute_reply": "2023-02-19T10:28:18.930774Z",
     "shell.execute_reply.started": "2023-02-19T10:28:18.924547Z"
    }
   },
   "outputs": [
    {
     "data": {
      "text/plain": [
       "0"
      ]
     },
     "execution_count": 25,
     "metadata": {},
     "output_type": "execute_result"
    }
   ],
   "source": [
    "y_train.isnull().sum()"
   ]
  },
  {
   "cell_type": "code",
   "execution_count": 26,
   "metadata": {
    "execution": {
     "iopub.execute_input": "2023-02-19T10:28:23.388980Z",
     "iopub.status.busy": "2023-02-19T10:28:23.388601Z",
     "iopub.status.idle": "2023-02-19T10:28:23.396738Z",
     "shell.execute_reply": "2023-02-19T10:28:23.395778Z",
     "shell.execute_reply.started": "2023-02-19T10:28:23.388949Z"
    }
   },
   "outputs": [
    {
     "data": {
      "text/plain": [
       "0"
      ]
     },
     "execution_count": 26,
     "metadata": {},
     "output_type": "execute_result"
    }
   ],
   "source": [
    "y_val.isnull().sum()"
   ]
  },
  {
   "cell_type": "code",
   "execution_count": 27,
   "metadata": {
    "execution": {
     "iopub.execute_input": "2023-02-19T10:28:28.856174Z",
     "iopub.status.busy": "2023-02-19T10:28:28.855842Z",
     "iopub.status.idle": "2023-02-19T10:28:28.860393Z",
     "shell.execute_reply": "2023-02-19T10:28:28.859579Z",
     "shell.execute_reply.started": "2023-02-19T10:28:28.856148Z"
    }
   },
   "outputs": [],
   "source": [
    "from sklearn.preprocessing import StandardScaler"
   ]
  },
  {
   "cell_type": "code",
   "execution_count": 28,
   "metadata": {
    "execution": {
     "iopub.execute_input": "2023-02-19T10:28:34.441266Z",
     "iopub.status.busy": "2023-02-19T10:28:34.440912Z",
     "iopub.status.idle": "2023-02-19T10:28:34.449754Z",
     "shell.execute_reply": "2023-02-19T10:28:34.448754Z",
     "shell.execute_reply.started": "2023-02-19T10:28:34.441238Z"
    }
   },
   "outputs": [],
   "source": [
    "# fitting the X_train[num_cols] in standardization model\n",
    "scaler = StandardScaler()\n",
    "scaler = scaler.fit(X_train[num_cols])"
   ]
  },
  {
   "cell_type": "code",
   "execution_count": 29,
   "metadata": {
    "execution": {
     "iopub.execute_input": "2023-02-19T10:28:43.772246Z",
     "iopub.status.busy": "2023-02-19T10:28:43.771845Z",
     "iopub.status.idle": "2023-02-19T10:28:43.784921Z",
     "shell.execute_reply": "2023-02-19T10:28:43.783323Z",
     "shell.execute_reply.started": "2023-02-19T10:28:43.772214Z"
    }
   },
   "outputs": [],
   "source": [
    "# fitting the X_train[num_cols] and X_test[num_cols] in standardization model\n",
    "X_train_std = pd.DataFrame(scaler.transform(X_train[num_cols]), columns = X_train[num_cols].columns)\n",
    "X_val_std = pd.DataFrame(scaler.transform(X_val[num_cols]), columns = X_val[num_cols].columns)"
   ]
  },
  {
   "cell_type": "code",
   "execution_count": 30,
   "metadata": {
    "execution": {
     "iopub.execute_input": "2023-02-19T10:28:53.335773Z",
     "iopub.status.busy": "2023-02-19T10:28:53.335276Z",
     "iopub.status.idle": "2023-02-19T10:28:53.356072Z",
     "shell.execute_reply": "2023-02-19T10:28:53.355240Z",
     "shell.execute_reply.started": "2023-02-19T10:28:53.335713Z"
    }
   },
   "outputs": [
    {
     "data": {
      "text/html": [
       "<div>\n",
       "<style scoped>\n",
       "    .dataframe tbody tr th:only-of-type {\n",
       "        vertical-align: middle;\n",
       "    }\n",
       "\n",
       "    .dataframe tbody tr th {\n",
       "        vertical-align: top;\n",
       "    }\n",
       "\n",
       "    .dataframe thead th {\n",
       "        text-align: right;\n",
       "    }\n",
       "</style>\n",
       "<table border=\"1\" class=\"dataframe\">\n",
       "  <thead>\n",
       "    <tr style=\"text-align: right;\">\n",
       "      <th></th>\n",
       "      <th>fixed acidity</th>\n",
       "      <th>volatile acidity</th>\n",
       "      <th>citric acid</th>\n",
       "      <th>residual sugar</th>\n",
       "      <th>chlorides</th>\n",
       "      <th>free sulfur dioxide</th>\n",
       "      <th>total sulfur dioxide</th>\n",
       "      <th>density</th>\n",
       "      <th>pH</th>\n",
       "      <th>sulphates</th>\n",
       "      <th>alcohol</th>\n",
       "    </tr>\n",
       "  </thead>\n",
       "  <tbody>\n",
       "    <tr>\n",
       "      <th>0</th>\n",
       "      <td>0.842064</td>\n",
       "      <td>-0.675402</td>\n",
       "      <td>1.195531</td>\n",
       "      <td>-0.118918</td>\n",
       "      <td>0.093637</td>\n",
       "      <td>1.824520</td>\n",
       "      <td>3.198896</td>\n",
       "      <td>0.448398</td>\n",
       "      <td>-0.700106</td>\n",
       "      <td>3.239693</td>\n",
       "      <td>-1.061115</td>\n",
       "    </tr>\n",
       "    <tr>\n",
       "      <th>1</th>\n",
       "      <td>-0.336375</td>\n",
       "      <td>0.408599</td>\n",
       "      <td>-1.365097</td>\n",
       "      <td>0.343419</td>\n",
       "      <td>-0.443013</td>\n",
       "      <td>1.925333</td>\n",
       "      <td>-0.027966</td>\n",
       "      <td>-0.790007</td>\n",
       "      <td>0.094700</td>\n",
       "      <td>-0.574277</td>\n",
       "      <td>0.394597</td>\n",
       "    </tr>\n",
       "    <tr>\n",
       "      <th>2</th>\n",
       "      <td>-0.748829</td>\n",
       "      <td>1.834915</td>\n",
       "      <td>-1.418444</td>\n",
       "      <td>-1.274759</td>\n",
       "      <td>-0.085246</td>\n",
       "      <td>-1.199883</td>\n",
       "      <td>-1.082901</td>\n",
       "      <td>0.069067</td>\n",
       "      <td>1.034016</td>\n",
       "      <td>-1.161042</td>\n",
       "      <td>-0.867020</td>\n",
       "    </tr>\n",
       "    <tr>\n",
       "      <th>3</th>\n",
       "      <td>-0.277453</td>\n",
       "      <td>-0.903613</td>\n",
       "      <td>-0.084783</td>\n",
       "      <td>-0.003333</td>\n",
       "      <td>-3.126264</td>\n",
       "      <td>-0.090935</td>\n",
       "      <td>1.151080</td>\n",
       "      <td>-0.193118</td>\n",
       "      <td>0.889506</td>\n",
       "      <td>0.672598</td>\n",
       "      <td>0.006407</td>\n",
       "    </tr>\n",
       "    <tr>\n",
       "      <th>4</th>\n",
       "      <td>-0.807751</td>\n",
       "      <td>2.433969</td>\n",
       "      <td>-1.418444</td>\n",
       "      <td>-0.003333</td>\n",
       "      <td>-1.069105</td>\n",
       "      <td>1.219639</td>\n",
       "      <td>-0.027966</td>\n",
       "      <td>-1.771805</td>\n",
       "      <td>0.383720</td>\n",
       "      <td>-1.161042</td>\n",
       "      <td>1.947356</td>\n",
       "    </tr>\n",
       "    <tr>\n",
       "      <th>...</th>\n",
       "      <td>...</td>\n",
       "      <td>...</td>\n",
       "      <td>...</td>\n",
       "      <td>...</td>\n",
       "      <td>...</td>\n",
       "      <td>...</td>\n",
       "      <td>...</td>\n",
       "      <td>...</td>\n",
       "      <td>...</td>\n",
       "      <td>...</td>\n",
       "      <td>...</td>\n",
       "    </tr>\n",
       "    <tr>\n",
       "      <th>612</th>\n",
       "      <td>-0.630985</td>\n",
       "      <td>0.636809</td>\n",
       "      <td>-0.404862</td>\n",
       "      <td>-0.465670</td>\n",
       "      <td>0.183079</td>\n",
       "      <td>0.211505</td>\n",
       "      <td>0.282309</td>\n",
       "      <td>0.336830</td>\n",
       "      <td>2.045588</td>\n",
       "      <td>-0.134204</td>\n",
       "      <td>-0.575878</td>\n",
       "    </tr>\n",
       "    <tr>\n",
       "      <th>613</th>\n",
       "      <td>-0.925594</td>\n",
       "      <td>0.237441</td>\n",
       "      <td>-0.618248</td>\n",
       "      <td>-0.928007</td>\n",
       "      <td>0.898613</td>\n",
       "      <td>0.715572</td>\n",
       "      <td>0.282309</td>\n",
       "      <td>-0.332578</td>\n",
       "      <td>0.744996</td>\n",
       "      <td>-0.354240</td>\n",
       "      <td>-0.575878</td>\n",
       "    </tr>\n",
       "    <tr>\n",
       "      <th>614</th>\n",
       "      <td>-0.689907</td>\n",
       "      <td>0.693862</td>\n",
       "      <td>-1.365097</td>\n",
       "      <td>0.227835</td>\n",
       "      <td>0.496125</td>\n",
       "      <td>2.530214</td>\n",
       "      <td>0.065117</td>\n",
       "      <td>0.113694</td>\n",
       "      <td>1.467547</td>\n",
       "      <td>0.525907</td>\n",
       "      <td>0.394597</td>\n",
       "    </tr>\n",
       "    <tr>\n",
       "      <th>615</th>\n",
       "      <td>-0.689907</td>\n",
       "      <td>0.551230</td>\n",
       "      <td>-0.778287</td>\n",
       "      <td>0.227835</td>\n",
       "      <td>0.988054</td>\n",
       "      <td>-0.292562</td>\n",
       "      <td>-0.741599</td>\n",
       "      <td>-0.483195</td>\n",
       "      <td>1.467547</td>\n",
       "      <td>0.379216</td>\n",
       "      <td>0.394597</td>\n",
       "    </tr>\n",
       "    <tr>\n",
       "      <th>616</th>\n",
       "      <td>0.429610</td>\n",
       "      <td>-0.447191</td>\n",
       "      <td>0.875452</td>\n",
       "      <td>-0.118918</td>\n",
       "      <td>0.004195</td>\n",
       "      <td>0.715572</td>\n",
       "      <td>0.468475</td>\n",
       "      <td>1.062022</td>\n",
       "      <td>-1.133637</td>\n",
       "      <td>0.305870</td>\n",
       "      <td>-1.061115</td>\n",
       "    </tr>\n",
       "  </tbody>\n",
       "</table>\n",
       "<p>617 rows × 11 columns</p>\n",
       "</div>"
      ],
      "text/plain": [
       "     fixed acidity  volatile acidity  citric acid  residual sugar  chlorides  \\\n",
       "0         0.842064         -0.675402     1.195531       -0.118918   0.093637   \n",
       "1        -0.336375          0.408599    -1.365097        0.343419  -0.443013   \n",
       "2        -0.748829          1.834915    -1.418444       -1.274759  -0.085246   \n",
       "3        -0.277453         -0.903613    -0.084783       -0.003333  -3.126264   \n",
       "4        -0.807751          2.433969    -1.418444       -0.003333  -1.069105   \n",
       "..             ...               ...          ...             ...        ...   \n",
       "612      -0.630985          0.636809    -0.404862       -0.465670   0.183079   \n",
       "613      -0.925594          0.237441    -0.618248       -0.928007   0.898613   \n",
       "614      -0.689907          0.693862    -1.365097        0.227835   0.496125   \n",
       "615      -0.689907          0.551230    -0.778287        0.227835   0.988054   \n",
       "616       0.429610         -0.447191     0.875452       -0.118918   0.004195   \n",
       "\n",
       "     free sulfur dioxide  total sulfur dioxide   density        pH  sulphates  \\\n",
       "0               1.824520              3.198896  0.448398 -0.700106   3.239693   \n",
       "1               1.925333             -0.027966 -0.790007  0.094700  -0.574277   \n",
       "2              -1.199883             -1.082901  0.069067  1.034016  -1.161042   \n",
       "3              -0.090935              1.151080 -0.193118  0.889506   0.672598   \n",
       "4               1.219639             -0.027966 -1.771805  0.383720  -1.161042   \n",
       "..                   ...                   ...       ...       ...        ...   \n",
       "612             0.211505              0.282309  0.336830  2.045588  -0.134204   \n",
       "613             0.715572              0.282309 -0.332578  0.744996  -0.354240   \n",
       "614             2.530214              0.065117  0.113694  1.467547   0.525907   \n",
       "615            -0.292562             -0.741599 -0.483195  1.467547   0.379216   \n",
       "616             0.715572              0.468475  1.062022 -1.133637   0.305870   \n",
       "\n",
       "      alcohol  \n",
       "0   -1.061115  \n",
       "1    0.394597  \n",
       "2   -0.867020  \n",
       "3    0.006407  \n",
       "4    1.947356  \n",
       "..        ...  \n",
       "612 -0.575878  \n",
       "613 -0.575878  \n",
       "614  0.394597  \n",
       "615  0.394597  \n",
       "616 -1.061115  \n",
       "\n",
       "[617 rows x 11 columns]"
      ]
     },
     "execution_count": 30,
     "metadata": {},
     "output_type": "execute_result"
    }
   ],
   "source": [
    "X_val_std"
   ]
  },
  {
   "cell_type": "code",
   "execution_count": 31,
   "metadata": {
    "execution": {
     "iopub.execute_input": "2023-02-19T10:29:52.698923Z",
     "iopub.status.busy": "2023-02-19T10:29:52.698514Z",
     "iopub.status.idle": "2023-02-19T10:29:52.703342Z",
     "shell.execute_reply": "2023-02-19T10:29:52.702453Z",
     "shell.execute_reply.started": "2023-02-19T10:29:52.698890Z"
    }
   },
   "outputs": [],
   "source": [
    "final_X_train = X_train_std"
   ]
  },
  {
   "cell_type": "code",
   "execution_count": 32,
   "metadata": {
    "execution": {
     "iopub.execute_input": "2023-02-19T10:29:57.994235Z",
     "iopub.status.busy": "2023-02-19T10:29:57.993890Z",
     "iopub.status.idle": "2023-02-19T10:29:57.998357Z",
     "shell.execute_reply": "2023-02-19T10:29:57.997434Z",
     "shell.execute_reply.started": "2023-02-19T10:29:57.994208Z"
    }
   },
   "outputs": [],
   "source": [
    "final_X_val = X_val_std"
   ]
  },
  {
   "cell_type": "code",
   "execution_count": 33,
   "metadata": {
    "execution": {
     "iopub.execute_input": "2023-02-19T10:30:04.156391Z",
     "iopub.status.busy": "2023-02-19T10:30:04.156035Z",
     "iopub.status.idle": "2023-02-19T10:30:04.166933Z",
     "shell.execute_reply": "2023-02-19T10:30:04.165700Z",
     "shell.execute_reply.started": "2023-02-19T10:30:04.156363Z"
    }
   },
   "outputs": [
    {
     "data": {
      "text/plain": [
       "fixed acidity           0\n",
       "volatile acidity        0\n",
       "citric acid             0\n",
       "residual sugar          0\n",
       "chlorides               0\n",
       "free sulfur dioxide     0\n",
       "total sulfur dioxide    0\n",
       "density                 0\n",
       "pH                      0\n",
       "sulphates               0\n",
       "alcohol                 0\n",
       "dtype: int64"
      ]
     },
     "execution_count": 33,
     "metadata": {},
     "output_type": "execute_result"
    }
   ],
   "source": [
    "final_X_train.isnull().sum()"
   ]
  },
  {
   "cell_type": "code",
   "execution_count": 34,
   "metadata": {
    "execution": {
     "iopub.execute_input": "2023-02-19T10:30:13.248758Z",
     "iopub.status.busy": "2023-02-19T10:30:13.248310Z",
     "iopub.status.idle": "2023-02-19T10:30:13.257477Z",
     "shell.execute_reply": "2023-02-19T10:30:13.256148Z",
     "shell.execute_reply.started": "2023-02-19T10:30:13.248723Z"
    }
   },
   "outputs": [
    {
     "data": {
      "text/plain": [
       "fixed acidity           0\n",
       "volatile acidity        0\n",
       "citric acid             0\n",
       "residual sugar          0\n",
       "chlorides               0\n",
       "free sulfur dioxide     0\n",
       "total sulfur dioxide    0\n",
       "density                 0\n",
       "pH                      0\n",
       "sulphates               0\n",
       "alcohol                 0\n",
       "dtype: int64"
      ]
     },
     "execution_count": 34,
     "metadata": {},
     "output_type": "execute_result"
    }
   ],
   "source": [
    "final_X_val.isnull().sum()"
   ]
  },
  {
   "cell_type": "markdown",
   "metadata": {},
   "source": [
    "## SVM"
   ]
  },
  {
   "cell_type": "code",
   "execution_count": 35,
   "metadata": {
    "execution": {
     "iopub.execute_input": "2023-02-19T10:31:48.127806Z",
     "iopub.status.busy": "2023-02-19T10:31:48.127338Z",
     "iopub.status.idle": "2023-02-19T10:31:48.207455Z",
     "shell.execute_reply": "2023-02-19T10:31:48.206286Z",
     "shell.execute_reply.started": "2023-02-19T10:31:48.127773Z"
    }
   },
   "outputs": [],
   "source": [
    "from sklearn.svm import SVC"
   ]
  },
  {
   "cell_type": "code",
   "execution_count": 36,
   "metadata": {
    "execution": {
     "iopub.execute_input": "2023-02-19T10:32:03.056933Z",
     "iopub.status.busy": "2023-02-19T10:32:03.056550Z",
     "iopub.status.idle": "2023-02-19T10:32:03.120726Z",
     "shell.execute_reply": "2023-02-19T10:32:03.119502Z",
     "shell.execute_reply.started": "2023-02-19T10:32:03.056901Z"
    }
   },
   "outputs": [
    {
     "data": {
      "text/plain": [
       "SVC(C=0.01, kernel='linear')"
      ]
     },
     "execution_count": 36,
     "metadata": {},
     "output_type": "execute_result"
    }
   ],
   "source": [
    "# model building by SVM algorithm\n",
    "svm_model = SVC(kernel=\"linear\", C = 0.01)\n",
    "svm_model = svm_model.fit(final_X_train,y_train)\n",
    "svm_model"
   ]
  },
  {
   "cell_type": "code",
   "execution_count": 37,
   "metadata": {
    "execution": {
     "iopub.execute_input": "2023-02-19T10:32:10.877407Z",
     "iopub.status.busy": "2023-02-19T10:32:10.876997Z",
     "iopub.status.idle": "2023-02-19T10:32:10.933400Z",
     "shell.execute_reply": "2023-02-19T10:32:10.931652Z",
     "shell.execute_reply.started": "2023-02-19T10:32:10.877373Z"
    }
   },
   "outputs": [
    {
     "data": {
      "text/plain": [
       "array([5, 6, 5, 5, 5, 5, 5, 5, 6, 5])"
      ]
     },
     "execution_count": 37,
     "metadata": {},
     "output_type": "execute_result"
    }
   ],
   "source": [
    "# predicting the y value for the train data\n",
    "svm_model_y_train_preds = svm_model.predict(final_X_train)\n",
    "svm_model_y_train_preds[0:10]"
   ]
  },
  {
   "cell_type": "code",
   "execution_count": 38,
   "metadata": {
    "execution": {
     "iopub.execute_input": "2023-02-19T10:32:17.792060Z",
     "iopub.status.busy": "2023-02-19T10:32:17.791631Z",
     "iopub.status.idle": "2023-02-19T10:32:17.821797Z",
     "shell.execute_reply": "2023-02-19T10:32:17.820622Z",
     "shell.execute_reply.started": "2023-02-19T10:32:17.792026Z"
    }
   },
   "outputs": [
    {
     "data": {
      "text/plain": [
       "array([6, 6, 5, 6, 6, 6, 5, 5, 5, 5])"
      ]
     },
     "execution_count": 38,
     "metadata": {},
     "output_type": "execute_result"
    }
   ],
   "source": [
    "# predicting the y value for the val data\n",
    "svm_model_y_val_preds = svm_model.predict(final_X_val)\n",
    "svm_model_y_val_preds[0:10]"
   ]
  },
  {
   "cell_type": "code",
   "execution_count": 39,
   "metadata": {
    "execution": {
     "iopub.execute_input": "2023-02-19T10:32:25.638027Z",
     "iopub.status.busy": "2023-02-19T10:32:25.637655Z",
     "iopub.status.idle": "2023-02-19T10:32:25.644209Z",
     "shell.execute_reply": "2023-02-19T10:32:25.642762Z",
     "shell.execute_reply.started": "2023-02-19T10:32:25.638000Z"
    }
   },
   "outputs": [],
   "source": [
    "# import libraries of confusion_matrix and accuracy and recall\n",
    "from sklearn.metrics import confusion_matrix\n",
    "from sklearn.metrics import accuracy_score,recall_score"
   ]
  },
  {
   "cell_type": "code",
   "execution_count": 40,
   "metadata": {
    "execution": {
     "iopub.execute_input": "2023-02-19T10:32:31.182166Z",
     "iopub.status.busy": "2023-02-19T10:32:31.181764Z",
     "iopub.status.idle": "2023-02-19T10:32:31.193638Z",
     "shell.execute_reply": "2023-02-19T10:32:31.192794Z",
     "shell.execute_reply.started": "2023-02-19T10:32:31.182135Z"
    }
   },
   "outputs": [
    {
     "data": {
      "text/plain": [
       "array([[  0,   0,   5,   3,   0,   0],\n",
       "       [  0,   0,  26,  13,   0,   0],\n",
       "       [  0,   0, 471, 116,   0,   0],\n",
       "       [  0,   0, 202, 343,   0,   0],\n",
       "       [  0,   0,  37, 196,   0,   0],\n",
       "       [  0,   0,   3,  24,   0,   0]])"
      ]
     },
     "execution_count": 40,
     "metadata": {},
     "output_type": "execute_result"
    }
   ],
   "source": [
    "# finding the confusion_matrix for y_train actuals and y_train_predicts\n",
    "confusionmatrix = confusion_matrix(y_train,svm_model_y_train_preds)\n",
    "confusionmatrix"
   ]
  },
  {
   "cell_type": "code",
   "execution_count": 41,
   "metadata": {
    "execution": {
     "iopub.execute_input": "2023-02-19T10:32:48.004949Z",
     "iopub.status.busy": "2023-02-19T10:32:48.003907Z",
     "iopub.status.idle": "2023-02-19T10:32:48.012976Z",
     "shell.execute_reply": "2023-02-19T10:32:48.012065Z",
     "shell.execute_reply.started": "2023-02-19T10:32:48.004906Z"
    }
   },
   "outputs": [
    {
     "data": {
      "text/plain": [
       "array([[  0,   0,   3,   1,   0,   0],\n",
       "       [  0,   0,  13,   3,   0,   0],\n",
       "       [  0,   0, 187,  65,   0,   0],\n",
       "       [  0,   0,  79, 154,   0,   0],\n",
       "       [  0,   0,  12,  88,   0,   0],\n",
       "       [  0,   0,   0,  12,   0,   0]])"
      ]
     },
     "execution_count": 41,
     "metadata": {},
     "output_type": "execute_result"
    }
   ],
   "source": [
    "# finding the confusion_matrix for y_test actuals and y_test_predicts\n",
    "confusionmatrix = confusion_matrix(y_val,svm_model_y_val_preds)\n",
    "confusionmatrix"
   ]
  },
  {
   "cell_type": "code",
   "execution_count": 42,
   "metadata": {
    "execution": {
     "iopub.execute_input": "2023-02-19T10:33:12.268088Z",
     "iopub.status.busy": "2023-02-19T10:33:12.267729Z",
     "iopub.status.idle": "2023-02-19T10:33:12.277517Z",
     "shell.execute_reply": "2023-02-19T10:33:12.276135Z",
     "shell.execute_reply.started": "2023-02-19T10:33:12.268060Z"
    }
   },
   "outputs": [
    {
     "data": {
      "text/plain": [
       "0.5656706045865184"
      ]
     },
     "execution_count": 42,
     "metadata": {},
     "output_type": "execute_result"
    }
   ],
   "source": [
    "# finding the accuracy for y_train_actuals and y_train_predicts\n",
    "accuracy_score(y_train,svm_model_y_train_preds)"
   ]
  },
  {
   "cell_type": "code",
   "execution_count": 43,
   "metadata": {
    "execution": {
     "iopub.execute_input": "2023-02-19T10:33:18.291136Z",
     "iopub.status.busy": "2023-02-19T10:33:18.290742Z",
     "iopub.status.idle": "2023-02-19T10:33:18.300490Z",
     "shell.execute_reply": "2023-02-19T10:33:18.299077Z",
     "shell.execute_reply.started": "2023-02-19T10:33:18.291104Z"
    }
   },
   "outputs": [
    {
     "data": {
      "text/plain": [
       "0.5526742301458671"
      ]
     },
     "execution_count": 43,
     "metadata": {},
     "output_type": "execute_result"
    }
   ],
   "source": [
    "# finding the accuracy for y_test_actuals and y_test_predicts\n",
    "accuracy_score(y_val,svm_model_y_val_preds)"
   ]
  },
  {
   "cell_type": "code",
   "execution_count": 44,
   "metadata": {},
   "outputs": [],
   "source": [
    "import pickle"
   ]
  },
  {
   "cell_type": "code",
   "execution_count": 45,
   "metadata": {},
   "outputs": [
    {
     "name": "stdout",
     "output_type": "stream",
     "text": [
      "saving model as pkl file.......\n"
     ]
    }
   ],
   "source": [
    "print('saving model as pkl file.......')\n",
    "pickle.dump(svm_model, open('wine_quality.pkl','wb'))"
   ]
  },
  {
   "cell_type": "code",
   "execution_count": null,
   "metadata": {},
   "outputs": [],
   "source": []
  }
 ],
 "metadata": {
  "kernelspec": {
   "display_name": "Python 3",
   "language": "python",
   "name": "python3"
  },
  "language_info": {
   "codemirror_mode": {
    "name": "ipython",
    "version": 3
   },
   "file_extension": ".py",
   "mimetype": "text/x-python",
   "name": "python",
   "nbconvert_exporter": "python",
   "pygments_lexer": "ipython3",
   "version": "3.7.6"
  }
 },
 "nbformat": 4,
 "nbformat_minor": 4
}
